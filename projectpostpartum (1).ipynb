{
 "cells": [
  {
   "cell_type": "markdown",
   "id": "68a1142f-ef85-445e-a492-c878762e9b78",
   "metadata": {},
   "source": [
    "# Data Analysis Final Project"
   ]
  },
  {
   "cell_type": "markdown",
   "id": "a2ed24b8-8eff-42cb-a798-9d445cabf419",
   "metadata": {
    "tags": []
   },
   "source": [
    "## Group 27"
   ]
  },
  {
   "cell_type": "markdown",
   "id": "20e915eb-b528-4f30-b7e2-8d51b59687ac",
   "metadata": {},
   "source": [
    "### Students Names :\n",
    " Sivan Hiya , \n",
    " Yuval Bierbach ,\n",
    " Tal Elrom"
   ]
  },
  {
   "cell_type": "code",
   "execution_count": null,
   "id": "460f65fb-c13e-4017-a59d-b1d563196b74",
   "metadata": {
    "tags": []
   },
   "outputs": [],
   "source": [
    "import pandas as pd\n",
    "import numpy as np\n",
    "import matplotlib.pyplot as plt\n",
    "import seaborn as sns"
   ]
  },
  {
   "cell_type": "markdown",
   "id": "c9f0a034-79d0-47c0-968b-c00294bbc6e4",
   "metadata": {},
   "source": [
    "#### Information on the data"
   ]
  },
  {
   "cell_type": "markdown",
   "id": "3ed00ef4-5483-4ad3-a418-d27fb3418ab5",
   "metadata": {
    "tags": []
   },
   "source": [
    "This research was conducted at the ___ HOSPITAL located in ___.\n",
    "\n",
    "The study was conducted on 1503 women who had postpartum depression,the women were asked about the questionnaire in a two-day period.\n",
    "\n",
    "##### There is no missing values in our research"
   ]
  },
  {
   "cell_type": "markdown",
   "id": "7649fcdd-3de0-4c95-b59f-512732530779",
   "metadata": {},
   "source": [
    "מחקר זה נערך בבית החולים ___ שב___ המחקר נערך על 1503 נשים שעברו דיכאון לאחר לידה, הנשים נשאלו על השאלון בפרק זמן של יומיים..במחקר זה לא קיימים נתונים חסרים. "
   ]
  },
  {
   "cell_type": "code",
   "execution_count": 27,
   "id": "620fe381-7831-49fe-83f0-5505957c2fba",
   "metadata": {
    "tags": []
   },
   "outputs": [
    {
     "data": {
      "text/plain": [
       "(1503, 11)"
      ]
     },
     "execution_count": 27,
     "metadata": {},
     "output_type": "execute_result"
    }
   ],
   "source": [
    "url = 'https://raw.githubusercontent.com/sivanhiya/sivanhiya/main/PostPartumData.csv'\n",
    "postp_df = pd.read_csv(url)\n",
    "postp_df.shape"
   ]
  },
  {
   "cell_type": "code",
   "execution_count": 28,
   "id": "a9bd4017-894c-490f-937e-8d8eb9f10eec",
   "metadata": {
    "tags": []
   },
   "outputs": [
    {
     "data": {
      "text/plain": [
       "Index(['Timestamp', 'Age', 'Feeling sad or Tearful',\n",
       "       'Irritable towards baby & partner', 'Trouble sleeping at night',\n",
       "       'Problems concentrating or making decision',\n",
       "       'Overeating or loss of appetite', 'Feeling anxious', 'Feeling of guilt',\n",
       "       'Problems of bonding with baby', 'Suicide attempt'],\n",
       "      dtype='object')"
      ]
     },
     "execution_count": 28,
     "metadata": {},
     "output_type": "execute_result"
    }
   ],
   "source": [
    "postp_df.columns"
   ]
  },
  {
   "cell_type": "code",
   "execution_count": 29,
   "id": "8b3b0760-3c7b-43a7-9ea4-0589ed8e9a50",
   "metadata": {
    "tags": []
   },
   "outputs": [
    {
     "data": {
      "text/html": [
       "<div>\n",
       "<style scoped>\n",
       "    .dataframe tbody tr th:only-of-type {\n",
       "        vertical-align: middle;\n",
       "    }\n",
       "\n",
       "    .dataframe tbody tr th {\n",
       "        vertical-align: top;\n",
       "    }\n",
       "\n",
       "    .dataframe thead th {\n",
       "        text-align: right;\n",
       "    }\n",
       "</style>\n",
       "<table border=\"1\" class=\"dataframe\">\n",
       "  <thead>\n",
       "    <tr style=\"text-align: right;\">\n",
       "      <th></th>\n",
       "      <th>Timestamp</th>\n",
       "      <th>Age</th>\n",
       "      <th>Feeling sad or Tearful</th>\n",
       "      <th>Irritable towards baby &amp; partner</th>\n",
       "      <th>Trouble sleeping at night</th>\n",
       "      <th>Problems concentrating or making decision</th>\n",
       "      <th>Overeating or loss of appetite</th>\n",
       "      <th>Feeling anxious</th>\n",
       "      <th>Feeling of guilt</th>\n",
       "      <th>Problems of bonding with baby</th>\n",
       "      <th>Suicide attempt</th>\n",
       "    </tr>\n",
       "  </thead>\n",
       "  <tbody>\n",
       "    <tr>\n",
       "      <th>0</th>\n",
       "      <td>6/14/2022 20:02</td>\n",
       "      <td>35-40</td>\n",
       "      <td>Yes</td>\n",
       "      <td>Yes</td>\n",
       "      <td>Two or more days a week</td>\n",
       "      <td>Yes</td>\n",
       "      <td>Yes</td>\n",
       "      <td>Yes</td>\n",
       "      <td>No</td>\n",
       "      <td>Yes</td>\n",
       "      <td>Yes</td>\n",
       "    </tr>\n",
       "    <tr>\n",
       "      <th>1</th>\n",
       "      <td>6/14/2022 20:03</td>\n",
       "      <td>40-45</td>\n",
       "      <td>Yes</td>\n",
       "      <td>No</td>\n",
       "      <td>No</td>\n",
       "      <td>Yes</td>\n",
       "      <td>Yes</td>\n",
       "      <td>No</td>\n",
       "      <td>Yes</td>\n",
       "      <td>Yes</td>\n",
       "      <td>No</td>\n",
       "    </tr>\n",
       "    <tr>\n",
       "      <th>2</th>\n",
       "      <td>6/14/2022 20:04</td>\n",
       "      <td>35-40</td>\n",
       "      <td>Yes</td>\n",
       "      <td>No</td>\n",
       "      <td>Yes</td>\n",
       "      <td>Yes</td>\n",
       "      <td>Yes</td>\n",
       "      <td>Yes</td>\n",
       "      <td>No</td>\n",
       "      <td>Sometimes</td>\n",
       "      <td>No</td>\n",
       "    </tr>\n",
       "    <tr>\n",
       "      <th>3</th>\n",
       "      <td>6/14/2022 20:05</td>\n",
       "      <td>35-40</td>\n",
       "      <td>Yes</td>\n",
       "      <td>Yes</td>\n",
       "      <td>Yes</td>\n",
       "      <td>Yes</td>\n",
       "      <td>No</td>\n",
       "      <td>Yes</td>\n",
       "      <td>Maybe</td>\n",
       "      <td>No</td>\n",
       "      <td>No</td>\n",
       "    </tr>\n",
       "    <tr>\n",
       "      <th>4</th>\n",
       "      <td>6/14/2022 20:06</td>\n",
       "      <td>40-45</td>\n",
       "      <td>Yes</td>\n",
       "      <td>No</td>\n",
       "      <td>Two or more days a week</td>\n",
       "      <td>Yes</td>\n",
       "      <td>No</td>\n",
       "      <td>Yes</td>\n",
       "      <td>No</td>\n",
       "      <td>Yes</td>\n",
       "      <td>No</td>\n",
       "    </tr>\n",
       "    <tr>\n",
       "      <th>...</th>\n",
       "      <td>...</td>\n",
       "      <td>...</td>\n",
       "      <td>...</td>\n",
       "      <td>...</td>\n",
       "      <td>...</td>\n",
       "      <td>...</td>\n",
       "      <td>...</td>\n",
       "      <td>...</td>\n",
       "      <td>...</td>\n",
       "      <td>...</td>\n",
       "      <td>...</td>\n",
       "    </tr>\n",
       "    <tr>\n",
       "      <th>1498</th>\n",
       "      <td>6/15/2022 0:35</td>\n",
       "      <td>30-35</td>\n",
       "      <td>Yes</td>\n",
       "      <td>No</td>\n",
       "      <td>Two or more days a week</td>\n",
       "      <td>No</td>\n",
       "      <td>No</td>\n",
       "      <td>Yes</td>\n",
       "      <td>Maybe</td>\n",
       "      <td>Sometimes</td>\n",
       "      <td>No</td>\n",
       "    </tr>\n",
       "    <tr>\n",
       "      <th>1499</th>\n",
       "      <td>6/15/2022 0:35</td>\n",
       "      <td>25-30</td>\n",
       "      <td>Sometimes</td>\n",
       "      <td>No</td>\n",
       "      <td>No</td>\n",
       "      <td>Often</td>\n",
       "      <td>No</td>\n",
       "      <td>Yes</td>\n",
       "      <td>Maybe</td>\n",
       "      <td>Yes</td>\n",
       "      <td>No</td>\n",
       "    </tr>\n",
       "    <tr>\n",
       "      <th>1500</th>\n",
       "      <td>6/15/2022 0:35</td>\n",
       "      <td>25-30</td>\n",
       "      <td>No</td>\n",
       "      <td>Sometimes</td>\n",
       "      <td>Two or more days a week</td>\n",
       "      <td>No</td>\n",
       "      <td>No</td>\n",
       "      <td>No</td>\n",
       "      <td>Yes</td>\n",
       "      <td>No</td>\n",
       "      <td>Not interested to say</td>\n",
       "    </tr>\n",
       "    <tr>\n",
       "      <th>1501</th>\n",
       "      <td>6/15/2022 0:36</td>\n",
       "      <td>25-30</td>\n",
       "      <td>No</td>\n",
       "      <td>Sometimes</td>\n",
       "      <td>Yes</td>\n",
       "      <td>Often</td>\n",
       "      <td>No</td>\n",
       "      <td>Yes</td>\n",
       "      <td>No</td>\n",
       "      <td>No</td>\n",
       "      <td>No</td>\n",
       "    </tr>\n",
       "    <tr>\n",
       "      <th>1502</th>\n",
       "      <td>6/15/2022 0:36</td>\n",
       "      <td>45-50</td>\n",
       "      <td>Sometimes</td>\n",
       "      <td>Sometimes</td>\n",
       "      <td>Two or more days a week</td>\n",
       "      <td>No</td>\n",
       "      <td>No</td>\n",
       "      <td>No</td>\n",
       "      <td>Maybe</td>\n",
       "      <td>No</td>\n",
       "      <td>No</td>\n",
       "    </tr>\n",
       "  </tbody>\n",
       "</table>\n",
       "<p>1503 rows × 11 columns</p>\n",
       "</div>"
      ],
      "text/plain": [
       "            Timestamp    Age Feeling sad or Tearful  \\\n",
       "0     6/14/2022 20:02  35-40                    Yes   \n",
       "1     6/14/2022 20:03  40-45                    Yes   \n",
       "2     6/14/2022 20:04  35-40                    Yes   \n",
       "3     6/14/2022 20:05  35-40                    Yes   \n",
       "4     6/14/2022 20:06  40-45                    Yes   \n",
       "...               ...    ...                    ...   \n",
       "1498   6/15/2022 0:35  30-35                    Yes   \n",
       "1499   6/15/2022 0:35  25-30              Sometimes   \n",
       "1500   6/15/2022 0:35  25-30                     No   \n",
       "1501   6/15/2022 0:36  25-30                     No   \n",
       "1502   6/15/2022 0:36  45-50              Sometimes   \n",
       "\n",
       "     Irritable towards baby & partner Trouble sleeping at night  \\\n",
       "0                                 Yes   Two or more days a week   \n",
       "1                                  No                        No   \n",
       "2                                  No                       Yes   \n",
       "3                                 Yes                       Yes   \n",
       "4                                  No   Two or more days a week   \n",
       "...                               ...                       ...   \n",
       "1498                               No   Two or more days a week   \n",
       "1499                               No                        No   \n",
       "1500                        Sometimes   Two or more days a week   \n",
       "1501                        Sometimes                       Yes   \n",
       "1502                        Sometimes   Two or more days a week   \n",
       "\n",
       "     Problems concentrating or making decision Overeating or loss of appetite  \\\n",
       "0                                          Yes                            Yes   \n",
       "1                                          Yes                            Yes   \n",
       "2                                          Yes                            Yes   \n",
       "3                                          Yes                             No   \n",
       "4                                          Yes                             No   \n",
       "...                                        ...                            ...   \n",
       "1498                                        No                             No   \n",
       "1499                                     Often                             No   \n",
       "1500                                        No                             No   \n",
       "1501                                     Often                             No   \n",
       "1502                                        No                             No   \n",
       "\n",
       "     Feeling anxious Feeling of guilt Problems of bonding with baby  \\\n",
       "0                Yes               No                           Yes   \n",
       "1                 No              Yes                           Yes   \n",
       "2                Yes               No                     Sometimes   \n",
       "3                Yes            Maybe                            No   \n",
       "4                Yes               No                           Yes   \n",
       "...              ...              ...                           ...   \n",
       "1498             Yes            Maybe                     Sometimes   \n",
       "1499             Yes            Maybe                           Yes   \n",
       "1500              No              Yes                            No   \n",
       "1501             Yes               No                            No   \n",
       "1502              No            Maybe                            No   \n",
       "\n",
       "            Suicide attempt  \n",
       "0                       Yes  \n",
       "1                        No  \n",
       "2                        No  \n",
       "3                        No  \n",
       "4                        No  \n",
       "...                     ...  \n",
       "1498                     No  \n",
       "1499                     No  \n",
       "1500  Not interested to say  \n",
       "1501                     No  \n",
       "1502                     No  \n",
       "\n",
       "[1503 rows x 11 columns]"
      ]
     },
     "execution_count": 29,
     "metadata": {},
     "output_type": "execute_result"
    }
   ],
   "source": [
    "postp_df"
   ]
  },
  {
   "cell_type": "code",
   "execution_count": 30,
   "id": "d430bc5e-01c7-4056-8575-61811ab5496d",
   "metadata": {
    "tags": []
   },
   "outputs": [
    {
     "data": {
      "text/plain": [
       "Age  \n",
       "40-45    364\n",
       "35-40    349\n",
       "30-35    338\n",
       "45-50    271\n",
       "25-30    181\n",
       "Name: count, dtype: int64"
      ]
     },
     "execution_count": 30,
     "metadata": {},
     "output_type": "execute_result"
    }
   ],
   "source": [
    "postp_df[[\"Age\"]].value_counts()"
   ]
  },
  {
   "cell_type": "code",
   "execution_count": 31,
   "id": "68cc0676-4adf-495e-b4d8-e31d2bff9198",
   "metadata": {
    "tags": []
   },
   "outputs": [
    {
     "data": {
      "text/plain": [
       "Feeling sad or Tearful\n",
       "Yes                       536\n",
       "No                        524\n",
       "Sometimes                 443\n",
       "Name: count, dtype: int64"
      ]
     },
     "execution_count": 31,
     "metadata": {},
     "output_type": "execute_result"
    }
   ],
   "source": [
    "postp_df[[\"Feeling sad or Tearful\"]].value_counts()"
   ]
  },
  {
   "cell_type": "code",
   "execution_count": 32,
   "id": "30d275f0-c29b-4e7d-a356-ddf20577804a",
   "metadata": {
    "tags": []
   },
   "outputs": [
    {
     "data": {
      "text/plain": [
       "Irritable towards baby & partner\n",
       "Yes                                 555\n",
       "No                                  499\n",
       "Sometimes                           443\n",
       "Name: count, dtype: int64"
      ]
     },
     "execution_count": 32,
     "metadata": {},
     "output_type": "execute_result"
    }
   ],
   "source": [
    "postp_df[[\"Irritable towards baby & partner\"]].value_counts()"
   ]
  },
  {
   "cell_type": "code",
   "execution_count": 33,
   "id": "4e5f8952-41f6-4c79-b4ba-d97a09d4f6de",
   "metadata": {
    "tags": []
   },
   "outputs": [
    {
     "data": {
      "text/plain": [
       "Trouble sleeping at night\n",
       "Two or more days a week      640\n",
       "Yes                          445\n",
       "No                           418\n",
       "Name: count, dtype: int64"
      ]
     },
     "execution_count": 33,
     "metadata": {},
     "output_type": "execute_result"
    }
   ],
   "source": [
    "postp_df[[\"Trouble sleeping at night\"]].value_counts()"
   ]
  },
  {
   "cell_type": "code",
   "execution_count": 34,
   "id": "137ed3f7-7db6-464d-aad0-2315ab35d59d",
   "metadata": {
    "tags": []
   },
   "outputs": [
    {
     "data": {
      "text/plain": [
       "Problems concentrating or making decision\n",
       "No                                           583\n",
       "Often                                        473\n",
       "Yes                                          435\n",
       "Name: count, dtype: int64"
      ]
     },
     "execution_count": 34,
     "metadata": {},
     "output_type": "execute_result"
    }
   ],
   "source": [
    "postp_df[[\"Problems concentrating or making decision\"]].value_counts()"
   ]
  },
  {
   "cell_type": "code",
   "execution_count": 35,
   "id": "59799885-a6fb-42d1-aaa5-12f52d66e1c4",
   "metadata": {
    "tags": []
   },
   "outputs": [
    {
     "data": {
      "text/plain": [
       "Overeating or loss of appetite\n",
       "No                                841\n",
       "Yes                               343\n",
       "Not at all                        319\n",
       "Name: count, dtype: int64"
      ]
     },
     "execution_count": 35,
     "metadata": {},
     "output_type": "execute_result"
    }
   ],
   "source": [
    "postp_df[[\"Overeating or loss of appetite\"]].value_counts()"
   ]
  },
  {
   "cell_type": "code",
   "execution_count": 36,
   "id": "24efb4f8-169a-4dc8-a566-f2f23f500e70",
   "metadata": {
    "tags": []
   },
   "outputs": [
    {
     "data": {
      "text/plain": [
       "Feeling anxious\n",
       "Yes                980\n",
       "No                 523\n",
       "Name: count, dtype: int64"
      ]
     },
     "execution_count": 36,
     "metadata": {},
     "output_type": "execute_result"
    }
   ],
   "source": [
    "postp_df[[\"Feeling anxious\"]].value_counts()"
   ]
  },
  {
   "cell_type": "code",
   "execution_count": 37,
   "id": "f5d7a96e-1277-4076-aad6-3d800fcc0b38",
   "metadata": {
    "tags": []
   },
   "outputs": [
    {
     "data": {
      "text/plain": [
       "Feeling of guilt\n",
       "No                  624\n",
       "Maybe               528\n",
       "Yes                 342\n",
       "Name: count, dtype: int64"
      ]
     },
     "execution_count": 37,
     "metadata": {},
     "output_type": "execute_result"
    }
   ],
   "source": [
    "postp_df[[\"Feeling of guilt\"]].value_counts()"
   ]
  },
  {
   "cell_type": "code",
   "execution_count": 38,
   "id": "e7b40d8f-3684-4484-8cce-2554b0a672df",
   "metadata": {
    "tags": []
   },
   "outputs": [
    {
     "data": {
      "text/plain": [
       "Problems of bonding with baby\n",
       "No                               557\n",
       "Sometimes                        542\n",
       "Yes                              404\n",
       "Name: count, dtype: int64"
      ]
     },
     "execution_count": 38,
     "metadata": {},
     "output_type": "execute_result"
    }
   ],
   "source": [
    "postp_df[[\"Problems of bonding with baby\"]].value_counts()"
   ]
  },
  {
   "cell_type": "code",
   "execution_count": 39,
   "id": "71b3ae52-d9a7-40aa-bbe6-ff3dc919017a",
   "metadata": {
    "tags": []
   },
   "outputs": [
    {
     "data": {
      "text/plain": [
       "Suicide attempt      \n",
       "No                       709\n",
       "Yes                      459\n",
       "Not interested to say    335\n",
       "Name: count, dtype: int64"
      ]
     },
     "execution_count": 39,
     "metadata": {},
     "output_type": "execute_result"
    }
   ],
   "source": [
    "postp_df[[\"Suicide attempt\"]].value_counts()"
   ]
  },
  {
   "cell_type": "code",
   "execution_count": 40,
   "id": "5e06ac6b-2458-42ac-bb8a-f6b505cd8d4e",
   "metadata": {
    "tags": []
   },
   "outputs": [
    {
     "data": {
      "image/png": "[encoded data removed]",
      "text/plain": [
       "<Figure size 600x600 with 1 Axes>"
      ]
     },
     "metadata": {},
     "output_type": "display_data"
    }
   ],
   "source": [
    "sizes = [181, 338, 349, 364, 271]\n",
    "labels = [\"25-30\", \"30-35\", \"35-40\", \"40-45\", \"45-50\"]\n",
    "\n",
    "# יצירת גרף פאי\n",
    "plt.figure(figsize=(6, 6))\n",
    "sns.set_palette(\"pastel\")\n",
    "plt.pie(sizes, labels=labels, autopct='%1.1f%%')\n",
    "\n",
    "# הצגת הגרף\n",
    "plt.show()"
   ]
  },
  {
   "cell_type": "markdown",
   "id": "2178db4a-2d00-4961-9d61-aee9be2ffa03",
   "metadata": {},
   "source": [
    "ע\"פ המיצג ניתן לראות כי בטווח הגילאים הצעיר ביותר רק כ12 אחוז מכלל הנשים במחקר סובלות מדיכאון לעומת יתר קבוצות הגילאים במחקר "
   ]
  },
  {
   "cell_type": "code",
   "execution_count": 41,
   "id": "4e45a339-e621-4402-bf8d-c388480ceffa",
   "metadata": {
    "tags": []
   },
   "outputs": [],
   "source": [
    "#fig, axes = plt.subplots(figsize=(20, 5), ncols=3)\n",
    "#column_order = [\"Yes\",\"No\",\"Two or more days a week\"] #בחירת סדר העמודות המוצגות\n",
    "#sns.countplot(ax=axes[0], data=postp_df,x=\"Trouble sleeping at night\",order=column_order)\n",
    "#sns.countplot(ax=axes[1], data=postp_df,x=\"Suicide attempt\")\n",
    "#sns.countplot(ax=axes[2], data=postp_df,x=\"Overeating or loss of appetite\")\n",
    "#plt.show()"
   ]
  },
  {
   "cell_type": "code",
   "execution_count": 42,
   "id": "5454e085-349d-4729-bb1e-2f34a3f4685c",
   "metadata": {
    "tags": []
   },
   "outputs": [
    {
     "data": {
      "image/png": "[encoded data removed]",
      "text/plain": [
       "<Figure size 800x300 with 1 Axes>"
      ]
     },
     "metadata": {},
     "output_type": "display_data"
    }
   ],
   "source": [
    "fig, axes = plt.subplots(figsize=(8, 3), ncols=1)\n",
    "column_order = [\"Yes\",\"No\",\"Two or more days a week\"] #בחירת סדר העמודות המוצגות\n",
    "sns.countplot(ax=axes, data=postp_df,x=\"Overeating or loss of appetite\")\n",
    "plt.show()"
   ]
  },
  {
   "cell_type": "markdown",
   "id": "c1111d0f-9a64-43ec-98b1-afec17d1f09a",
   "metadata": {},
   "source": [
    "בגרף 3 רואים:\n",
    "    לרוב אנשים נוטים לחשוב כי דיכאון יכול להשפיע על תיאבון, מהמחקר אנו רואים כי רק לרבע מהנשים המשתתפות יש השפעה על התיאבון"
   ]
  },
  {
   "cell_type": "code",
   "execution_count": 43,
   "id": "9c46b666-00dd-42c2-98da-06d94a39587d",
   "metadata": {
    "tags": []
   },
   "outputs": [],
   "source": [
    "#האם שווה להמיר למספרים לטובת ביצוע קורולציה?\n",
    "#plt.figure(figsize=(4,3))\n",
    "#correlation_matrix = postp_df[['Age', 'Trouble sleeping at night','Suicide attempt', 'Overeating or loss of appetite']].corr().round(2)\n",
    "#sns.heatmap(data=correlation_matrix,cmap='Blues', annot=True)\n"
   ]
  },
  {
   "cell_type": "code",
   "execution_count": 44,
   "id": "74c3dcb0-6e55-47e1-932e-eb8385d290b1",
   "metadata": {
    "tags": []
   },
   "outputs": [
    {
     "data": {
      "image/png": "[encoded data removed]",
      "text/plain": [
       "<Figure size 2000x500 with 3 Axes>"
      ]
     },
     "metadata": {},
     "output_type": "display_data"
    }
   ],
   "source": [
    "fig, axes = plt.subplots(figsize=(20, 5), ncols=3)\n",
    "column_order = [\"Yes\",\"No\",\"Sometimes\"] #שינוי סדר העמודות המוצגות\n",
    "sns.countplot(ax=axes[0], data=postp_df,x=\"Irritable towards baby & partner\",order=column_order) \n",
    "sns.countplot(ax=axes[1], data=postp_df,x=\"Problems of bonding with baby\",order=column_order)\n",
    "#sns.countplot(ax=axes[2], data=postp_df,x=\"Country\")\n",
    "plt.show()"
   ]
  },
  {
   "cell_type": "code",
   "execution_count": 45,
   "id": "a938cfba-88ea-40c3-9811-e829df999c0c",
   "metadata": {
    "tags": []
   },
   "outputs": [
    {
     "data": {
      "text/plain": [
       "0             Yes\n",
       "1             Yes\n",
       "2       Sometimes\n",
       "3              No\n",
       "4             Yes\n",
       "          ...    \n",
       "1498    Sometimes\n",
       "1499          Yes\n",
       "1500           No\n",
       "1501           No\n",
       "1502           No\n",
       "Name: Problems of bonding with baby, Length: 1503, dtype: object"
      ]
     },
     "execution_count": 45,
     "metadata": {},
     "output_type": "execute_result"
    }
   ],
   "source": [
    "postp_df[\"Problems of bonding with baby\"]"
   ]
  },
  {
   "cell_type": "code",
   "execution_count": 46,
   "id": "60d872bb-eb8e-4d6e-97fe-42c77e3087b0",
   "metadata": {
    "tags": []
   },
   "outputs": [
    {
     "data": {
      "text/plain": [
       "0             Yes\n",
       "1              No\n",
       "2              No\n",
       "3             Yes\n",
       "4              No\n",
       "          ...    \n",
       "1498           No\n",
       "1499           No\n",
       "1500    Sometimes\n",
       "1501    Sometimes\n",
       "1502    Sometimes\n",
       "Name: Irritable towards baby & partner, Length: 1503, dtype: object"
      ]
     },
     "execution_count": 46,
     "metadata": {},
     "output_type": "execute_result"
    }
   ],
   "source": [
    "postp_df[\"Irritable towards baby & partner\"]"
   ]
  },
  {
   "cell_type": "code",
   "execution_count": 47,
   "id": "ae5bc0b1-46db-43b4-b095-6f0c6917b18e",
   "metadata": {
    "tags": []
   },
   "outputs": [],
   "source": [
    "IrritableTowards_map={\"No\":1,'Sometimes':2,'Yes':3}\n",
    "Problemsofbonding_map={\"No\":1,\"Sometimes\":2,\"Yes\":3}\n",
    "postp_df['Irritable towards baby & partner numric']=postp_df['Irritable towards baby & partner'].map(IrritableTowards_map)"
   ]
  },
  {
   "cell_type": "code",
   "execution_count": 48,
   "id": "78568bfa-97e5-4dba-87eb-02a07c9f979e",
   "metadata": {
    "tags": []
   },
   "outputs": [
    {
     "data": {
      "text/plain": [
       "array(['Yes', 'Sometimes', 'No'], dtype=object)"
      ]
     },
     "execution_count": 48,
     "metadata": {},
     "output_type": "execute_result"
    }
   ],
   "source": [
    "postp_df['Problems of bonding with baby'].unique()"
   ]
  },
  {
   "cell_type": "code",
   "execution_count": 49,
   "id": "2b6c9cff-bc34-4f04-9b19-a9c07da0e6ac",
   "metadata": {
    "tags": []
   },
   "outputs": [],
   "source": [
    "\n",
    "postp_df['Problems of bonding with baby numric']=postp_df['Problems of bonding with baby'].map(IrritableTowards_map)"
   ]
  },
  {
   "cell_type": "code",
   "execution_count": 50,
   "id": "dce65a49-5016-4eef-a10e-653318903b10",
   "metadata": {
    "tags": []
   },
   "outputs": [
    {
     "data": {
      "text/plain": [
       "-0.07368726545162704"
      ]
     },
     "execution_count": 50,
     "metadata": {},
     "output_type": "execute_result"
    }
   ],
   "source": [
    "correlation = postp_df['Irritable towards baby & partner numric'].corr(postp_df['Problems of bonding with baby numric'])\n",
    "correlation"
   ]
  },
  {
   "cell_type": "code",
   "execution_count": 51,
   "id": "a78d524a-a48d-450b-b5af-0956b32446ea",
   "metadata": {
    "tags": []
   },
   "outputs": [
    {
     "ename": "ValueError",
     "evalue": "could not convert string to float: '6/14/2022 20:02'",
     "output_type": "error",
     "traceback": [
      "\u001b[1;31m---------------------------------------------------------------------------\u001b[0m",
      "\u001b[1;31mValueError\u001b[0m                                Traceback (most recent call last)",
      "Cell \u001b[1;32mIn[51], line 3\u001b[0m\n\u001b[0;32m      1\u001b[0m correlation \u001b[38;5;241m=\u001b[39m postp_df[\u001b[38;5;124m'\u001b[39m\u001b[38;5;124mIrritable towards baby & partner numric\u001b[39m\u001b[38;5;124m'\u001b[39m]\u001b[38;5;241m.\u001b[39mcorr(postp_df[\u001b[38;5;124m'\u001b[39m\u001b[38;5;124mProblems of bonding with baby numric\u001b[39m\u001b[38;5;124m'\u001b[39m])\n\u001b[0;32m      2\u001b[0m correlation\n\u001b[1;32m----> 3\u001b[0m sns\u001b[38;5;241m.\u001b[39mheatmap(postp_df\u001b[38;5;241m.\u001b[39mcorr(), annot\u001b[38;5;241m=\u001b[39m\u001b[38;5;28;01mTrue\u001b[39;00m, cmap\u001b[38;5;241m=\u001b[39m\u001b[38;5;124m'\u001b[39m\u001b[38;5;124mcoolwarm\u001b[39m\u001b[38;5;124m'\u001b[39m, linewidths\u001b[38;5;241m=\u001b[39m\u001b[38;5;241m0.5\u001b[39m)\n",
      "File \u001b[1;32m~\\anaconda3\\Lib\\site-packages\\pandas\\core\\frame.py:10054\u001b[0m, in \u001b[0;36mDataFrame.corr\u001b[1;34m(self, method, min_periods, numeric_only)\u001b[0m\n\u001b[0;32m  10052\u001b[0m cols \u001b[38;5;241m=\u001b[39m data\u001b[38;5;241m.\u001b[39mcolumns\n\u001b[0;32m  10053\u001b[0m idx \u001b[38;5;241m=\u001b[39m cols\u001b[38;5;241m.\u001b[39mcopy()\n\u001b[1;32m> 10054\u001b[0m mat \u001b[38;5;241m=\u001b[39m data\u001b[38;5;241m.\u001b[39mto_numpy(dtype\u001b[38;5;241m=\u001b[39m\u001b[38;5;28mfloat\u001b[39m, na_value\u001b[38;5;241m=\u001b[39mnp\u001b[38;5;241m.\u001b[39mnan, copy\u001b[38;5;241m=\u001b[39m\u001b[38;5;28;01mFalse\u001b[39;00m)\n\u001b[0;32m  10056\u001b[0m \u001b[38;5;28;01mif\u001b[39;00m method \u001b[38;5;241m==\u001b[39m \u001b[38;5;124m\"\u001b[39m\u001b[38;5;124mpearson\u001b[39m\u001b[38;5;124m\"\u001b[39m:\n\u001b[0;32m  10057\u001b[0m     correl \u001b[38;5;241m=\u001b[39m libalgos\u001b[38;5;241m.\u001b[39mnancorr(mat, minp\u001b[38;5;241m=\u001b[39mmin_periods)\n",
      "File \u001b[1;32m~\\anaconda3\\Lib\\site-packages\\pandas\\core\\frame.py:1838\u001b[0m, in \u001b[0;36mDataFrame.to_numpy\u001b[1;34m(self, dtype, copy, na_value)\u001b[0m\n\u001b[0;32m   1836\u001b[0m \u001b[38;5;28;01mif\u001b[39;00m dtype \u001b[38;5;129;01mis\u001b[39;00m \u001b[38;5;129;01mnot\u001b[39;00m \u001b[38;5;28;01mNone\u001b[39;00m:\n\u001b[0;32m   1837\u001b[0m     dtype \u001b[38;5;241m=\u001b[39m np\u001b[38;5;241m.\u001b[39mdtype(dtype)\n\u001b[1;32m-> 1838\u001b[0m result \u001b[38;5;241m=\u001b[39m \u001b[38;5;28mself\u001b[39m\u001b[38;5;241m.\u001b[39m_mgr\u001b[38;5;241m.\u001b[39mas_array(dtype\u001b[38;5;241m=\u001b[39mdtype, copy\u001b[38;5;241m=\u001b[39mcopy, na_value\u001b[38;5;241m=\u001b[39mna_value)\n\u001b[0;32m   1839\u001b[0m \u001b[38;5;28;01mif\u001b[39;00m result\u001b[38;5;241m.\u001b[39mdtype \u001b[38;5;129;01mis\u001b[39;00m \u001b[38;5;129;01mnot\u001b[39;00m dtype:\n\u001b[0;32m   1840\u001b[0m     result \u001b[38;5;241m=\u001b[39m np\u001b[38;5;241m.\u001b[39marray(result, dtype\u001b[38;5;241m=\u001b[39mdtype, copy\u001b[38;5;241m=\u001b[39m\u001b[38;5;28;01mFalse\u001b[39;00m)\n",
      "File \u001b[1;32m~\\anaconda3\\Lib\\site-packages\\pandas\\core\\internals\\managers.py:1732\u001b[0m, in \u001b[0;36mBlockManager.as_array\u001b[1;34m(self, dtype, copy, na_value)\u001b[0m\n\u001b[0;32m   1730\u001b[0m         arr\u001b[38;5;241m.\u001b[39mflags\u001b[38;5;241m.\u001b[39mwriteable \u001b[38;5;241m=\u001b[39m \u001b[38;5;28;01mFalse\u001b[39;00m\n\u001b[0;32m   1731\u001b[0m \u001b[38;5;28;01melse\u001b[39;00m:\n\u001b[1;32m-> 1732\u001b[0m     arr \u001b[38;5;241m=\u001b[39m \u001b[38;5;28mself\u001b[39m\u001b[38;5;241m.\u001b[39m_interleave(dtype\u001b[38;5;241m=\u001b[39mdtype, na_value\u001b[38;5;241m=\u001b[39mna_value)\n\u001b[0;32m   1733\u001b[0m     \u001b[38;5;66;03m# The underlying data was copied within _interleave, so no need\u001b[39;00m\n\u001b[0;32m   1734\u001b[0m     \u001b[38;5;66;03m# to further copy if copy=True or setting na_value\u001b[39;00m\n\u001b[0;32m   1736\u001b[0m \u001b[38;5;28;01mif\u001b[39;00m na_value \u001b[38;5;129;01mis\u001b[39;00m \u001b[38;5;129;01mnot\u001b[39;00m lib\u001b[38;5;241m.\u001b[39mno_default:\n",
      "File \u001b[1;32m~\\anaconda3\\Lib\\site-packages\\pandas\\core\\internals\\managers.py:1794\u001b[0m, in \u001b[0;36mBlockManager._interleave\u001b[1;34m(self, dtype, na_value)\u001b[0m\n\u001b[0;32m   1792\u001b[0m     \u001b[38;5;28;01melse\u001b[39;00m:\n\u001b[0;32m   1793\u001b[0m         arr \u001b[38;5;241m=\u001b[39m blk\u001b[38;5;241m.\u001b[39mget_values(dtype)\n\u001b[1;32m-> 1794\u001b[0m     result[rl\u001b[38;5;241m.\u001b[39mindexer] \u001b[38;5;241m=\u001b[39m arr\n\u001b[0;32m   1795\u001b[0m     itemmask[rl\u001b[38;5;241m.\u001b[39mindexer] \u001b[38;5;241m=\u001b[39m \u001b[38;5;241m1\u001b[39m\n\u001b[0;32m   1797\u001b[0m \u001b[38;5;28;01mif\u001b[39;00m \u001b[38;5;129;01mnot\u001b[39;00m itemmask\u001b[38;5;241m.\u001b[39mall():\n",
      "\u001b[1;31mValueError\u001b[0m: could not convert string to float: '6/14/2022 20:02'"
     ]
    }
   ],
   "source": [
    "correlation = postp_df['Irritable towards baby & partner numric'].corr(postp_df['Problems of bonding with baby numric'])\n",
    "correlation\n",
    "sns.heatmap(postp_df.corr(), annot=True, cmap='coolwarm', linewidths=0.5)"
   ]
  },
  {
   "cell_type": "code",
   "execution_count": null,
   "id": "68e2ee49-50e7-4a03-9846-2211046883bc",
   "metadata": {},
   "outputs": [],
   "source": []
  },
  {
   "cell_type": "code",
   "execution_count": null,
   "id": "2b253b51-a65c-4e63-8fa1-4b22caad16a6",
   "metadata": {
    "tags": []
   },
   "outputs": [],
   "source": []
  },
  {
   "cell_type": "code",
   "execution_count": 52,
   "id": "88795700-3c64-43de-9ea6-b09f5d90bb55",
   "metadata": {
    "tags": []
   },
   "outputs": [
    {
     "data": {
      "image/png": "[encoded data removed]",
      "text/plain": [
       "<Figure size 1200x600 with 1 Axes>"
      ]
     },
     "metadata": {},
     "output_type": "display_data"
    }
   ],
   "source": [
    "plt.figure(figsize=(12, 6))\n",
    "column_order = [\"25-30\", \"30-35\", \"35-40\", \"40-45\", \"45-50\"]\n",
    "sns.countplot(x='Age', hue='Suicide attempt', data=postp_df, palette='Set2', order=column_order)\n",
    "\n",
    "# הגדרת כותרת ותוויות צירים\n",
    "plt.title('Distribution of Suicide Attempts by Age Group According to the number of participants at group age')\n",
    "plt.xlabel('Age Group')\n",
    "plt.ylabel('Count of Participants')\n",
    "\n",
    "# חידוש התצוגה\n",
    "plt.legend(title='Suicide attempt')\n",
    "plt.xticks(rotation=45)\n",
    "plt.tight_layout()\n",
    "plt.show()"
   ]
  },
  {
   "cell_type": "markdown",
   "id": "60dad04b-9904-4094-97c6-dc485d86041e",
   "metadata": {
    "tags": []
   },
   "source": [
    "\n",
    "בגרף זה אנחנו מחשבים כמות ניסיונות להתאבדות ע\"פ מספר נשים בכל קבוצת גיל.המספר מאוד קרוב בגילאי 25-30 בין כאלה שדיווחו שניסו להתאבד לעומת אלה שניסחו שלא. אנחנו משערים כי לפחות 70 אחוז מאלה שציינו כי לא מעוניינות להגיד כי התשובה שלהן היא כי אכן ניסו להתאבד. כאשר מחברים בין הנתונים יוצא כי יש הרבה יותר בנות שניסו להתאבד מאשר כאלה שלא. לעומת שאר הקטגוריות שגם אם נחבר את ההשערה לא יהיה מעקף דרסטי בין כאלה שניסו להתאבד לעומת כאלה שלא "
   ]
  },
  {
   "cell_type": "code",
   "execution_count": 53,
   "id": "5f76361c-d53e-47ee-86f2-35d64395644a",
   "metadata": {
    "tags": []
   },
   "outputs": [
    {
     "data": {
      "image/png": "[encoded data removed]",
      "text/plain": [
       "<Figure size 1200x600 with 1 Axes>"
      ]
     },
     "metadata": {},
     "output_type": "display_data"
    }
   ],
   "source": [
    "# חישוב האחוזים של ניסיונות ההתאבדות בכל קבוצת גיל\n",
    "suicide_attempt_percentage = postp_df.groupby('Age')['Suicide attempt'].value_counts(normalize=True).mul(100).rename('Percentage').reset_index()\n",
    "\n",
    "# ציור הגרף\n",
    "plt.figure(figsize=(12, 6))\n",
    "sns.barplot(x='Age', y='Percentage', hue='Suicide attempt', data=suicide_attempt_percentage, palette='Set2', order=column_order)\n",
    "\n",
    "# הגדרת כותרת ותוויות צירים\n",
    "plt.title('Distribution of Suicide Attempts by Age Group in %')\n",
    "plt.xlabel('Age Group')\n",
    "plt.ylabel('Percentage of Participants')\n",
    "\n",
    "# הצגת הגרף\n",
    "plt.legend(title='Suicide attempt')\n",
    "plt.xticks(rotation=45)\n",
    "plt.tight_layout()\n",
    "plt.show()\n"
   ]
  },
  {
   "cell_type": "markdown",
   "id": "f46dd503-8043-461a-b139-c3f6aaf4ec90",
   "metadata": {},
   "source": [
    "בגרף זה ניסינו להוכיח את הטענה שניסינו להראות ממקודם, ולכן בגרף זה אנחנו שינינו את אופן הצגת הקבוצות לא ע\"פ כמות בכל קבוצת גיל אלה ע\"פ האחוזים ובאמת רואים פה ע\"פ אחוזים כי אחוז הנשים בקבוצת גילאים 25-30 הן הקבוצה עם האחוז הכי נמוך שציינו כי לא ניסו להתאבד ובהתאם לכך הן גם הקבוצה עם האחוז הכי גבוה של נשים שאכן ניסו להתאבד, בגיל 35-40 אכן יש אחוז שהוא דומה אך בגיל הנשים הצעירות רואים כי באופן מוחץ יש אחוז גדול יותר של נשים שלא מעוניינות לציין מה הן בחרו כך שמשערים שיש עוד מספר לא מבוטל של נשים שאכן ניסו להתאבד "
   ]
  },
  {
   "cell_type": "code",
   "execution_count": 54,
   "id": "dc083095-e742-443b-a5fd-622bbd9076d0",
   "metadata": {
    "tags": []
   },
   "outputs": [
    {
     "name": "stdout",
     "output_type": "stream",
     "text": [
      "Percentage of women aged 35-40 who said YES: 34.67048710601719\n",
      "Percentage of women aged 25-30 who said YES: 33.70165745856354\n"
     ]
    }
   ],
   "source": [
    "# סניפס לקביעת הסדר של העמודות בגרף\n",
    "column_order = [\"Yes\", \"No\", \"Two or more days a week\"]\n",
    "\n",
    "# סינון רק לנשים בקבוצות הגיל הרצויות ועם תשובת \"YES\"\n",
    "women_35_40_yes = postp_df[(postp_df['Age'] == '35-40') & (postp_df['Suicide attempt'] == 'Yes')]\n",
    "women_25_30_yes = postp_df[(postp_df['Age'] == '25-30') & (postp_df['Suicide attempt'] == 'Yes')]\n",
    "\n",
    "# חישוב האחוזים\n",
    "percentage_women_35_40_yes = (len(women_35_40_yes) / len(postp_df[postp_df['Age'] == '35-40'])) * 100\n",
    "percentage_women_25_30_yes = (len(women_25_30_yes) / len(postp_df[postp_df['Age'] == '25-30'])) * 100\n",
    "\n",
    "print(\"Percentage of women aged 35-40 who said YES:\", percentage_women_35_40_yes)\n",
    "print(\"Percentage of women aged 25-30 who said YES:\", percentage_women_25_30_yes)\n"
   ]
  },
  {
   "cell_type": "markdown",
   "id": "6136bf5d-c57e-4a8c-9336-67d4b0328a78",
   "metadata": {},
   "source": [
    "\n",
    " למעלה זה נתון שכנראה נרצה להוריד כי רואים באמת שאחוז הכן הוא אותו דבר כמעט"
   ]
  },
  {
   "cell_type": "code",
   "execution_count": 55,
   "id": "5563cc07-802f-4eb0-9339-ebf5e9d1ce86",
   "metadata": {
    "tags": []
   },
   "outputs": [
    {
     "name": "stdout",
     "output_type": "stream",
     "text": [
      "Percentage of women aged 25-30 who said No: 38.12154696132597\n",
      "Percentage of women aged 30-35 who said No: 46.44970414201183\n",
      "Percentage of women aged 35-40 who said No: 46.99140401146132\n",
      "Percentage of women aged 45-50 who said No: 56.08856088560885\n"
     ]
    }
   ],
   "source": [
    "# קביעת קבוצות הגילאים\n",
    "age_groups = ['25-30', '30-35', '35-40', '45-50']\n",
    "\n",
    "# לולאה עבור כל קבוצת גיל\n",
    "for age_group in age_groups:\n",
    "    # סינון רק לנשים בקבוצת הגיל הרצויה ועם תשובת \"No\"\n",
    "    women_no = postp_df[(postp_df['Age'] == age_group) & (postp_df['Suicide attempt'] == 'No')]\n",
    "    # סך כל הנשים בקבוצת גיל\n",
    "    total_women = len(postp_df[postp_df['Age'] == age_group])\n",
    "    # בדיקה שסך הנשים בקבוצת הגיל אינו אפס\n",
    "    if total_women != 0:\n",
    "        # חישוב האחוז\n",
    "        percentage_women_no = (len(women_no) / total_women) * 100\n",
    "        # הדפסת התוצאה\n",
    "        print(f\"Percentage of women aged {age_group} who said No:\", percentage_women_no)\n",
    "    else:\n",
    "        # אם אין נשים בקבוצה, הדפסת הודעה ריקה\n",
    "        print(f\"No women in age group {age_group}\")\n",
    "\n"
   ]
  },
  {
   "cell_type": "markdown",
   "id": "d61f4b30-8697-433b-bf47-db6e9c44abdf",
   "metadata": {},
   "source": [
    "כאן רואים כי אחוז הנשים במחקר שציינו כי לא ניסו להתאבד הוא הנמוך מכולן"
   ]
  },
  {
   "cell_type": "code",
   "execution_count": 56,
   "id": "8bc23b64-de95-4449-9e91-1bb3b8e4fccc",
   "metadata": {
    "tags": []
   },
   "outputs": [
    {
     "ename": "ValueError",
     "evalue": "could not convert string to float: 'Yes'",
     "output_type": "error",
     "traceback": [
      "\u001b[1;31m---------------------------------------------------------------------------\u001b[0m",
      "\u001b[1;31mValueError\u001b[0m                                Traceback (most recent call last)",
      "Cell \u001b[1;32mIn[56], line 4\u001b[0m\n\u001b[0;32m      1\u001b[0m postp_df_numeric \u001b[38;5;241m=\u001b[39m postp_df\u001b[38;5;241m.\u001b[39mdrop(columns\u001b[38;5;241m=\u001b[39m[\u001b[38;5;124m'\u001b[39m\u001b[38;5;124mTimestamp\u001b[39m\u001b[38;5;124m'\u001b[39m, \u001b[38;5;124m'\u001b[39m\u001b[38;5;124mAge\u001b[39m\u001b[38;5;124m'\u001b[39m])\n\u001b[0;32m      3\u001b[0m \u001b[38;5;66;03m# חישוב מטריצת הקורלציה\u001b[39;00m\n\u001b[1;32m----> 4\u001b[0m correlation_matrix \u001b[38;5;241m=\u001b[39m postp_df_numeric\u001b[38;5;241m.\u001b[39mcorr()\n\u001b[0;32m      6\u001b[0m \u001b[38;5;66;03m# ציור מטריצת הקורלציה באמצעות heatmap\u001b[39;00m\n\u001b[0;32m      7\u001b[0m plt\u001b[38;5;241m.\u001b[39mfigure(figsize\u001b[38;5;241m=\u001b[39m(\u001b[38;5;241m12\u001b[39m, \u001b[38;5;241m10\u001b[39m))\n",
      "File \u001b[1;32m~\\anaconda3\\Lib\\site-packages\\pandas\\core\\frame.py:10054\u001b[0m, in \u001b[0;36mDataFrame.corr\u001b[1;34m(self, method, min_periods, numeric_only)\u001b[0m\n\u001b[0;32m  10052\u001b[0m cols \u001b[38;5;241m=\u001b[39m data\u001b[38;5;241m.\u001b[39mcolumns\n\u001b[0;32m  10053\u001b[0m idx \u001b[38;5;241m=\u001b[39m cols\u001b[38;5;241m.\u001b[39mcopy()\n\u001b[1;32m> 10054\u001b[0m mat \u001b[38;5;241m=\u001b[39m data\u001b[38;5;241m.\u001b[39mto_numpy(dtype\u001b[38;5;241m=\u001b[39m\u001b[38;5;28mfloat\u001b[39m, na_value\u001b[38;5;241m=\u001b[39mnp\u001b[38;5;241m.\u001b[39mnan, copy\u001b[38;5;241m=\u001b[39m\u001b[38;5;28;01mFalse\u001b[39;00m)\n\u001b[0;32m  10056\u001b[0m \u001b[38;5;28;01mif\u001b[39;00m method \u001b[38;5;241m==\u001b[39m \u001b[38;5;124m\"\u001b[39m\u001b[38;5;124mpearson\u001b[39m\u001b[38;5;124m\"\u001b[39m:\n\u001b[0;32m  10057\u001b[0m     correl \u001b[38;5;241m=\u001b[39m libalgos\u001b[38;5;241m.\u001b[39mnancorr(mat, minp\u001b[38;5;241m=\u001b[39mmin_periods)\n",
      "File \u001b[1;32m~\\anaconda3\\Lib\\site-packages\\pandas\\core\\frame.py:1838\u001b[0m, in \u001b[0;36mDataFrame.to_numpy\u001b[1;34m(self, dtype, copy, na_value)\u001b[0m\n\u001b[0;32m   1836\u001b[0m \u001b[38;5;28;01mif\u001b[39;00m dtype \u001b[38;5;129;01mis\u001b[39;00m \u001b[38;5;129;01mnot\u001b[39;00m \u001b[38;5;28;01mNone\u001b[39;00m:\n\u001b[0;32m   1837\u001b[0m     dtype \u001b[38;5;241m=\u001b[39m np\u001b[38;5;241m.\u001b[39mdtype(dtype)\n\u001b[1;32m-> 1838\u001b[0m result \u001b[38;5;241m=\u001b[39m \u001b[38;5;28mself\u001b[39m\u001b[38;5;241m.\u001b[39m_mgr\u001b[38;5;241m.\u001b[39mas_array(dtype\u001b[38;5;241m=\u001b[39mdtype, copy\u001b[38;5;241m=\u001b[39mcopy, na_value\u001b[38;5;241m=\u001b[39mna_value)\n\u001b[0;32m   1839\u001b[0m \u001b[38;5;28;01mif\u001b[39;00m result\u001b[38;5;241m.\u001b[39mdtype \u001b[38;5;129;01mis\u001b[39;00m \u001b[38;5;129;01mnot\u001b[39;00m dtype:\n\u001b[0;32m   1840\u001b[0m     result \u001b[38;5;241m=\u001b[39m np\u001b[38;5;241m.\u001b[39marray(result, dtype\u001b[38;5;241m=\u001b[39mdtype, copy\u001b[38;5;241m=\u001b[39m\u001b[38;5;28;01mFalse\u001b[39;00m)\n",
      "File \u001b[1;32m~\\anaconda3\\Lib\\site-packages\\pandas\\core\\internals\\managers.py:1732\u001b[0m, in \u001b[0;36mBlockManager.as_array\u001b[1;34m(self, dtype, copy, na_value)\u001b[0m\n\u001b[0;32m   1730\u001b[0m         arr\u001b[38;5;241m.\u001b[39mflags\u001b[38;5;241m.\u001b[39mwriteable \u001b[38;5;241m=\u001b[39m \u001b[38;5;28;01mFalse\u001b[39;00m\n\u001b[0;32m   1731\u001b[0m \u001b[38;5;28;01melse\u001b[39;00m:\n\u001b[1;32m-> 1732\u001b[0m     arr \u001b[38;5;241m=\u001b[39m \u001b[38;5;28mself\u001b[39m\u001b[38;5;241m.\u001b[39m_interleave(dtype\u001b[38;5;241m=\u001b[39mdtype, na_value\u001b[38;5;241m=\u001b[39mna_value)\n\u001b[0;32m   1733\u001b[0m     \u001b[38;5;66;03m# The underlying data was copied within _interleave, so no need\u001b[39;00m\n\u001b[0;32m   1734\u001b[0m     \u001b[38;5;66;03m# to further copy if copy=True or setting na_value\u001b[39;00m\n\u001b[0;32m   1736\u001b[0m \u001b[38;5;28;01mif\u001b[39;00m na_value \u001b[38;5;129;01mis\u001b[39;00m \u001b[38;5;129;01mnot\u001b[39;00m lib\u001b[38;5;241m.\u001b[39mno_default:\n",
      "File \u001b[1;32m~\\anaconda3\\Lib\\site-packages\\pandas\\core\\internals\\managers.py:1794\u001b[0m, in \u001b[0;36mBlockManager._interleave\u001b[1;34m(self, dtype, na_value)\u001b[0m\n\u001b[0;32m   1792\u001b[0m     \u001b[38;5;28;01melse\u001b[39;00m:\n\u001b[0;32m   1793\u001b[0m         arr \u001b[38;5;241m=\u001b[39m blk\u001b[38;5;241m.\u001b[39mget_values(dtype)\n\u001b[1;32m-> 1794\u001b[0m     result[rl\u001b[38;5;241m.\u001b[39mindexer] \u001b[38;5;241m=\u001b[39m arr\n\u001b[0;32m   1795\u001b[0m     itemmask[rl\u001b[38;5;241m.\u001b[39mindexer] \u001b[38;5;241m=\u001b[39m \u001b[38;5;241m1\u001b[39m\n\u001b[0;32m   1797\u001b[0m \u001b[38;5;28;01mif\u001b[39;00m \u001b[38;5;129;01mnot\u001b[39;00m itemmask\u001b[38;5;241m.\u001b[39mall():\n",
      "\u001b[1;31mValueError\u001b[0m: could not convert string to float: 'Yes'"
     ]
    }
   ],
   "source": [
    "postp_df_numeric = postp_df.drop(columns=['Timestamp', 'Age'])\n",
    "\n",
    "# חישוב מטריצת הקורלציה\n",
    "correlation_matrix = postp_df_numeric.corr()\n",
    "\n",
    "# ציור מטריצת הקורלציה באמצעות heatmap\n",
    "plt.figure(figsize=(12, 10))\n",
    "sns.heatmap(correlation_matrix, annot=True, cmap='coolwarm', fmt=\".2f\", linewidths=.5)\n",
    "plt.title('Correlation Matrix of Postpartum Data')\n",
    "plt.show()"
   ]
  },
  {
   "cell_type": "code",
   "execution_count": null,
   "id": "923cfd73-d58c-492b-9bd1-9e0dd0de21e1",
   "metadata": {},
   "outputs": [],
   "source": []
  },
  {
   "cell_type": "code",
   "execution_count": null,
   "id": "ae91db3c-2c92-4137-b0e2-bde49f24b301",
   "metadata": {
    "tags": []
   },
   "outputs": [],
   "source": [
    "# להוסיף את המטרה שלשמה עשינו את הפרוייקט? אולי העלאת המודעות בקרב הציבור על דיכאון לאחר לידה?"
   ]
  },
  {
   "cell_type": "code",
   "execution_count": null,
   "id": "805ffc50-484d-44ed-b423-60c29eb0e510",
   "metadata": {
    "tags": []
   },
   "outputs": [],
   "source": []
  },
  {
   "cell_type": "code",
   "execution_count": null,
   "id": "d04c8cc7-e660-4082-bb48-81ed6029d157",
   "metadata": {},
   "outputs": [],
   "source": []
  },
  {
   "cell_type": "code",
   "execution_count": null,
   "id": "a3b05b37-1868-4b6e-8dd5-3793d7b36f64",
   "metadata": {},
   "outputs": [],
   "source": []
  }
 ],
 "metadata": {
  "kernelspec": {
   "display_name": "Python 3 (ipykernel)",
   "language": "python",
   "name": "python3"
  },
  "language_info": {
   "codemirror_mode": {
    "name": "ipython",
    "version": 3
   },
   "file_extension": ".py",
   "mimetype": "text/x-python",
   "name": "python",
   "nbconvert_exporter": "python",
   "pygments_lexer": "ipython3",
   "version": "3.11.5"
  }
 },
 "nbformat": 4,
 "nbformat_minor": 5
}
