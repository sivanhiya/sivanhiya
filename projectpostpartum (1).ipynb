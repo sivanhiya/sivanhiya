{
 "cells": [
  {
   "cell_type": "markdown",
   "id": "68a1142f-ef85-445e-a492-c878762e9b78",
   "metadata": {},
   "source": [
    "# Data Analysis Final Project"
   ]
  },
  {
   "cell_type": "markdown",
   "id": "a2ed24b8-8eff-42cb-a798-9d445cabf419",
   "metadata": {
    "tags": []
   },
   "source": [
    "## Group 27"
   ]
  },
  {
   "cell_type": "markdown",
   "id": "20e915eb-b528-4f30-b7e2-8d51b59687ac",
   "metadata": {},
   "source": [
    "### Students Names :\n",
    " Sivan Hiya , \n",
    " Yuval Bierbach ,\n",
    " Tal Elrom"
   ]
  },
  {
   "cell_type": "code",
   "execution_count": 117,
   "id": "460f65fb-c13e-4017-a59d-b1d563196b74",
   "metadata": {
    "tags": []
   },
   "outputs": [],
   "source": [
    "import pandas as pd\n",
    "import numpy as np\n",
    "import matplotlib.pyplot as plt\n",
    "import seaborn as sns"
   ]
  },
  {
   "cell_type": "markdown",
   "id": "c9f0a034-79d0-47c0-968b-c00294bbc6e4",
   "metadata": {},
   "source": [
    "#### Information on the data"
   ]
  },
  {
   "cell_type": "markdown",
   "id": "3ed00ef4-5483-4ad3-a418-d27fb3418ab5",
   "metadata": {
    "tags": []
   },
   "source": [
    "This research was conducted at the ___ HOSPITAL located in ___.\n",
    "\n",
    "The study was conducted on 1503 women who had postpartum depression,the women were asked about the questionnaire in a two-day period.\n"
   ]
  },
  {
   "cell_type": "markdown",
   "id": "7649fcdd-3de0-4c95-b59f-512732530779",
   "metadata": {},
   "source": [
    "מחקר זה נערך בבית החולים ___ שב___ המחקר נערך על 1503 נשים שעברו דיכאון לאחר לידה, הנשים נשאלו על השאלון בפרק זמן של יומיים..במחקר זה לא קיימים נתונים חסרים. "
   ]
  },
  {
   "cell_type": "code",
   "execution_count": 118,
   "id": "620fe381-7831-49fe-83f0-5505957c2fba",
   "metadata": {
    "tags": []
   },
   "outputs": [
    {
     "data": {
      "text/plain": [
       "(1503, 11)"
      ]
     },
     "execution_count": 118,
     "metadata": {},
     "output_type": "execute_result"
    }
   ],
   "source": [
    "url = 'https://raw.githubusercontent.com/sivanhiya/sivanhiya/main/PostPartumData.csv'\n",
    "postp_df = pd.read_csv(url)\n",
    "postp_df.shape"
   ]
  },
  {
   "cell_type": "code",
   "execution_count": 119,
   "id": "a9bd4017-894c-490f-937e-8d8eb9f10eec",
   "metadata": {
    "tags": []
   },
   "outputs": [
    {
     "data": {
      "text/plain": [
       "Index(['Timestamp', 'Age', 'Feeling sad or Tearful',\n",
       "       'Irritable towards baby & partner', 'Trouble sleeping at night',\n",
       "       'Problems concentrating or making decision',\n",
       "       'Overeating or loss of appetite', 'Feeling anxious', 'Feeling of guilt',\n",
       "       'Problems of bonding with baby', 'Suicide attempt'],\n",
       "      dtype='object')"
      ]
     },
     "execution_count": 119,
     "metadata": {},
     "output_type": "execute_result"
    }
   ],
   "source": [
    "postp_df.columns"
   ]
  },
  {
   "cell_type": "code",
   "execution_count": 120,
   "id": "8b3b0760-3c7b-43a7-9ea4-0589ed8e9a50",
   "metadata": {
    "tags": []
   },
   "outputs": [
    {
     "data": {
      "text/html": [
       "<div>\n",
       "<style scoped>\n",
       "    .dataframe tbody tr th:only-of-type {\n",
       "        vertical-align: middle;\n",
       "    }\n",
       "\n",
       "    .dataframe tbody tr th {\n",
       "        vertical-align: top;\n",
       "    }\n",
       "\n",
       "    .dataframe thead th {\n",
       "        text-align: right;\n",
       "    }\n",
       "</style>\n",
       "<table border=\"1\" class=\"dataframe\">\n",
       "  <thead>\n",
       "    <tr style=\"text-align: right;\">\n",
       "      <th></th>\n",
       "      <th>Timestamp</th>\n",
       "      <th>Age</th>\n",
       "      <th>Feeling sad or Tearful</th>\n",
       "      <th>Irritable towards baby &amp; partner</th>\n",
       "      <th>Trouble sleeping at night</th>\n",
       "      <th>Problems concentrating or making decision</th>\n",
       "      <th>Overeating or loss of appetite</th>\n",
       "      <th>Feeling anxious</th>\n",
       "      <th>Feeling of guilt</th>\n",
       "      <th>Problems of bonding with baby</th>\n",
       "      <th>Suicide attempt</th>\n",
       "    </tr>\n",
       "  </thead>\n",
       "  <tbody>\n",
       "    <tr>\n",
       "      <th>0</th>\n",
       "      <td>6/14/2022 20:02</td>\n",
       "      <td>35-40</td>\n",
       "      <td>Yes</td>\n",
       "      <td>Yes</td>\n",
       "      <td>Two or more days a week</td>\n",
       "      <td>Yes</td>\n",
       "      <td>Yes</td>\n",
       "      <td>Yes</td>\n",
       "      <td>No</td>\n",
       "      <td>Yes</td>\n",
       "      <td>Yes</td>\n",
       "    </tr>\n",
       "    <tr>\n",
       "      <th>1</th>\n",
       "      <td>6/14/2022 20:03</td>\n",
       "      <td>40-45</td>\n",
       "      <td>Yes</td>\n",
       "      <td>No</td>\n",
       "      <td>No</td>\n",
       "      <td>Yes</td>\n",
       "      <td>Yes</td>\n",
       "      <td>No</td>\n",
       "      <td>Yes</td>\n",
       "      <td>Yes</td>\n",
       "      <td>No</td>\n",
       "    </tr>\n",
       "    <tr>\n",
       "      <th>2</th>\n",
       "      <td>6/14/2022 20:04</td>\n",
       "      <td>35-40</td>\n",
       "      <td>Yes</td>\n",
       "      <td>No</td>\n",
       "      <td>Yes</td>\n",
       "      <td>Yes</td>\n",
       "      <td>Yes</td>\n",
       "      <td>Yes</td>\n",
       "      <td>No</td>\n",
       "      <td>Sometimes</td>\n",
       "      <td>No</td>\n",
       "    </tr>\n",
       "    <tr>\n",
       "      <th>3</th>\n",
       "      <td>6/14/2022 20:05</td>\n",
       "      <td>35-40</td>\n",
       "      <td>Yes</td>\n",
       "      <td>Yes</td>\n",
       "      <td>Yes</td>\n",
       "      <td>Yes</td>\n",
       "      <td>No</td>\n",
       "      <td>Yes</td>\n",
       "      <td>Maybe</td>\n",
       "      <td>No</td>\n",
       "      <td>No</td>\n",
       "    </tr>\n",
       "    <tr>\n",
       "      <th>4</th>\n",
       "      <td>6/14/2022 20:06</td>\n",
       "      <td>40-45</td>\n",
       "      <td>Yes</td>\n",
       "      <td>No</td>\n",
       "      <td>Two or more days a week</td>\n",
       "      <td>Yes</td>\n",
       "      <td>No</td>\n",
       "      <td>Yes</td>\n",
       "      <td>No</td>\n",
       "      <td>Yes</td>\n",
       "      <td>No</td>\n",
       "    </tr>\n",
       "    <tr>\n",
       "      <th>...</th>\n",
       "      <td>...</td>\n",
       "      <td>...</td>\n",
       "      <td>...</td>\n",
       "      <td>...</td>\n",
       "      <td>...</td>\n",
       "      <td>...</td>\n",
       "      <td>...</td>\n",
       "      <td>...</td>\n",
       "      <td>...</td>\n",
       "      <td>...</td>\n",
       "      <td>...</td>\n",
       "    </tr>\n",
       "    <tr>\n",
       "      <th>1498</th>\n",
       "      <td>6/15/2022 0:35</td>\n",
       "      <td>30-35</td>\n",
       "      <td>Yes</td>\n",
       "      <td>No</td>\n",
       "      <td>Two or more days a week</td>\n",
       "      <td>No</td>\n",
       "      <td>No</td>\n",
       "      <td>Yes</td>\n",
       "      <td>Maybe</td>\n",
       "      <td>Sometimes</td>\n",
       "      <td>No</td>\n",
       "    </tr>\n",
       "    <tr>\n",
       "      <th>1499</th>\n",
       "      <td>6/15/2022 0:35</td>\n",
       "      <td>25-30</td>\n",
       "      <td>Sometimes</td>\n",
       "      <td>No</td>\n",
       "      <td>No</td>\n",
       "      <td>Often</td>\n",
       "      <td>No</td>\n",
       "      <td>Yes</td>\n",
       "      <td>Maybe</td>\n",
       "      <td>Yes</td>\n",
       "      <td>No</td>\n",
       "    </tr>\n",
       "    <tr>\n",
       "      <th>1500</th>\n",
       "      <td>6/15/2022 0:35</td>\n",
       "      <td>25-30</td>\n",
       "      <td>No</td>\n",
       "      <td>Sometimes</td>\n",
       "      <td>Two or more days a week</td>\n",
       "      <td>No</td>\n",
       "      <td>No</td>\n",
       "      <td>No</td>\n",
       "      <td>Yes</td>\n",
       "      <td>No</td>\n",
       "      <td>Not interested to say</td>\n",
       "    </tr>\n",
       "    <tr>\n",
       "      <th>1501</th>\n",
       "      <td>6/15/2022 0:36</td>\n",
       "      <td>25-30</td>\n",
       "      <td>No</td>\n",
       "      <td>Sometimes</td>\n",
       "      <td>Yes</td>\n",
       "      <td>Often</td>\n",
       "      <td>No</td>\n",
       "      <td>Yes</td>\n",
       "      <td>No</td>\n",
       "      <td>No</td>\n",
       "      <td>No</td>\n",
       "    </tr>\n",
       "    <tr>\n",
       "      <th>1502</th>\n",
       "      <td>6/15/2022 0:36</td>\n",
       "      <td>45-50</td>\n",
       "      <td>Sometimes</td>\n",
       "      <td>Sometimes</td>\n",
       "      <td>Two or more days a week</td>\n",
       "      <td>No</td>\n",
       "      <td>No</td>\n",
       "      <td>No</td>\n",
       "      <td>Maybe</td>\n",
       "      <td>No</td>\n",
       "      <td>No</td>\n",
       "    </tr>\n",
       "  </tbody>\n",
       "</table>\n",
       "<p>1503 rows × 11 columns</p>\n",
       "</div>"
      ],
      "text/plain": [
       "            Timestamp    Age Feeling sad or Tearful  \\\n",
       "0     6/14/2022 20:02  35-40                    Yes   \n",
       "1     6/14/2022 20:03  40-45                    Yes   \n",
       "2     6/14/2022 20:04  35-40                    Yes   \n",
       "3     6/14/2022 20:05  35-40                    Yes   \n",
       "4     6/14/2022 20:06  40-45                    Yes   \n",
       "...               ...    ...                    ...   \n",
       "1498   6/15/2022 0:35  30-35                    Yes   \n",
       "1499   6/15/2022 0:35  25-30              Sometimes   \n",
       "1500   6/15/2022 0:35  25-30                     No   \n",
       "1501   6/15/2022 0:36  25-30                     No   \n",
       "1502   6/15/2022 0:36  45-50              Sometimes   \n",
       "\n",
       "     Irritable towards baby & partner Trouble sleeping at night  \\\n",
       "0                                 Yes   Two or more days a week   \n",
       "1                                  No                        No   \n",
       "2                                  No                       Yes   \n",
       "3                                 Yes                       Yes   \n",
       "4                                  No   Two or more days a week   \n",
       "...                               ...                       ...   \n",
       "1498                               No   Two or more days a week   \n",
       "1499                               No                        No   \n",
       "1500                        Sometimes   Two or more days a week   \n",
       "1501                        Sometimes                       Yes   \n",
       "1502                        Sometimes   Two or more days a week   \n",
       "\n",
       "     Problems concentrating or making decision Overeating or loss of appetite  \\\n",
       "0                                          Yes                            Yes   \n",
       "1                                          Yes                            Yes   \n",
       "2                                          Yes                            Yes   \n",
       "3                                          Yes                             No   \n",
       "4                                          Yes                             No   \n",
       "...                                        ...                            ...   \n",
       "1498                                        No                             No   \n",
       "1499                                     Often                             No   \n",
       "1500                                        No                             No   \n",
       "1501                                     Often                             No   \n",
       "1502                                        No                             No   \n",
       "\n",
       "     Feeling anxious Feeling of guilt Problems of bonding with baby  \\\n",
       "0                Yes               No                           Yes   \n",
       "1                 No              Yes                           Yes   \n",
       "2                Yes               No                     Sometimes   \n",
       "3                Yes            Maybe                            No   \n",
       "4                Yes               No                           Yes   \n",
       "...              ...              ...                           ...   \n",
       "1498             Yes            Maybe                     Sometimes   \n",
       "1499             Yes            Maybe                           Yes   \n",
       "1500              No              Yes                            No   \n",
       "1501             Yes               No                            No   \n",
       "1502              No            Maybe                            No   \n",
       "\n",
       "            Suicide attempt  \n",
       "0                       Yes  \n",
       "1                        No  \n",
       "2                        No  \n",
       "3                        No  \n",
       "4                        No  \n",
       "...                     ...  \n",
       "1498                     No  \n",
       "1499                     No  \n",
       "1500  Not interested to say  \n",
       "1501                     No  \n",
       "1502                     No  \n",
       "\n",
       "[1503 rows x 11 columns]"
      ]
     },
     "execution_count": 120,
     "metadata": {},
     "output_type": "execute_result"
    }
   ],
   "source": [
    "postp_df"
   ]
  },
  {
   "cell_type": "code",
   "execution_count": 121,
   "id": "cfd91bdb-1deb-4b8e-865a-2d31b64e29c6",
   "metadata": {},
   "outputs": [
    {
     "data": {
      "text/html": [
       "<div>\n",
       "<style scoped>\n",
       "    .dataframe tbody tr th:only-of-type {\n",
       "        vertical-align: middle;\n",
       "    }\n",
       "\n",
       "    .dataframe tbody tr th {\n",
       "        vertical-align: top;\n",
       "    }\n",
       "\n",
       "    .dataframe thead th {\n",
       "        text-align: right;\n",
       "    }\n",
       "</style>\n",
       "<table border=\"1\" class=\"dataframe\">\n",
       "  <thead>\n",
       "    <tr style=\"text-align: right;\">\n",
       "      <th></th>\n",
       "      <th>nulls</th>\n",
       "    </tr>\n",
       "  </thead>\n",
       "  <tbody>\n",
       "    <tr>\n",
       "      <th>Timestamp</th>\n",
       "      <td>0</td>\n",
       "    </tr>\n",
       "    <tr>\n",
       "      <th>Age</th>\n",
       "      <td>0</td>\n",
       "    </tr>\n",
       "    <tr>\n",
       "      <th>Feeling sad or Tearful</th>\n",
       "      <td>0</td>\n",
       "    </tr>\n",
       "    <tr>\n",
       "      <th>Irritable towards baby &amp; partner</th>\n",
       "      <td>6</td>\n",
       "    </tr>\n",
       "    <tr>\n",
       "      <th>Trouble sleeping at night</th>\n",
       "      <td>0</td>\n",
       "    </tr>\n",
       "    <tr>\n",
       "      <th>Problems concentrating or making decision</th>\n",
       "      <td>12</td>\n",
       "    </tr>\n",
       "    <tr>\n",
       "      <th>Overeating or loss of appetite</th>\n",
       "      <td>0</td>\n",
       "    </tr>\n",
       "    <tr>\n",
       "      <th>Feeling anxious</th>\n",
       "      <td>0</td>\n",
       "    </tr>\n",
       "    <tr>\n",
       "      <th>Feeling of guilt</th>\n",
       "      <td>9</td>\n",
       "    </tr>\n",
       "    <tr>\n",
       "      <th>Problems of bonding with baby</th>\n",
       "      <td>0</td>\n",
       "    </tr>\n",
       "    <tr>\n",
       "      <th>Suicide attempt</th>\n",
       "      <td>0</td>\n",
       "    </tr>\n",
       "  </tbody>\n",
       "</table>\n",
       "</div>"
      ],
      "text/plain": [
       "                                           nulls\n",
       "Timestamp                                      0\n",
       "Age                                            0\n",
       "Feeling sad or Tearful                         0\n",
       "Irritable towards baby & partner               6\n",
       "Trouble sleeping at night                      0\n",
       "Problems concentrating or making decision     12\n",
       "Overeating or loss of appetite                 0\n",
       "Feeling anxious                                0\n",
       "Feeling of guilt                               9\n",
       "Problems of bonding with baby                  0\n",
       "Suicide attempt                                0"
      ]
     },
     "execution_count": 121,
     "metadata": {},
     "output_type": "execute_result"
    }
   ],
   "source": [
    "postp_df.loc[ : , : ].isnull().sum().to_frame('nulls')"
   ]
  },
  {
   "cell_type": "markdown",
   "id": "45b0d7df-a5e9-4bd9-8aae-0bebef28b6f6",
   "metadata": {},
   "source": [
    "From the missing values table, it can be seen that the number of missing values in our dataset is very small and even negligible compared to the amount of information available from the research"
   ]
  },
  {
   "cell_type": "code",
   "execution_count": 122,
   "id": "d430bc5e-01c7-4056-8575-61811ab5496d",
   "metadata": {
    "tags": []
   },
   "outputs": [
    {
     "data": {
      "text/plain": [
       "Age  \n",
       "40-45    364\n",
       "35-40    349\n",
       "30-35    338\n",
       "45-50    271\n",
       "25-30    181\n",
       "dtype: int64"
      ]
     },
     "execution_count": 122,
     "metadata": {},
     "output_type": "execute_result"
    }
   ],
   "source": [
    "postp_df[[\"Age\"]].value_counts()"
   ]
  },
  {
   "cell_type": "code",
   "execution_count": 123,
   "id": "68cc0676-4adf-495e-b4d8-e31d2bff9198",
   "metadata": {
    "tags": []
   },
   "outputs": [
    {
     "data": {
      "text/plain": [
       "Feeling sad or Tearful\n",
       "Yes                       536\n",
       "No                        524\n",
       "Sometimes                 443\n",
       "dtype: int64"
      ]
     },
     "execution_count": 123,
     "metadata": {},
     "output_type": "execute_result"
    }
   ],
   "source": [
    "postp_df[[\"Feeling sad or Tearful\"]].value_counts()"
   ]
  },
  {
   "cell_type": "code",
   "execution_count": 124,
   "id": "30d275f0-c29b-4e7d-a356-ddf20577804a",
   "metadata": {
    "tags": []
   },
   "outputs": [
    {
     "data": {
      "text/plain": [
       "Irritable towards baby & partner\n",
       "Yes                                 555\n",
       "No                                  499\n",
       "Sometimes                           443\n",
       "dtype: int64"
      ]
     },
     "execution_count": 124,
     "metadata": {},
     "output_type": "execute_result"
    }
   ],
   "source": [
    "postp_df[[\"Irritable towards baby & partner\"]].value_counts()"
   ]
  },
  {
   "cell_type": "code",
   "execution_count": 125,
   "id": "4e5f8952-41f6-4c79-b4ba-d97a09d4f6de",
   "metadata": {
    "tags": []
   },
   "outputs": [
    {
     "data": {
      "text/plain": [
       "Trouble sleeping at night\n",
       "Two or more days a week      640\n",
       "Yes                          445\n",
       "No                           418\n",
       "dtype: int64"
      ]
     },
     "execution_count": 125,
     "metadata": {},
     "output_type": "execute_result"
    }
   ],
   "source": [
    "postp_df[[\"Trouble sleeping at night\"]].value_counts()"
   ]
  },
  {
   "cell_type": "code",
   "execution_count": 126,
   "id": "137ed3f7-7db6-464d-aad0-2315ab35d59d",
   "metadata": {
    "tags": []
   },
   "outputs": [
    {
     "data": {
      "text/plain": [
       "Problems concentrating or making decision\n",
       "No                                           583\n",
       "Often                                        473\n",
       "Yes                                          435\n",
       "dtype: int64"
      ]
     },
     "execution_count": 126,
     "metadata": {},
     "output_type": "execute_result"
    }
   ],
   "source": [
    "postp_df[[\"Problems concentrating or making decision\"]].value_counts()"
   ]
  },
  {
   "cell_type": "code",
   "execution_count": 127,
   "id": "59799885-a6fb-42d1-aaa5-12f52d66e1c4",
   "metadata": {
    "tags": []
   },
   "outputs": [
    {
     "data": {
      "text/plain": [
       "Overeating or loss of appetite\n",
       "No                                841\n",
       "Yes                               343\n",
       "Not at all                        319\n",
       "dtype: int64"
      ]
     },
     "execution_count": 127,
     "metadata": {},
     "output_type": "execute_result"
    }
   ],
   "source": [
    "postp_df[[\"Overeating or loss of appetite\"]].value_counts()"
   ]
  },
  {
   "cell_type": "code",
   "execution_count": 128,
   "id": "24efb4f8-169a-4dc8-a566-f2f23f500e70",
   "metadata": {
    "tags": []
   },
   "outputs": [
    {
     "data": {
      "text/plain": [
       "Feeling anxious\n",
       "Yes                980\n",
       "No                 523\n",
       "dtype: int64"
      ]
     },
     "execution_count": 128,
     "metadata": {},
     "output_type": "execute_result"
    }
   ],
   "source": [
    "postp_df[[\"Feeling anxious\"]].value_counts()"
   ]
  },
  {
   "cell_type": "code",
   "execution_count": 129,
   "id": "f5d7a96e-1277-4076-aad6-3d800fcc0b38",
   "metadata": {
    "tags": []
   },
   "outputs": [
    {
     "data": {
      "text/plain": [
       "Feeling of guilt\n",
       "No                  624\n",
       "Maybe               528\n",
       "Yes                 342\n",
       "dtype: int64"
      ]
     },
     "execution_count": 129,
     "metadata": {},
     "output_type": "execute_result"
    }
   ],
   "source": [
    "postp_df[[\"Feeling of guilt\"]].value_counts()"
   ]
  },
  {
   "cell_type": "code",
   "execution_count": 130,
   "id": "e7b40d8f-3684-4484-8cce-2554b0a672df",
   "metadata": {
    "tags": []
   },
   "outputs": [
    {
     "data": {
      "text/plain": [
       "Problems of bonding with baby\n",
       "No                               557\n",
       "Sometimes                        542\n",
       "Yes                              404\n",
       "dtype: int64"
      ]
     },
     "execution_count": 130,
     "metadata": {},
     "output_type": "execute_result"
    }
   ],
   "source": [
    "postp_df[[\"Problems of bonding with baby\"]].value_counts()"
   ]
  },
  {
   "cell_type": "code",
   "execution_count": 131,
   "id": "71b3ae52-d9a7-40aa-bbe6-ff3dc919017a",
   "metadata": {
    "tags": []
   },
   "outputs": [
    {
     "data": {
      "text/plain": [
       "Suicide attempt      \n",
       "No                       709\n",
       "Yes                      459\n",
       "Not interested to say    335\n",
       "dtype: int64"
      ]
     },
     "execution_count": 131,
     "metadata": {},
     "output_type": "execute_result"
    }
   ],
   "source": [
    "postp_df[[\"Suicide attempt\"]].value_counts()"
   ]
  },
  {
   "cell_type": "code",
   "execution_count": 132,
   "id": "5e06ac6b-2458-42ac-bb8a-f6b505cd8d4e",
   "metadata": {
    "tags": []
   },
   "outputs": [
    {
     "data": {
      "image/png": "[encoded data removed]",
      "text/plain": [
       "<Figure size 600x600 with 1 Axes>"
      ]
     },
     "metadata": {},
     "output_type": "display_data"
    }
   ],
   "source": [
    "sizes = [181, 338, 349, 364, 271]\n",
    "labels = [\"25-30\", \"30-35\", \"35-40\", \"40-45\", \"45-50\"]\n",
    "\n",
    "# יצירת גרף פאי\n",
    "plt.figure(figsize=(6, 6))\n",
    "sns.set_palette(\"pastel\")\n",
    "plt.pie(sizes, labels=labels, autopct='%1.1f%%')\n",
    "\n",
    "# הצגת הגרף\n",
    "plt.show()"
   ]
  },
  {
   "cell_type": "markdown",
   "id": "45061015-0ac1-4d19-b886-2cfb9365a00d",
   "metadata": {},
   "source": [
    "מגרף הפאי הנ\"ל ניתן לראות כי כמות הנשים בקבוצות הקצה(25-30 ו45-50)הסובלות מדיכאון לאחר לידה שהשתתפו במחקר בעלות משקל קטן יותר משאר קבוצות הגילאים במחקר. "
   ]
  },
  {
   "cell_type": "code",
   "execution_count": 133,
   "id": "4e45a339-e621-4402-bf8d-c388480ceffa",
   "metadata": {
    "tags": []
   },
   "outputs": [],
   "source": [
    "#fig, axes = plt.subplots(figsize=(20, 5), ncols=3)\n",
    "#column_order = [\"Yes\",\"No\",\"Two or more days a week\"] #בחירת סדר העמודות המוצגות\n",
    "#sns.countplot(ax=axes[0], data=postp_df,x=\"Trouble sleeping at night\",order=column_order)\n",
    "#sns.countplot(ax=axes[1], data=postp_df,x=\"Suicide attempt\")\n",
    "#sns.countplot(ax=axes[2], data=postp_df,x=\"Overeating or loss of appetite\")\n",
    "#plt.show()"
   ]
  },
  {
   "cell_type": "code",
   "execution_count": 134,
   "id": "4b85c796-a6dc-4d00-bb18-9ddb89533962",
   "metadata": {},
   "outputs": [
    {
     "data": {
      "image/png": "[encoded data removed]",
      "text/plain": [
       "<Figure size 800x500 with 1 Axes>"
      ]
     },
     "metadata": {},
     "output_type": "display_data"
    }
   ],
   "source": [
    "percentage = postp_df['Overeating or loss of appetite'].value_counts(normalize=True).mul(100).rename('percentage').reset_index()\n",
    "\n",
    "# יצירת גרף עם אחוזים\n",
    "plt.figure(figsize=(8, 5))\n",
    "sns.barplot(data=percentage, x='index', y='percentage')\n",
    "plt.xlabel('Overeating or loss of appetite')\n",
    "plt.ylabel('Percentage of women')\n",
    "plt.ylim(0, 70)  # קביעת תחום הערכים לציר y\n",
    "plt.show()"
   ]
  },
  {
   "cell_type": "markdown",
   "id": "c1111d0f-9a64-43ec-98b1-afec17d1f09a",
   "metadata": {},
   "source": [
    "לרוב אנשים נוטים לחשוב כי דיכאון יכול להשפיע על תיאבון,אך בהתבסס על נתוני המחקר- הגרף שלפנינו מראה כי רק לרבע מהנשים המשתתפות יש השפעה על התיאבון. "
   ]
  },
  {
   "cell_type": "code",
   "execution_count": 135,
   "id": "9c46b666-00dd-42c2-98da-06d94a39587d",
   "metadata": {
    "tags": []
   },
   "outputs": [],
   "source": [
    "#האם שווה להמיר למספרים לטובת ביצוע קורולציה?\n",
    "#plt.figure(figsize=(4,3))\n",
    "#correlation_matrix = postp_df[['Age', 'Trouble sleeping at night','Suicide attempt', 'Overeating or loss of appetite']].corr().round(2)\n",
    "#sns.heatmap(data=correlation_matrix,cmap='Blues', annot=True)\n"
   ]
  },
  {
   "cell_type": "code",
   "execution_count": 136,
   "id": "74c3dcb0-6e55-47e1-932e-eb8385d290b1",
   "metadata": {
    "tags": []
   },
   "outputs": [
    {
     "data": {
      "image/png": "[encoded data removed]",
      "text/plain": [
       "<Figure size 2000x500 with 2 Axes>"
      ]
     },
     "metadata": {},
     "output_type": "display_data"
    }
   ],
   "source": [
    "fig, axes = plt.subplots(figsize=(20, 5), ncols=2)\n",
    "column_order = [\"Yes\",\"No\",\"Sometimes\"] #שינוי סדר העמודות המוצגות\n",
    "sns.countplot(ax=axes[0], data=postp_df,x=\"Irritable towards baby & partner\",order=column_order) \n",
    "sns.countplot(ax=axes[1], data=postp_df,x=\"Problems of bonding with baby\",order=column_order)\n",
    "#sns.countplot(ax=axes[2], data=postp_df,x=\"Country\")\n",
    "plt.show()"
   ]
  },
  {
   "cell_type": "code",
   "execution_count": 137,
   "id": "cc10555c-5c53-4e4a-be00-0d9e7828f0e4",
   "metadata": {
    "tags": []
   },
   "outputs": [
    {
     "data": {
      "text/html": [
       "<div>\n",
       "<style scoped>\n",
       "    .dataframe tbody tr th:only-of-type {\n",
       "        vertical-align: middle;\n",
       "    }\n",
       "\n",
       "    .dataframe tbody tr th {\n",
       "        vertical-align: top;\n",
       "    }\n",
       "\n",
       "    .dataframe thead th {\n",
       "        text-align: right;\n",
       "    }\n",
       "</style>\n",
       "<table border=\"1\" class=\"dataframe\">\n",
       "  <thead>\n",
       "    <tr style=\"text-align: right;\">\n",
       "      <th></th>\n",
       "      <th>Timestamp</th>\n",
       "      <th>Age</th>\n",
       "      <th>Feeling sad or Tearful</th>\n",
       "      <th>Irritable towards baby &amp; partner</th>\n",
       "      <th>Trouble sleeping at night</th>\n",
       "      <th>Problems concentrating or making decision</th>\n",
       "      <th>Overeating or loss of appetite</th>\n",
       "      <th>Feeling anxious</th>\n",
       "      <th>Feeling of guilt</th>\n",
       "      <th>Problems of bonding with baby</th>\n",
       "      <th>Suicide attempt</th>\n",
       "    </tr>\n",
       "  </thead>\n",
       "  <tbody>\n",
       "    <tr>\n",
       "      <th>0</th>\n",
       "      <td>6/14/2022 20:02</td>\n",
       "      <td>35-40</td>\n",
       "      <td>Yes</td>\n",
       "      <td>Yes</td>\n",
       "      <td>Two or more days a week</td>\n",
       "      <td>Yes</td>\n",
       "      <td>Yes</td>\n",
       "      <td>Yes</td>\n",
       "      <td>No</td>\n",
       "      <td>Yes</td>\n",
       "      <td>Yes</td>\n",
       "    </tr>\n",
       "    <tr>\n",
       "      <th>13</th>\n",
       "      <td>6/14/2022 22:05</td>\n",
       "      <td>45-50</td>\n",
       "      <td>No</td>\n",
       "      <td>Yes</td>\n",
       "      <td>No</td>\n",
       "      <td>Yes</td>\n",
       "      <td>No</td>\n",
       "      <td>Yes</td>\n",
       "      <td>Maybe</td>\n",
       "      <td>Yes</td>\n",
       "      <td>Yes</td>\n",
       "    </tr>\n",
       "    <tr>\n",
       "      <th>31</th>\n",
       "      <td>6/14/2022 22:15</td>\n",
       "      <td>45-50</td>\n",
       "      <td>Sometimes</td>\n",
       "      <td>Yes</td>\n",
       "      <td>Two or more days a week</td>\n",
       "      <td>No</td>\n",
       "      <td>No</td>\n",
       "      <td>Yes</td>\n",
       "      <td>Yes</td>\n",
       "      <td>Yes</td>\n",
       "      <td>Not interested to say</td>\n",
       "    </tr>\n",
       "    <tr>\n",
       "      <th>33</th>\n",
       "      <td>6/14/2022 22:16</td>\n",
       "      <td>30-35</td>\n",
       "      <td>Yes</td>\n",
       "      <td>Yes</td>\n",
       "      <td>Yes</td>\n",
       "      <td>Yes</td>\n",
       "      <td>Yes</td>\n",
       "      <td>Yes</td>\n",
       "      <td>Yes</td>\n",
       "      <td>Yes</td>\n",
       "      <td>Yes</td>\n",
       "    </tr>\n",
       "    <tr>\n",
       "      <th>36</th>\n",
       "      <td>6/14/2022 22:16</td>\n",
       "      <td>45-50</td>\n",
       "      <td>Sometimes</td>\n",
       "      <td>Yes</td>\n",
       "      <td>Yes</td>\n",
       "      <td>No</td>\n",
       "      <td>Not at all</td>\n",
       "      <td>No</td>\n",
       "      <td>No</td>\n",
       "      <td>Yes</td>\n",
       "      <td>Not interested to say</td>\n",
       "    </tr>\n",
       "    <tr>\n",
       "      <th>...</th>\n",
       "      <td>...</td>\n",
       "      <td>...</td>\n",
       "      <td>...</td>\n",
       "      <td>...</td>\n",
       "      <td>...</td>\n",
       "      <td>...</td>\n",
       "      <td>...</td>\n",
       "      <td>...</td>\n",
       "      <td>...</td>\n",
       "      <td>...</td>\n",
       "      <td>...</td>\n",
       "    </tr>\n",
       "    <tr>\n",
       "      <th>1445</th>\n",
       "      <td>6/15/2022 0:20</td>\n",
       "      <td>25-30</td>\n",
       "      <td>Sometimes</td>\n",
       "      <td>Yes</td>\n",
       "      <td>Yes</td>\n",
       "      <td>No</td>\n",
       "      <td>Not at all</td>\n",
       "      <td>No</td>\n",
       "      <td>No</td>\n",
       "      <td>Yes</td>\n",
       "      <td>Not interested to say</td>\n",
       "    </tr>\n",
       "    <tr>\n",
       "      <th>1463</th>\n",
       "      <td>6/15/2022 0:27</td>\n",
       "      <td>40-45</td>\n",
       "      <td>No</td>\n",
       "      <td>Yes</td>\n",
       "      <td>Two or more days a week</td>\n",
       "      <td>Yes</td>\n",
       "      <td>No</td>\n",
       "      <td>Yes</td>\n",
       "      <td>No</td>\n",
       "      <td>Yes</td>\n",
       "      <td>Yes</td>\n",
       "    </tr>\n",
       "    <tr>\n",
       "      <th>1472</th>\n",
       "      <td>6/15/2022 0:28</td>\n",
       "      <td>40-45</td>\n",
       "      <td>No</td>\n",
       "      <td>Yes</td>\n",
       "      <td>Two or more days a week</td>\n",
       "      <td>Yes</td>\n",
       "      <td>No</td>\n",
       "      <td>Yes</td>\n",
       "      <td>No</td>\n",
       "      <td>Yes</td>\n",
       "      <td>Yes</td>\n",
       "    </tr>\n",
       "    <tr>\n",
       "      <th>1486</th>\n",
       "      <td>6/15/2022 0:31</td>\n",
       "      <td>35-40</td>\n",
       "      <td>No</td>\n",
       "      <td>Yes</td>\n",
       "      <td>Two or more days a week</td>\n",
       "      <td>Yes</td>\n",
       "      <td>No</td>\n",
       "      <td>Yes</td>\n",
       "      <td>No</td>\n",
       "      <td>Yes</td>\n",
       "      <td>Yes</td>\n",
       "    </tr>\n",
       "    <tr>\n",
       "      <th>1495</th>\n",
       "      <td>6/15/2022 0:33</td>\n",
       "      <td>40-45</td>\n",
       "      <td>No</td>\n",
       "      <td>Yes</td>\n",
       "      <td>Two or more days a week</td>\n",
       "      <td>Yes</td>\n",
       "      <td>No</td>\n",
       "      <td>Yes</td>\n",
       "      <td>No</td>\n",
       "      <td>Yes</td>\n",
       "      <td>Yes</td>\n",
       "    </tr>\n",
       "  </tbody>\n",
       "</table>\n",
       "<p>166 rows × 11 columns</p>\n",
       "</div>"
      ],
      "text/plain": [
       "            Timestamp    Age Feeling sad or Tearful  \\\n",
       "0     6/14/2022 20:02  35-40                    Yes   \n",
       "13    6/14/2022 22:05  45-50                     No   \n",
       "31    6/14/2022 22:15  45-50              Sometimes   \n",
       "33    6/14/2022 22:16  30-35                    Yes   \n",
       "36    6/14/2022 22:16  45-50              Sometimes   \n",
       "...               ...    ...                    ...   \n",
       "1445   6/15/2022 0:20  25-30              Sometimes   \n",
       "1463   6/15/2022 0:27  40-45                     No   \n",
       "1472   6/15/2022 0:28  40-45                     No   \n",
       "1486   6/15/2022 0:31  35-40                     No   \n",
       "1495   6/15/2022 0:33  40-45                     No   \n",
       "\n",
       "     Irritable towards baby & partner Trouble sleeping at night  \\\n",
       "0                                 Yes   Two or more days a week   \n",
       "13                                Yes                        No   \n",
       "31                                Yes   Two or more days a week   \n",
       "33                                Yes                       Yes   \n",
       "36                                Yes                       Yes   \n",
       "...                               ...                       ...   \n",
       "1445                              Yes                       Yes   \n",
       "1463                              Yes   Two or more days a week   \n",
       "1472                              Yes   Two or more days a week   \n",
       "1486                              Yes   Two or more days a week   \n",
       "1495                              Yes   Two or more days a week   \n",
       "\n",
       "     Problems concentrating or making decision Overeating or loss of appetite  \\\n",
       "0                                          Yes                            Yes   \n",
       "13                                         Yes                             No   \n",
       "31                                          No                             No   \n",
       "33                                         Yes                            Yes   \n",
       "36                                          No                     Not at all   \n",
       "...                                        ...                            ...   \n",
       "1445                                        No                     Not at all   \n",
       "1463                                       Yes                             No   \n",
       "1472                                       Yes                             No   \n",
       "1486                                       Yes                             No   \n",
       "1495                                       Yes                             No   \n",
       "\n",
       "     Feeling anxious Feeling of guilt Problems of bonding with baby  \\\n",
       "0                Yes               No                           Yes   \n",
       "13               Yes            Maybe                           Yes   \n",
       "31               Yes              Yes                           Yes   \n",
       "33               Yes              Yes                           Yes   \n",
       "36                No               No                           Yes   \n",
       "...              ...              ...                           ...   \n",
       "1445              No               No                           Yes   \n",
       "1463             Yes               No                           Yes   \n",
       "1472             Yes               No                           Yes   \n",
       "1486             Yes               No                           Yes   \n",
       "1495             Yes               No                           Yes   \n",
       "\n",
       "            Suicide attempt  \n",
       "0                       Yes  \n",
       "13                      Yes  \n",
       "31    Not interested to say  \n",
       "33                      Yes  \n",
       "36    Not interested to say  \n",
       "...                     ...  \n",
       "1445  Not interested to say  \n",
       "1463                    Yes  \n",
       "1472                    Yes  \n",
       "1486                    Yes  \n",
       "1495                    Yes  \n",
       "\n",
       "[166 rows x 11 columns]"
      ]
     },
     "execution_count": 137,
     "metadata": {},
     "output_type": "execute_result"
    }
   ],
   "source": [
    "bothirritablebondingsyes = postp_df[(postp_df['Irritable towards baby & partner'] == 'Yes') & (postp_df['Problems of bonding with baby'] == 'Yes')]\n",
    "bothirritablebondingsyes "
   ]
  },
  {
   "cell_type": "code",
   "execution_count": 138,
   "id": "184adf0f-c2e4-48b8-9195-9fea2a119174",
   "metadata": {
    "tags": []
   },
   "outputs": [
    {
     "data": {
      "text/plain": [
       "166"
      ]
     },
     "execution_count": 138,
     "metadata": {},
     "output_type": "execute_result"
    }
   ],
   "source": [
    "num_both_irritable_bondingsyes = len(bothirritablebondingsyes)\n",
    "num_both_irritable_bondingsyes"
   ]
  },
  {
   "cell_type": "code",
   "execution_count": 139,
   "id": "19636d21-cfdc-455b-b54c-986059e6c4c0",
   "metadata": {
    "tags": []
   },
   "outputs": [
    {
     "data": {
      "text/plain": [
       "793"
      ]
     },
     "execution_count": 139,
     "metadata": {},
     "output_type": "execute_result"
    }
   ],
   "source": [
    "totalirritablebondingsyes = postp_df[(postp_df['Irritable towards baby & partner'] == 'Yes') | (postp_df['Problems of bonding with baby'] == 'Yes')]\n",
    "num_total_irritable_bondingsyes = len(totalirritablebondingsyes)\n",
    "num_total_irritable_bondingsyes"
   ]
  },
  {
   "cell_type": "markdown",
   "id": "f37d0c8e-2f8f-4c5d-ba64-c1a316ec9f2a",
   "metadata": {},
   "source": [
    "793 נשים הצביעו עך כך שיש להן חוסר חיבור עם התינוק או התפרצויות על התינוק והבן זוג או גם וגם  למרות שנרשמה כמות ניכרת של נשים שהצהירו על חווייתן של התעצבנות כלפי התינוק ובעיות בקישור עם התינוק, על פי התרשימים, משתנים אלו לא בהכרח גורמים ישירים להתפרצות כלפיו. נראה שרק 166 מהנשים במחקר חוו גם וגם, כלומר חוו גם התעצבנות וגם בעיות בקישור עם התינוק. חוסר התחברות לתינוק עשוי להיות אופציה נפוצה יותר לנשים שלא הצהירו על התעצבנות, כך שנראה כי גורמים נוספים עשויים לשפוע על התפרצות כלפי התינוק. עם זאת, התחברות חלשה או חוסר התחברות אמנם יכולה להיות גורם רלוונטי בהתפרצות כלפי התינוק, אך כפי שמצופה, גורמים רבים נוספים עשויים לתרום לדינמיקה המורכבת של תפרצות רגשות בתקופת ההתעסקות עם התינוק החדש.\n",
    "\n",
    "# על פי מה המסקנה? :)\n",
    "\n",
    "\n",
    "\n"
   ]
  },
  {
   "cell_type": "code",
   "execution_count": 140,
   "id": "ae5bc0b1-46db-43b4-b095-6f0c6917b18e",
   "metadata": {
    "tags": []
   },
   "outputs": [],
   "source": [
    "IrritableTowards_map={\"No\":1,'Sometimes':2,'Yes':3}\n",
    "Problemsofbonding_map={\"No\":1,\"Sometimes\":2,\"Yes\":3}\n",
    "postp_df['Irritable towards baby & partner numric']=postp_df['Irritable towards baby & partner'].map(IrritableTowards_map)"
   ]
  },
  {
   "cell_type": "code",
   "execution_count": 141,
   "id": "78568bfa-97e5-4dba-87eb-02a07c9f979e",
   "metadata": {
    "tags": []
   },
   "outputs": [
    {
     "data": {
      "text/plain": [
       "array(['Yes', 'Sometimes', 'No'], dtype=object)"
      ]
     },
     "execution_count": 141,
     "metadata": {},
     "output_type": "execute_result"
    }
   ],
   "source": [
    "postp_df['Problems of bonding with baby'].unique()"
   ]
  },
  {
   "cell_type": "code",
   "execution_count": 142,
   "id": "2b6c9cff-bc34-4f04-9b19-a9c07da0e6ac",
   "metadata": {
    "tags": []
   },
   "outputs": [],
   "source": [
    "\n",
    "postp_df['Problems of bonding with baby numric']=postp_df['Problems of bonding with baby'].map(IrritableTowards_map)"
   ]
  },
  {
   "cell_type": "code",
   "execution_count": 143,
   "id": "dce65a49-5016-4eef-a10e-653318903b10",
   "metadata": {
    "tags": []
   },
   "outputs": [
    {
     "data": {
      "text/plain": [
       "-0.07368726545162704"
      ]
     },
     "execution_count": 143,
     "metadata": {},
     "output_type": "execute_result"
    }
   ],
   "source": [
    "correlation = postp_df['Irritable towards baby & partner numric'].corr(postp_df['Problems of bonding with baby numric'])\n",
    "correlation"
   ]
  },
  {
   "cell_type": "markdown",
   "id": "bb887a37-216e-4c94-bc87-f33a6549322d",
   "metadata": {},
   "source": [
    "# האם שווה להשאיר את גרף הקורולציה למרות שהנתונים לא גבוהים בקורולציה?"
   ]
  },
  {
   "cell_type": "code",
   "execution_count": 144,
   "id": "a78d524a-a48d-450b-b5af-0956b32446ea",
   "metadata": {
    "tags": []
   },
   "outputs": [
    {
     "data": {
      "text/plain": [
       "<AxesSubplot:>"
      ]
     },
     "execution_count": 144,
     "metadata": {},
     "output_type": "execute_result"
    },
    {
     "data": {
      "image/png": "[encoded data removed]",
      "text/plain": [
       "<Figure size 640x480 with 2 Axes>"
      ]
     },
     "metadata": {},
     "output_type": "display_data"
    }
   ],
   "source": [
    "correlation = postp_df['Irritable towards baby & partner numric'].corr(postp_df['Problems of bonding with baby numric'])\n",
    "correlation\n",
    "sns.heatmap(postp_df.corr(), annot=True, cmap='coolwarm', linewidths=0.5)"
   ]
  },
  {
   "cell_type": "markdown",
   "id": "80201a0d-6233-4efd-a350-7662858fe953",
   "metadata": {},
   "source": [
    "# מה מטרת הקשר בין הדברים? (כי יש סהכ הבדל של 70 נשים שאמרו כן בשניהם לעומת אלה שאמרו לא בשניהם)"
   ]
  },
  {
   "cell_type": "code",
   "execution_count": 145,
   "id": "1971b8f3-65aa-4277-a225-c79bf34a7101",
   "metadata": {
    "tags": []
   },
   "outputs": [
    {
     "data": {
      "text/html": [
       "<div>\n",
       "<style scoped>\n",
       "    .dataframe tbody tr th:only-of-type {\n",
       "        vertical-align: middle;\n",
       "    }\n",
       "\n",
       "    .dataframe tbody tr th {\n",
       "        vertical-align: top;\n",
       "    }\n",
       "\n",
       "    .dataframe thead th {\n",
       "        text-align: right;\n",
       "    }\n",
       "</style>\n",
       "<table border=\"1\" class=\"dataframe\">\n",
       "  <thead>\n",
       "    <tr style=\"text-align: right;\">\n",
       "      <th></th>\n",
       "      <th>Timestamp</th>\n",
       "      <th>Age</th>\n",
       "      <th>Feeling sad or Tearful</th>\n",
       "      <th>Irritable towards baby &amp; partner</th>\n",
       "      <th>Trouble sleeping at night</th>\n",
       "      <th>Problems concentrating or making decision</th>\n",
       "      <th>Overeating or loss of appetite</th>\n",
       "      <th>Feeling anxious</th>\n",
       "      <th>Feeling of guilt</th>\n",
       "      <th>Problems of bonding with baby</th>\n",
       "      <th>Suicide attempt</th>\n",
       "      <th>Irritable towards baby &amp; partner numric</th>\n",
       "      <th>Problems of bonding with baby numric</th>\n",
       "    </tr>\n",
       "  </thead>\n",
       "  <tbody>\n",
       "    <tr>\n",
       "      <th>5</th>\n",
       "      <td>6/14/2022 20:06</td>\n",
       "      <td>30-35</td>\n",
       "      <td>No</td>\n",
       "      <td>No</td>\n",
       "      <td>Yes</td>\n",
       "      <td>Yes</td>\n",
       "      <td>Yes</td>\n",
       "      <td>Yes</td>\n",
       "      <td>No</td>\n",
       "      <td>No</td>\n",
       "      <td>Yes</td>\n",
       "      <td>1.0</td>\n",
       "      <td>1</td>\n",
       "    </tr>\n",
       "    <tr>\n",
       "      <th>7</th>\n",
       "      <td>6/14/2022 20:07</td>\n",
       "      <td>35-40</td>\n",
       "      <td>Yes</td>\n",
       "      <td>No</td>\n",
       "      <td>Yes</td>\n",
       "      <td>Yes</td>\n",
       "      <td>No</td>\n",
       "      <td>Yes</td>\n",
       "      <td>No</td>\n",
       "      <td>No</td>\n",
       "      <td>No</td>\n",
       "      <td>1.0</td>\n",
       "      <td>1</td>\n",
       "    </tr>\n",
       "    <tr>\n",
       "      <th>12</th>\n",
       "      <td>6/14/2022 22:05</td>\n",
       "      <td>40-45</td>\n",
       "      <td>Yes</td>\n",
       "      <td>No</td>\n",
       "      <td>No</td>\n",
       "      <td>Yes</td>\n",
       "      <td>No</td>\n",
       "      <td>Yes</td>\n",
       "      <td>No</td>\n",
       "      <td>No</td>\n",
       "      <td>Yes</td>\n",
       "      <td>1.0</td>\n",
       "      <td>1</td>\n",
       "    </tr>\n",
       "    <tr>\n",
       "      <th>26</th>\n",
       "      <td>6/14/2022 22:09</td>\n",
       "      <td>30-35</td>\n",
       "      <td>No</td>\n",
       "      <td>No</td>\n",
       "      <td>Yes</td>\n",
       "      <td>Often</td>\n",
       "      <td>No</td>\n",
       "      <td>Yes</td>\n",
       "      <td>No</td>\n",
       "      <td>No</td>\n",
       "      <td>Yes</td>\n",
       "      <td>1.0</td>\n",
       "      <td>1</td>\n",
       "    </tr>\n",
       "    <tr>\n",
       "      <th>34</th>\n",
       "      <td>6/14/2022 22:16</td>\n",
       "      <td>35-40</td>\n",
       "      <td>No</td>\n",
       "      <td>No</td>\n",
       "      <td>Yes</td>\n",
       "      <td>No</td>\n",
       "      <td>No</td>\n",
       "      <td>Yes</td>\n",
       "      <td>Yes</td>\n",
       "      <td>No</td>\n",
       "      <td>Yes</td>\n",
       "      <td>1.0</td>\n",
       "      <td>1</td>\n",
       "    </tr>\n",
       "    <tr>\n",
       "      <th>...</th>\n",
       "      <td>...</td>\n",
       "      <td>...</td>\n",
       "      <td>...</td>\n",
       "      <td>...</td>\n",
       "      <td>...</td>\n",
       "      <td>...</td>\n",
       "      <td>...</td>\n",
       "      <td>...</td>\n",
       "      <td>...</td>\n",
       "      <td>...</td>\n",
       "      <td>...</td>\n",
       "      <td>...</td>\n",
       "      <td>...</td>\n",
       "    </tr>\n",
       "    <tr>\n",
       "      <th>1266</th>\n",
       "      <td>6/15/2022 0:14</td>\n",
       "      <td>45-50</td>\n",
       "      <td>No</td>\n",
       "      <td>No</td>\n",
       "      <td>Yes</td>\n",
       "      <td>Often</td>\n",
       "      <td>No</td>\n",
       "      <td>Yes</td>\n",
       "      <td>No</td>\n",
       "      <td>No</td>\n",
       "      <td>Yes</td>\n",
       "      <td>1.0</td>\n",
       "      <td>1</td>\n",
       "    </tr>\n",
       "    <tr>\n",
       "      <th>1274</th>\n",
       "      <td>6/15/2022 0:19</td>\n",
       "      <td>25-30</td>\n",
       "      <td>No</td>\n",
       "      <td>No</td>\n",
       "      <td>Yes</td>\n",
       "      <td>No</td>\n",
       "      <td>No</td>\n",
       "      <td>Yes</td>\n",
       "      <td>Yes</td>\n",
       "      <td>No</td>\n",
       "      <td>Yes</td>\n",
       "      <td>1.0</td>\n",
       "      <td>1</td>\n",
       "    </tr>\n",
       "    <tr>\n",
       "      <th>1353</th>\n",
       "      <td>6/14/2022 22:16</td>\n",
       "      <td>35-40</td>\n",
       "      <td>No</td>\n",
       "      <td>No</td>\n",
       "      <td>Yes</td>\n",
       "      <td>No</td>\n",
       "      <td>No</td>\n",
       "      <td>Yes</td>\n",
       "      <td>Yes</td>\n",
       "      <td>No</td>\n",
       "      <td>Yes</td>\n",
       "      <td>1.0</td>\n",
       "      <td>1</td>\n",
       "    </tr>\n",
       "    <tr>\n",
       "      <th>1435</th>\n",
       "      <td>6/15/2022 0:14</td>\n",
       "      <td>45-50</td>\n",
       "      <td>No</td>\n",
       "      <td>No</td>\n",
       "      <td>Yes</td>\n",
       "      <td>Often</td>\n",
       "      <td>No</td>\n",
       "      <td>Yes</td>\n",
       "      <td>No</td>\n",
       "      <td>No</td>\n",
       "      <td>Yes</td>\n",
       "      <td>1.0</td>\n",
       "      <td>1</td>\n",
       "    </tr>\n",
       "    <tr>\n",
       "      <th>1443</th>\n",
       "      <td>6/15/2022 0:19</td>\n",
       "      <td>25-30</td>\n",
       "      <td>No</td>\n",
       "      <td>No</td>\n",
       "      <td>Yes</td>\n",
       "      <td>No</td>\n",
       "      <td>No</td>\n",
       "      <td>Yes</td>\n",
       "      <td>Yes</td>\n",
       "      <td>No</td>\n",
       "      <td>Yes</td>\n",
       "      <td>1.0</td>\n",
       "      <td>1</td>\n",
       "    </tr>\n",
       "  </tbody>\n",
       "</table>\n",
       "<p>96 rows × 13 columns</p>\n",
       "</div>"
      ],
      "text/plain": [
       "            Timestamp    Age Feeling sad or Tearful  \\\n",
       "5     6/14/2022 20:06  30-35                     No   \n",
       "7     6/14/2022 20:07  35-40                    Yes   \n",
       "12    6/14/2022 22:05  40-45                    Yes   \n",
       "26    6/14/2022 22:09  30-35                     No   \n",
       "34    6/14/2022 22:16  35-40                     No   \n",
       "...               ...    ...                    ...   \n",
       "1266   6/15/2022 0:14  45-50                     No   \n",
       "1274   6/15/2022 0:19  25-30                     No   \n",
       "1353  6/14/2022 22:16  35-40                     No   \n",
       "1435   6/15/2022 0:14  45-50                     No   \n",
       "1443   6/15/2022 0:19  25-30                     No   \n",
       "\n",
       "     Irritable towards baby & partner Trouble sleeping at night  \\\n",
       "5                                  No                       Yes   \n",
       "7                                  No                       Yes   \n",
       "12                                 No                        No   \n",
       "26                                 No                       Yes   \n",
       "34                                 No                       Yes   \n",
       "...                               ...                       ...   \n",
       "1266                               No                       Yes   \n",
       "1274                               No                       Yes   \n",
       "1353                               No                       Yes   \n",
       "1435                               No                       Yes   \n",
       "1443                               No                       Yes   \n",
       "\n",
       "     Problems concentrating or making decision Overeating or loss of appetite  \\\n",
       "5                                          Yes                            Yes   \n",
       "7                                          Yes                             No   \n",
       "12                                         Yes                             No   \n",
       "26                                       Often                             No   \n",
       "34                                          No                             No   \n",
       "...                                        ...                            ...   \n",
       "1266                                     Often                             No   \n",
       "1274                                        No                             No   \n",
       "1353                                        No                             No   \n",
       "1435                                     Often                             No   \n",
       "1443                                        No                             No   \n",
       "\n",
       "     Feeling anxious Feeling of guilt Problems of bonding with baby  \\\n",
       "5                Yes               No                            No   \n",
       "7                Yes               No                            No   \n",
       "12               Yes               No                            No   \n",
       "26               Yes               No                            No   \n",
       "34               Yes              Yes                            No   \n",
       "...              ...              ...                           ...   \n",
       "1266             Yes               No                            No   \n",
       "1274             Yes              Yes                            No   \n",
       "1353             Yes              Yes                            No   \n",
       "1435             Yes               No                            No   \n",
       "1443             Yes              Yes                            No   \n",
       "\n",
       "     Suicide attempt  Irritable towards baby & partner numric  \\\n",
       "5                Yes                                      1.0   \n",
       "7                 No                                      1.0   \n",
       "12               Yes                                      1.0   \n",
       "26               Yes                                      1.0   \n",
       "34               Yes                                      1.0   \n",
       "...              ...                                      ...   \n",
       "1266             Yes                                      1.0   \n",
       "1274             Yes                                      1.0   \n",
       "1353             Yes                                      1.0   \n",
       "1435             Yes                                      1.0   \n",
       "1443             Yes                                      1.0   \n",
       "\n",
       "      Problems of bonding with baby numric  \n",
       "5                                        1  \n",
       "7                                        1  \n",
       "12                                       1  \n",
       "26                                       1  \n",
       "34                                       1  \n",
       "...                                    ...  \n",
       "1266                                     1  \n",
       "1274                                     1  \n",
       "1353                                     1  \n",
       "1435                                     1  \n",
       "1443                                     1  \n",
       "\n",
       "[96 rows x 13 columns]"
      ]
     },
     "execution_count": 145,
     "metadata": {},
     "output_type": "execute_result"
    }
   ],
   "source": [
    "#מספר הנשים שאמרו לא גם בחוסר התחברות וגם בהתפרצויות\n",
    "bothirritablebondingsno = postp_df[(postp_df['Irritable towards baby & partner'] == 'No') & (postp_df['Problems of bonding with baby'] == 'No')]\n",
    "bothirritablebondingsno"
   ]
  },
  {
   "cell_type": "code",
   "execution_count": 146,
   "id": "eec76201-6e46-4456-911f-2373f2e8ef6d",
   "metadata": {
    "tags": []
   },
   "outputs": [
    {
     "data": {
      "text/plain": [
       "96"
      ]
     },
     "execution_count": 146,
     "metadata": {},
     "output_type": "execute_result"
    }
   ],
   "source": [
    "num_both_irritable_bondingsno = len(bothirritablebondingsno)\n",
    "num_both_irritable_bondingsno"
   ]
  },
  {
   "cell_type": "markdown",
   "id": "4b471739-a8d2-4067-8e29-9b953659518c",
   "metadata": {
    "tags": []
   },
   "source": [
    "רואים שיש רק 96 נשים שלא חוו גם בעיות בחיבור לתינוק וגם עצבנות כלפי התינוק ובן הזוג"
   ]
  },
  {
   "cell_type": "code",
   "execution_count": 147,
   "id": "88795700-3c64-43de-9ea6-b09f5d90bb55",
   "metadata": {
    "tags": []
   },
   "outputs": [
    {
     "data": {
      "image/png": "[encoded data removed]",
      "text/plain": [
       "<Figure size 1200x600 with 1 Axes>"
      ]
     },
     "metadata": {},
     "output_type": "display_data"
    }
   ],
   "source": [
    "plt.figure(figsize=(12, 6))\n",
    "column_order = [\"25-30\", \"30-35\", \"35-40\", \"40-45\", \"45-50\"]\n",
    "sns.countplot(x='Age', hue='Suicide attempt', data=postp_df, palette='Set2', order=column_order)\n",
    "\n",
    "# הגדרת כותרת ותוויות צירים\n",
    "plt.title('Distribution of Suicide Attempts by Age Group ')\n",
    "plt.xlabel('Age Group')\n",
    "plt.ylabel('Count of Participants')\n",
    "\n",
    "# חידוש התצוגה\n",
    "plt.legend(title='Suicide attempt')\n",
    "plt.xticks(rotation=45)\n",
    "plt.tight_layout()\n",
    "plt.show()"
   ]
  },
  {
   "cell_type": "code",
   "execution_count": 148,
   "id": "5f76361c-d53e-47ee-86f2-35d64395644a",
   "metadata": {
    "tags": []
   },
   "outputs": [
    {
     "data": {
      "image/png": "[encoded data removed]",
      "text/plain": [
       "<Figure size 1200x600 with 1 Axes>"
      ]
     },
     "metadata": {},
     "output_type": "display_data"
    }
   ],
   "source": [
    "# חישוב האחוזים של ניסיונות ההתאבדות בכל קבוצת גיל\n",
    "suicide_attempt_percentage = postp_df.groupby('Age')['Suicide attempt'].value_counts(normalize=True).mul(100).rename('Percentage').reset_index()\n",
    "\n",
    "# ציור הגרף\n",
    "plt.figure(figsize=(12, 6))\n",
    "sns.barplot(x='Age', y='Percentage', hue='Suicide attempt', data=suicide_attempt_percentage, palette='Set2', order=column_order)\n",
    "\n",
    "# הגדרת כותרת ותוויות צירים\n",
    "plt.title('Distribution of Suicide Attempts by Age Group in Percentages')\n",
    "plt.xlabel('Age Group')\n",
    "plt.ylabel('Percentage of Participants')\n",
    "\n",
    "# הצגת הגרף\n",
    "plt.legend(title='Suicide attempt')\n",
    "plt.xticks(rotation=45)\n",
    "plt.tight_layout()\n",
    "plt.show()\n"
   ]
  },
  {
   "cell_type": "code",
   "execution_count": 151,
   "id": "693bc26a-d4f8-44c2-96a6-5032f19be2d4",
   "metadata": {},
   "outputs": [
    {
     "name": "stdout",
     "output_type": "stream",
     "text": [
      "Percentage of women aged 25-30 who said No: 38.12154696132597\n",
      "Percentage of women aged 30-35 who said No: 46.44970414201183\n",
      "Percentage of women aged 35-40 who said No: 46.99140401146132\n",
      "Percentage of women aged 40-45 who said No: 45.879120879120876\n",
      "Percentage of women aged 45-50 who said No: 56.08856088560885\n"
     ]
    }
   ],
   "source": [
    "# קביעת קבוצות הגילאים\n",
    "age_groups = ['25-30', '30-35', '35-40','40-45', '45-50']\n",
    "\n",
    "# לולאה עבור כל קבוצת גיל\n",
    "for age_group in age_groups:\n",
    "    # סינון רק לנשים בקבוצת הגיל הרצויה ועם תשובת \"No\"\n",
    "    women_no = postp_df[(postp_df['Age'] == age_group) & (postp_df['Suicide attempt'] == 'No')]\n",
    "    # סך כל הנשים בקבוצת גיל\n",
    "    total_women = len(postp_df[postp_df['Age'] == age_group])\n",
    "    # בדיקה שסך הנשים בקבוצת הגיל אינו אפס\n",
    "    if total_women != 0:\n",
    "        # חישוב האחוז\n",
    "        percentage_women_no = (len(women_no) / total_women) * 100\n",
    "        # הדפסת התוצאה\n",
    "        print(f\"Percentage of women aged {age_group} who said No:\", percentage_women_no)\n",
    "    else:\n",
    "        # אם אין נשים בקבוצה, הדפסת הודעה ריקה\n",
    "        print(f\"No women in age group {age_group}\")\n",
    "        \n",
    "#כאן רואים כי אחוז הנשים במחקר שציינו כי לא ניסו להתאבד הוא הנמוך מכולן"
   ]
  },
  {
   "cell_type": "markdown",
   "id": "f694a186-32aa-45d1-b948-16e745dcdf82",
   "metadata": {},
   "source": [
    "בגרף הראשון נוכל לראות את כמות הנשים, בעוד שבגרף השני נוכל לראות את אחוז העונות על השאלונים בכל אחד מטווחי הגילאים.\n",
    "עפ\"י המעבר מגרף כמויות לאחוזים, ניתן להסיק כי:\n",
    "1.בטווח הגילאים 25-30 אחוז הנשים שניסו להתאבד זהה/גדול ביחס לשאר קבוצות הגיל האחרות, בעוד שבקבוצה זו- ישנה כמות קטנה יותר של נשים.\n",
    "2.דבר נוסף שניתן לשים לב אליו בבהירות הוא כי אחוז הנשים הגדול ביותר שנמנעו מלענות על השאלה נמצא בקבוצת הגיל בעלת כמות הנשים הקטנה ביותר, דבר המגביר את החשדות שנשים בקבוצת הגיל הנ\"ל הינה בעלת אחוז הנשים הגבוה ביותר עם ניסיון התאבדות.\n"
   ]
  },
  {
   "cell_type": "markdown",
   "id": "1e44434a-46a2-427f-9118-9bb04b7dc146",
   "metadata": {},
   "source": [
    "# פירוש לאנגלית\n",
    "\n",
    "In the first graph, we can observe the quantity of women, while in the second graph, we can see the percentage of respondents to the surveys in each age range. Transitioning from quantities to percentages, we can infer that:\n",
    "\n",
    "In the age range of 25-30, the percentage of women who attempted suicide is either equal to or greater than that of other age groups, while in this group, there is a smaller quantity of women attempting suicide.\n",
    "Another notable observation is that the highest percentage of women who refrained from answering the question is found in the age group with the smallest quantity of women, which further raises suspicions that women in this age group have the highest percentage of suicide attempts.\n"
   ]
  },
  {
   "cell_type": "code",
   "execution_count": 150,
   "id": "24d492ab-e00d-4e42-a229-a8af9d71f4c9",
   "metadata": {},
   "outputs": [
    {
     "data": {
      "image/png": "[encoded data removed]",
      "text/plain": [
       "<Figure size 2000x800 with 5 Axes>"
      ]
     },
     "metadata": {},
     "output_type": "display_data"
    }
   ],
   "source": [
    "fig, axes = plt.subplots(figsize=(20, 8), ncols=5)\n",
    "\n",
    "# פילוח הנתונים לפי קבוצת גיל\n",
    "age_groups = ['25-30', '30-35', '35-40', '40-45', '45-50']\n",
    "\n",
    "for i, age_group in enumerate(age_groups):\n",
    "    # חישוב כמות הנשים שהרגישו עצבות בקבוצת הגיל הנוכחית\n",
    "    count_feeling_sad = postp_df[(postp_df['Age'] == age_group) & (postp_df['Feeling sad or Tearful'] == 'Yes')].shape[0]\n",
    "    \n",
    "    # חישוב האחוז\n",
    "    total_women_in_group = postp_df[postp_df['Age'] == age_group].shape[0]\n",
    "    percentage = (count_feeling_sad / total_women_in_group) * 100\n",
    "\n",
    "    # יצירת הגרף\n",
    "    sns.barplot(ax=axes[i], x=['Feeling sad or Tearful: Yes'], y=[percentage], color='Red')\n",
    "    axes[i].set_title(f'Age Group: {age_group}')\n",
    "    axes[i].set_xlabel('Response')\n",
    "    axes[i].set_ylabel('Percentage')\n",
    "    axes[i].set_ylim(0, 55)  # הגבלת ציר ה-Y לאחוזים בין 0 ל-100\n",
    "\n",
    "plt.tight_layout()\n",
    "plt.show()"
   ]
  },
  {
   "cell_type": "markdown",
   "id": "91acb7a6-ba40-4530-8295-d3483ce32f19",
   "metadata": {},
   "source": [
    "By checking the cause to the high number of Suicide attempt by women we surprized to see that despite the \"25-30\" group has the highest percentages of \"Suicide attempt\",the youngest group's percentages of \"Feeling Sad Or Tearful\" was actually the *lowest*.  "
   ]
  },
  {
   "cell_type": "markdown",
   "id": "1fb81c8b-e442-4f9a-8b77-2f8a16ea8092",
   "metadata": {},
   "source": [
    "### או שאולי תרצו להציג את זה בדאטא ריים ולא בגרף? כמו פה -high_d.groupby('Season')[['Train Speed']].mean().reset_index()"
   ]
  },
  {
   "cell_type": "code",
   "execution_count": 34,
   "id": "dc083095-e742-443b-a5fd-622bbd9076d0",
   "metadata": {
    "tags": []
   },
   "outputs": [
    {
     "name": "stdout",
     "output_type": "stream",
     "text": [
      "Percentage of women aged 35-40 who said YES: 34.67048710601719\n",
      "Percentage of women aged 25-30 who said YES: 33.70165745856354\n"
     ]
    }
   ],
   "source": [
    "# סניפס לקביעת הסדר של העמודות בגרף\n",
    "column_order = [\"Yes\", \"No\", \"Two or more days a week\"]\n",
    "\n",
    "# סינון רק לנשים בקבוצות הגיל הרצויות ועם תשובת \"YES\"\n",
    "women_35_40_yes = postp_df[(postp_df['Age'] == '35-40') & (postp_df['Suicide attempt'] == 'Yes')]\n",
    "women_25_30_yes = postp_df[(postp_df['Age'] == '25-30') & (postp_df['Suicide attempt'] == 'Yes')]\n",
    "\n",
    "# חישוב האחוזים\n",
    "percentage_women_35_40_yes = (len(women_35_40_yes) / len(postp_df[postp_df['Age'] == '35-40'])) * 100\n",
    "percentage_women_25_30_yes = (len(women_25_30_yes) / len(postp_df[postp_df['Age'] == '25-30'])) * 100\n",
    "\n",
    "\n",
    "print(\"Percentage of women aged 35-40 who said YES:\", percentage_women_35_40_yes)\n",
    "print(\"Percentage of women aged 25-30 who said YES:\", percentage_women_25_30_yes)\n"
   ]
  },
  {
   "cell_type": "markdown",
   "id": "6136bf5d-c57e-4a8c-9336-67d4b0328a78",
   "metadata": {},
   "source": [
    "\n",
    " למעלה זה נתון שכנראה נרצה להוריד כי רואים באמת שאחוז הכן הוא אותו דבר כמעט"
   ]
  },
  {
   "cell_type": "code",
   "execution_count": null,
   "id": "f3b63f54-3f7b-4902-8855-3b48a55b1958",
   "metadata": {},
   "outputs": [],
   "source": []
  },
  {
   "cell_type": "code",
   "execution_count": 35,
   "id": "ae91db3c-2c92-4137-b0e2-bde49f24b301",
   "metadata": {
    "tags": []
   },
   "outputs": [],
   "source": [
    "# להוסיף את המטרה שלשמה עשינו את הפרוייקט? אולי העלאת המודעות בקרב הציבור על דיכאון לאחר לידה?"
   ]
  },
  {
   "cell_type": "code",
   "execution_count": 36,
   "id": "95ebfdf4-a84a-45be-ad46-93374f06025d",
   "metadata": {
    "tags": []
   },
   "outputs": [
    {
     "data": {
      "text/plain": [
       "772"
      ]
     },
     "execution_count": 36,
     "metadata": {},
     "output_type": "execute_result"
    }
   ],
   "source": [
    "totaldecisionorsleeping = postp_df[(postp_df['Problems concentrating or making decision'] == 'Yes') | (postp_df['Trouble sleeping at night'] == 'Yes')]\n",
    "num_total_decisionorsleeping = len(totaldecisionorsleeping)\n",
    "num_total_decisionorsleeping"
   ]
  },
  {
   "cell_type": "code",
   "execution_count": 37,
   "id": "805ffc50-484d-44ed-b423-60c29eb0e510",
   "metadata": {
    "tags": []
   },
   "outputs": [
    {
     "data": {
      "text/plain": [
       "108"
      ]
     },
     "execution_count": 37,
     "metadata": {},
     "output_type": "execute_result"
    }
   ],
   "source": [
    "totaldecisionsleeping = postp_df[(postp_df['Problems concentrating or making decision'] == 'Yes') & (postp_df['Trouble sleeping at night'] == 'Yes')]\n",
    "num_total_decisionsleeping = len(totaldecisionsleeping)\n",
    "num_total_decisionsleeping"
   ]
  },
  {
   "cell_type": "markdown",
   "id": "af51767b-0adb-4e74-822f-bcdb220ae671",
   "metadata": {},
   "source": [
    "לעיתים קרובות משוער שנשים שמתקשות בקבלת החלטות עשויות להיטרד בלילה עקב חוסר השקט או דימוי של חשיבה. אולם, מהנתונים שהצגת, אנו רואים כי רק קטן יחסית של נשים דיווחו על בעיות בריכוז או בתהליכי החלטה ובבעיות בשינה בו זמנית.\n",
    "הנתונים מציעים אפשרות כי יתכן שההטרדה בלילה אינה מקורם בעיקר בבעיות המתקשות של קבלת ההחלטות או בבעיות בריכוז. אולם, זה עשוי להיות תופעה של דימוי של חשיבה, חוסר שקט באזור שינה, או קשיי איכות שינה מונעים אחרים.\n",
    "ניתן להניח כי יתכן כי קשיים בקבלת החלטות ובבעיות בריכוז ובשינה הן סיבות אפשריות להטרדות בלילה, אך המסקנה הכללית מהנתונים היא שהקשר ביניהן לא תמיד ישיר."
   ]
  },
  {
   "cell_type": "code",
   "execution_count": 38,
   "id": "a3b05b37-1868-4b6e-8dd5-3793d7b36f64",
   "metadata": {
    "tags": []
   },
   "outputs": [
    {
     "data": {
      "text/plain": [
       "1038"
      ]
     },
     "execution_count": 38,
     "metadata": {},
     "output_type": "execute_result"
    }
   ],
   "source": [
    "totaldecisionorsleepingsad = postp_df[(postp_df['Problems concentrating or making decision'] == 'Yes') | (postp_df['Trouble sleeping at night'] == 'Yes')|(postp_df[\"Feeling sad or Tearful\"] == 'Yes')]\n",
    "num_total_decisionorsleepingsad = len(totaldecisionorsleepingsad)\n",
    "num_total_decisionorsleepingsad"
   ]
  },
  {
   "cell_type": "code",
   "execution_count": 39,
   "id": "a62f2690-20d2-41c2-ba6e-18751198536e",
   "metadata": {
    "tags": []
   },
   "outputs": [
    {
     "data": {
      "text/plain": [
       "73"
      ]
     },
     "execution_count": 39,
     "metadata": {},
     "output_type": "execute_result"
    }
   ],
   "source": [
    "totaldecisionorsleepingsad = postp_df[(postp_df['Problems concentrating or making decision'] == 'Yes') & (postp_df['Trouble sleeping at night'] == 'Yes')&(postp_df[\"Feeling sad or Tearful\"] == 'Yes')]\n",
    "num_total_decisionorsleepingsad = len(totaldecisionorsleepingsad)\n",
    "num_total_decisionorsleepingsad"
   ]
  },
  {
   "cell_type": "markdown",
   "id": "8b9bbb23-f233-4269-bf57-8f2103de3426",
   "metadata": {
    "tags": []
   },
   "source": [
    "כאן בדקנו קשר בין בעיות שינה קבלת החלטות ושינה בלילה\n",
    "\n",
    "לא מצאתי איזה משהו מיוחד \n",
    "לבדוק את זה"
   ]
  },
  {
   "cell_type": "code",
   "execution_count": 40,
   "id": "7099de50-1aae-46d7-af30-27d46d90dffc",
   "metadata": {
    "tags": []
   },
   "outputs": [
    {
     "data": {
      "text/plain": [
       "174"
      ]
     },
     "execution_count": 40,
     "metadata": {},
     "output_type": "execute_result"
    }
   ],
   "source": [
    "totaldecisionsad = postp_df[(postp_df['Problems concentrating or making decision'] == 'Yes') & (postp_df[\"Feeling sad or Tearful\"] == 'Yes')]\n",
    "num_total_decisionsad = len(totaldecisionsad)\n",
    "num_total_decisionsad"
   ]
  },
  {
   "cell_type": "code",
   "execution_count": 41,
   "id": "7820dc02-f782-4338-af51-d96cbd061cdf",
   "metadata": {
    "tags": []
   },
   "outputs": [
    {
     "data": {
      "text/plain": [
       "797"
      ]
     },
     "execution_count": 41,
     "metadata": {},
     "output_type": "execute_result"
    }
   ],
   "source": [
    "totaldecisionorsad = postp_df[(postp_df['Problems concentrating or making decision'] == 'Yes') | (postp_df[\"Feeling sad or Tearful\"] == 'Yes')]\n",
    "num_total_ordecisionsad = len(totaldecisionorsad)\n",
    "num_total_ordecisionsad"
   ]
  },
  {
   "cell_type": "markdown",
   "id": "75a77168-667b-4a06-a1b1-48d1841c92e9",
   "metadata": {
    "tags": []
   },
   "source": [
    "בשורה לפני בדקתי קשר בין קבלת החלטות להרגשת לחץ וכאן נשים שהרגישו זה או זה"
   ]
  },
  {
   "cell_type": "code",
   "execution_count": 42,
   "id": "ccdf19af-6a60-48cb-afa0-b0cc3c367b77",
   "metadata": {
    "tags": []
   },
   "outputs": [
    {
     "data": {
      "text/plain": [
       "347"
      ]
     },
     "execution_count": 42,
     "metadata": {},
     "output_type": "execute_result"
    }
   ],
   "source": [
    "\n",
    "totalanxsad = postp_df[(postp_df['Feeling anxious'] == 'Yes') & (postp_df[\"Feeling sad or Tearful\"] == 'Yes')]\n",
    "num_totalanxsad = len(totalanxsad)\n",
    "num_totalanxsad"
   ]
  },
  {
   "cell_type": "code",
   "execution_count": 43,
   "id": "28cd1683-3af9-412e-a9d9-cc8d913ec3f1",
   "metadata": {
    "tags": []
   },
   "outputs": [
    {
     "data": {
      "text/plain": [
       "1169"
      ]
     },
     "execution_count": 43,
     "metadata": {},
     "output_type": "execute_result"
    }
   ],
   "source": [
    "totalanxOrsad = postp_df[(postp_df['Feeling anxious'] == 'Yes') | (postp_df[\"Feeling sad or Tearful\"] == 'Yes')]\n",
    "num_totalanxOrsad = len(totalanxOrsad)\n",
    "num_totalanxOrsad"
   ]
  },
  {
   "cell_type": "markdown",
   "id": "99645445-4cdb-4d8e-a87e-7124f469bf7f",
   "metadata": {},
   "source": [
    "מסקנה מרכזית מהנתונים היא הבנה על הרגשות המשתנים והמורכבים שנשים חוות בתקופת ההתעסקות עם התינוק החדש. נשים רבות דיווחו על חוויית חרדה או עצבות, וקיים חלוקה בין הנשים שחוו רק אחת מהתכונות לבין אלו שחוו אותן ביחד.\n",
    "\n",
    "על פי הנתונים, 347 נשים דיווחו על חוויית חרדה ועצבות בו זמנית. זה יכול להעיד על רמת הרגישות והלחץ הנפוץ בתקופת ההתעסקות עם התינוק החדש.\n",
    "\n",
    "אולם, רוב הנשים (1169) דיווחו על אחת מהתכונות, חרדה או עצבות, מבלי לדווח על התכונות שנמצאות בו זמנית. הקיום של קבוצה גדולה זו מעיד על הרגשה נפוצה של חרדה או עצבות בתקופה זו, אך רוב הנשים מתמודדות עם אחת מהתכונות בלבד במקום עם שני התכונות יחד.\n",
    "\n",
    "המסקנה המשולבת מהנתונים היא שתקופת ההתעסקות עם התינוק החדש מכילה רגשות רבים ומשתנים, ושהתפרצויות רגשיות של חרדה או עצבות יכולות להיות נפוצות, אך הן נמנעות מלהתפרץ בו זמנית ברוב המקרים."
   ]
  },
  {
   "cell_type": "code",
   "execution_count": 44,
   "id": "1f48a459-e3e4-40e4-9983-259cfc32ad59",
   "metadata": {},
   "outputs": [
    {
     "data": {
      "text/plain": [
       "array(['Yes', 'No'], dtype=object)"
      ]
     },
     "execution_count": 44,
     "metadata": {},
     "output_type": "execute_result"
    }
   ],
   "source": [
    "postp_df['Feeling anxious'].unique()"
   ]
  },
  {
   "cell_type": "code",
   "execution_count": 45,
   "id": "f4a8d7c5-c847-4d6d-bddd-d650aae63eab",
   "metadata": {},
   "outputs": [
    {
     "data": {
      "text/plain": [
       "array(['Yes', 'No', 'Sometimes'], dtype=object)"
      ]
     },
     "execution_count": 45,
     "metadata": {},
     "output_type": "execute_result"
    }
   ],
   "source": [
    "postp_df['Feeling sad or Tearful'].unique()"
   ]
  },
  {
   "cell_type": "code",
   "execution_count": 46,
   "id": "15bf6b92-3497-44f8-a4f9-8828b55abd5a",
   "metadata": {},
   "outputs": [],
   "source": [
    "FeelingAnxious_map={\"Yes\":1,'No':2}\n",
    "FeelingSadOrTearful_map={\"Yes\":1,'No':2 ,\"Sometimes\":3}\n",
    "postp_df['Feeling anxious numric']=postp_df['Feeling anxious'].map(FeelingAnxious_map)"
   ]
  },
  {
   "cell_type": "code",
   "execution_count": 47,
   "id": "094172c0-a370-4211-adf8-d979b5883b17",
   "metadata": {},
   "outputs": [],
   "source": [
    "postp_df['Feeling sad or Tearful numric']=postp_df['Feeling sad or Tearful'].map(FeelingSadOrTearful_map)"
   ]
  },
  {
   "cell_type": "code",
   "execution_count": 48,
   "id": "949a2a68-8371-4cc0-b2bc-6408817dd0ec",
   "metadata": {},
   "outputs": [
    {
     "data": {
      "text/plain": [
       "0.028400214034061486"
      ]
     },
     "execution_count": 48,
     "metadata": {},
     "output_type": "execute_result"
    }
   ],
   "source": [
    "correlation2 = postp_df['Feeling anxious numric'].corr(postp_df['Feeling sad or Tearful numric'])\n",
    "correlation2"
   ]
  },
  {
   "cell_type": "code",
   "execution_count": 49,
   "id": "021ddfad-c0ea-4357-a081-9ea1cc79b434",
   "metadata": {},
   "outputs": [
    {
     "data": {
      "image/png": "[encoded data removed]",
      "text/plain": [
       "<Figure size 640x480 with 2 Axes>"
      ]
     },
     "metadata": {},
     "output_type": "display_data"
    }
   ],
   "source": [
    "numeric_columns = postp_df[['Feeling anxious numric', 'Feeling sad or Tearful numric']]\n",
    "sns.heatmap(numeric_columns.corr(), annot=True, cmap='coolwarm', linewidths=0.5)\n",
    "plt.show()"
   ]
  },
  {
   "cell_type": "code",
   "execution_count": 50,
   "id": "6682a47b-9f63-4a20-89c7-87eb80013a3f",
   "metadata": {},
   "outputs": [
    {
     "name": "stdout",
     "output_type": "stream",
     "text": [
      "0.22676948631615235\n"
     ]
    }
   ],
   "source": [
    "numeric_df = postp_df.select_dtypes(include=['number'])\n",
    "\n",
    "# מציאת מטריצת הקורלציה\n",
    "correlation_matrix = numeric_df.corr()\n",
    "\n",
    "# מציאת הערך הגבוה ביותר במטריצת הקורלציה המרובעת (כלומר ללא האלכסון הראשי)\n",
    "highest_correlation = correlation_matrix.abs().unstack().sort_values(ascending=False)\n",
    "\n",
    "# חיפוש הערך הגבוה ביותר שאינו באותה שורה או עמודה\n",
    "index = 0\n",
    "while True:\n",
    "    columns = highest_correlation.index[index]\n",
    "    if columns[0] != columns[1]:\n",
    "        break\n",
    "    index += 1\n",
    "\n",
    "# הדפסת הערך הגבוה ביותר שאינו באותה שורה או עמודה\n",
    "print(highest_correlation[columns])"
   ]
  },
  {
   "cell_type": "code",
   "execution_count": 51,
   "id": "3b6e7df8-fa61-40a7-b195-58f49e48bd4b",
   "metadata": {},
   "outputs": [
    {
     "data": {
      "text/plain": [
       "57"
      ]
     },
     "execution_count": 51,
     "metadata": {},
     "output_type": "execute_result"
    }
   ],
   "source": [
    "count_feeling_sad1 = postp_df[(postp_df['Age'] == '25-30') & (postp_df['Feeling sad or Tearful'] == 'Yes')].shape[0]\n",
    "count_feeling_sad1"
   ]
  },
  {
   "cell_type": "code",
   "execution_count": 52,
   "id": "8c663b6c-f140-4568-b6c9-09a02e266583",
   "metadata": {},
   "outputs": [
    {
     "data": {
      "text/plain": [
       "121"
      ]
     },
     "execution_count": 52,
     "metadata": {},
     "output_type": "execute_result"
    }
   ],
   "source": [
    "count_feeling_sad2 = postp_df[(postp_df['Age'] == '30-35') & (postp_df['Feeling sad or Tearful'] == 'Yes')].shape[0]\n",
    "count_feeling_sad2"
   ]
  },
  {
   "cell_type": "code",
   "execution_count": 53,
   "id": "0cfac0d2-8ade-4b78-9450-24a35b3f7277",
   "metadata": {},
   "outputs": [
    {
     "data": {
      "text/plain": [
       "142"
      ]
     },
     "execution_count": 53,
     "metadata": {},
     "output_type": "execute_result"
    }
   ],
   "source": [
    "count_feeling_sad3 = postp_df[(postp_df['Age'] == '35-40') & (postp_df['Feeling sad or Tearful'] == 'Yes')].shape[0]\n",
    "count_feeling_sad3"
   ]
  },
  {
   "cell_type": "code",
   "execution_count": 54,
   "id": "76a65a5c-b518-4b0b-8297-28b187b73f75",
   "metadata": {},
   "outputs": [
    {
     "data": {
      "text/plain": [
       "133"
      ]
     },
     "execution_count": 54,
     "metadata": {},
     "output_type": "execute_result"
    }
   ],
   "source": [
    "count_feeling_sad4 = postp_df[(postp_df['Age'] == '40-45') & (postp_df['Feeling sad or Tearful'] == 'Yes')].shape[0]\n",
    "count_feeling_sad4"
   ]
  },
  {
   "cell_type": "code",
   "execution_count": 55,
   "id": "3ae5fd8a-1f2e-4e19-a879-48048f99c16c",
   "metadata": {},
   "outputs": [
    {
     "data": {
      "text/plain": [
       "83"
      ]
     },
     "execution_count": 55,
     "metadata": {},
     "output_type": "execute_result"
    }
   ],
   "source": [
    "count_feeling_sad5 = postp_df[(postp_df['Age'] == '45-50') & (postp_df['Feeling sad or Tearful'] == 'Yes')].shape[0]\n",
    "count_feeling_sad5"
   ]
  },
  {
   "cell_type": "code",
   "execution_count": null,
   "id": "32f7dccd-fa97-4dec-a2cc-6b23383d3140",
   "metadata": {},
   "outputs": [],
   "source": []
  }
 ],
 "metadata": {
  "kernelspec": {
   "display_name": "Python 3 (ipykernel)",
   "language": "python",
   "name": "python3"
  },
  "language_info": {
   "codemirror_mode": {
    "name": "ipython",
    "version": 3
   },
   "file_extension": ".py",
   "mimetype": "text/x-python",
   "name": "python",
   "nbconvert_exporter": "python",
   "pygments_lexer": "ipython3",
   "version": "3.9.13"
  }
 },
 "nbformat": 4,
 "nbformat_minor": 5
}
