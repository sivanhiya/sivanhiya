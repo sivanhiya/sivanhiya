{
 "cells": [
  {
   "cell_type": "markdown",
   "id": "68a1142f-ef85-445e-a492-c878762e9b78",
   "metadata": {},
   "source": [
    "# Data Analysis Final Project"
   ]
  },
  {
   "cell_type": "markdown",
   "id": "a2ed24b8-8eff-42cb-a798-9d445cabf419",
   "metadata": {
    "tags": []
   },
   "source": [
    "## Group 27"
   ]
  },
  {
   "cell_type": "markdown",
   "id": "20e915eb-b528-4f30-b7e2-8d51b59687ac",
   "metadata": {},
   "source": [
    "### Students Names :\n",
    " Sivan Hiya , \n",
    " Yuval Bierbach ,\n",
    " Tal Elrom\n",
    " \n",
    " \n",
    " <a id='top'></a>\n",
    "\n",
    "<div>\n",
    "<img src=\"https://github.com/sivanhiya/sivanhiya/blob/main/%D7%AA%D7%9E%D7%95%D7%A0%D7%94%20%D7%A9%D7%A2%D7%A8%20%D7%A4%D7%A8%D7%95%D7%99%D7%99%D7%A7%D7%98.jpg?raw=true width=\"800\"/>\n",
    "</div>"
   ]
  },
  {
   "cell_type": "code",
   "execution_count": 94,
   "id": "460f65fb-c13e-4017-a59d-b1d563196b74",
   "metadata": {
    "tags": []
   },
   "outputs": [],
   "source": [
    "import pandas as pd\n",
    "import numpy as np\n",
    "import matplotlib.pyplot as plt\n",
    "import seaborn as sns"
   ]
  },
  {
   "cell_type": "code",
   "execution_count": 138,
   "id": "7069f62a-c7de-4450-a008-b0f19d19f46e",
   "metadata": {
    "tags": []
   },
   "outputs": [],
   "source": [
    " #להוסיף את המטרה שלשמה עשינו את הפרוייקט? אולי העלאת המודעות בקרב הציבור על דיכאון לאחר לידה?"
   ]
  },
  {
   "cell_type": "markdown",
   "id": "c9f0a034-79d0-47c0-968b-c00294bbc6e4",
   "metadata": {},
   "source": [
    "#### Information on the data"
   ]
  },
  {
   "cell_type": "markdown",
   "id": "3ed00ef4-5483-4ad3-a418-d27fb3418ab5",
   "metadata": {
    "tags": []
   },
   "source": [
    "This research was conducted at the Chittagong Medical Hospital located in Bangladesh.\n",
    "\n",
    "The study was conducted on 1503 women who had postpartum depression.\n"
   ]
  },
  {
   "cell_type": "code",
   "execution_count": 96,
   "id": "620fe381-7831-49fe-83f0-5505957c2fba",
   "metadata": {
    "tags": []
   },
   "outputs": [
    {
     "data": {
      "text/plain": [
       "(1503, 11)"
      ]
     },
     "execution_count": 96,
     "metadata": {},
     "output_type": "execute_result"
    }
   ],
   "source": [
    "url = 'https://raw.githubusercontent.com/sivanhiya/sivanhiya/main/PostPartumData.csv'\n",
    "postp_df = pd.read_csv(url)\n",
    "postp_df.shape"
   ]
  },
  {
   "cell_type": "code",
   "execution_count": 97,
   "id": "a9bd4017-894c-490f-937e-8d8eb9f10eec",
   "metadata": {
    "tags": []
   },
   "outputs": [
    {
     "data": {
      "text/plain": [
       "Index(['Timestamp', 'Age', 'Feeling sad or Tearful',\n",
       "       'Irritable towards baby & partner', 'Trouble sleeping at night',\n",
       "       'Problems concentrating or making decision',\n",
       "       'Overeating or loss of appetite', 'Feeling anxious', 'Feeling of guilt',\n",
       "       'Problems of bonding with baby', 'Suicide attempt'],\n",
       "      dtype='object')"
      ]
     },
     "execution_count": 97,
     "metadata": {},
     "output_type": "execute_result"
    }
   ],
   "source": [
    "postp_df.columns"
   ]
  },
  {
   "cell_type": "code",
   "execution_count": 98,
   "id": "8b3b0760-3c7b-43a7-9ea4-0589ed8e9a50",
   "metadata": {
    "tags": []
   },
   "outputs": [
    {
     "data": {
      "text/html": [
       "<div>\n",
       "<style scoped>\n",
       "    .dataframe tbody tr th:only-of-type {\n",
       "        vertical-align: middle;\n",
       "    }\n",
       "\n",
       "    .dataframe tbody tr th {\n",
       "        vertical-align: top;\n",
       "    }\n",
       "\n",
       "    .dataframe thead th {\n",
       "        text-align: right;\n",
       "    }\n",
       "</style>\n",
       "<table border=\"1\" class=\"dataframe\">\n",
       "  <thead>\n",
       "    <tr style=\"text-align: right;\">\n",
       "      <th></th>\n",
       "      <th>Timestamp</th>\n",
       "      <th>Age</th>\n",
       "      <th>Feeling sad or Tearful</th>\n",
       "      <th>Irritable towards baby &amp; partner</th>\n",
       "      <th>Trouble sleeping at night</th>\n",
       "      <th>Problems concentrating or making decision</th>\n",
       "      <th>Overeating or loss of appetite</th>\n",
       "      <th>Feeling anxious</th>\n",
       "      <th>Feeling of guilt</th>\n",
       "      <th>Problems of bonding with baby</th>\n",
       "      <th>Suicide attempt</th>\n",
       "    </tr>\n",
       "  </thead>\n",
       "  <tbody>\n",
       "    <tr>\n",
       "      <th>0</th>\n",
       "      <td>6/14/2022 20:02</td>\n",
       "      <td>35-40</td>\n",
       "      <td>Yes</td>\n",
       "      <td>Yes</td>\n",
       "      <td>Two or more days a week</td>\n",
       "      <td>Yes</td>\n",
       "      <td>Yes</td>\n",
       "      <td>Yes</td>\n",
       "      <td>No</td>\n",
       "      <td>Yes</td>\n",
       "      <td>Yes</td>\n",
       "    </tr>\n",
       "    <tr>\n",
       "      <th>1</th>\n",
       "      <td>6/14/2022 20:03</td>\n",
       "      <td>40-45</td>\n",
       "      <td>Yes</td>\n",
       "      <td>No</td>\n",
       "      <td>No</td>\n",
       "      <td>Yes</td>\n",
       "      <td>Yes</td>\n",
       "      <td>No</td>\n",
       "      <td>Yes</td>\n",
       "      <td>Yes</td>\n",
       "      <td>No</td>\n",
       "    </tr>\n",
       "    <tr>\n",
       "      <th>2</th>\n",
       "      <td>6/14/2022 20:04</td>\n",
       "      <td>35-40</td>\n",
       "      <td>Yes</td>\n",
       "      <td>No</td>\n",
       "      <td>Yes</td>\n",
       "      <td>Yes</td>\n",
       "      <td>Yes</td>\n",
       "      <td>Yes</td>\n",
       "      <td>No</td>\n",
       "      <td>Sometimes</td>\n",
       "      <td>No</td>\n",
       "    </tr>\n",
       "    <tr>\n",
       "      <th>3</th>\n",
       "      <td>6/14/2022 20:05</td>\n",
       "      <td>35-40</td>\n",
       "      <td>Yes</td>\n",
       "      <td>Yes</td>\n",
       "      <td>Yes</td>\n",
       "      <td>Yes</td>\n",
       "      <td>No</td>\n",
       "      <td>Yes</td>\n",
       "      <td>Maybe</td>\n",
       "      <td>No</td>\n",
       "      <td>No</td>\n",
       "    </tr>\n",
       "    <tr>\n",
       "      <th>4</th>\n",
       "      <td>6/14/2022 20:06</td>\n",
       "      <td>40-45</td>\n",
       "      <td>Yes</td>\n",
       "      <td>No</td>\n",
       "      <td>Two or more days a week</td>\n",
       "      <td>Yes</td>\n",
       "      <td>No</td>\n",
       "      <td>Yes</td>\n",
       "      <td>No</td>\n",
       "      <td>Yes</td>\n",
       "      <td>No</td>\n",
       "    </tr>\n",
       "    <tr>\n",
       "      <th>...</th>\n",
       "      <td>...</td>\n",
       "      <td>...</td>\n",
       "      <td>...</td>\n",
       "      <td>...</td>\n",
       "      <td>...</td>\n",
       "      <td>...</td>\n",
       "      <td>...</td>\n",
       "      <td>...</td>\n",
       "      <td>...</td>\n",
       "      <td>...</td>\n",
       "      <td>...</td>\n",
       "    </tr>\n",
       "    <tr>\n",
       "      <th>1498</th>\n",
       "      <td>6/15/2022 0:35</td>\n",
       "      <td>30-35</td>\n",
       "      <td>Yes</td>\n",
       "      <td>No</td>\n",
       "      <td>Two or more days a week</td>\n",
       "      <td>No</td>\n",
       "      <td>No</td>\n",
       "      <td>Yes</td>\n",
       "      <td>Maybe</td>\n",
       "      <td>Sometimes</td>\n",
       "      <td>No</td>\n",
       "    </tr>\n",
       "    <tr>\n",
       "      <th>1499</th>\n",
       "      <td>6/15/2022 0:35</td>\n",
       "      <td>25-30</td>\n",
       "      <td>Sometimes</td>\n",
       "      <td>No</td>\n",
       "      <td>No</td>\n",
       "      <td>Often</td>\n",
       "      <td>No</td>\n",
       "      <td>Yes</td>\n",
       "      <td>Maybe</td>\n",
       "      <td>Yes</td>\n",
       "      <td>No</td>\n",
       "    </tr>\n",
       "    <tr>\n",
       "      <th>1500</th>\n",
       "      <td>6/15/2022 0:35</td>\n",
       "      <td>25-30</td>\n",
       "      <td>No</td>\n",
       "      <td>Sometimes</td>\n",
       "      <td>Two or more days a week</td>\n",
       "      <td>No</td>\n",
       "      <td>No</td>\n",
       "      <td>No</td>\n",
       "      <td>Yes</td>\n",
       "      <td>No</td>\n",
       "      <td>Not interested to say</td>\n",
       "    </tr>\n",
       "    <tr>\n",
       "      <th>1501</th>\n",
       "      <td>6/15/2022 0:36</td>\n",
       "      <td>25-30</td>\n",
       "      <td>No</td>\n",
       "      <td>Sometimes</td>\n",
       "      <td>Yes</td>\n",
       "      <td>Often</td>\n",
       "      <td>No</td>\n",
       "      <td>Yes</td>\n",
       "      <td>No</td>\n",
       "      <td>No</td>\n",
       "      <td>No</td>\n",
       "    </tr>\n",
       "    <tr>\n",
       "      <th>1502</th>\n",
       "      <td>6/15/2022 0:36</td>\n",
       "      <td>45-50</td>\n",
       "      <td>Sometimes</td>\n",
       "      <td>Sometimes</td>\n",
       "      <td>Two or more days a week</td>\n",
       "      <td>No</td>\n",
       "      <td>No</td>\n",
       "      <td>No</td>\n",
       "      <td>Maybe</td>\n",
       "      <td>No</td>\n",
       "      <td>No</td>\n",
       "    </tr>\n",
       "  </tbody>\n",
       "</table>\n",
       "<p>1503 rows × 11 columns</p>\n",
       "</div>"
      ],
      "text/plain": [
       "            Timestamp    Age Feeling sad or Tearful  \\\n",
       "0     6/14/2022 20:02  35-40                    Yes   \n",
       "1     6/14/2022 20:03  40-45                    Yes   \n",
       "2     6/14/2022 20:04  35-40                    Yes   \n",
       "3     6/14/2022 20:05  35-40                    Yes   \n",
       "4     6/14/2022 20:06  40-45                    Yes   \n",
       "...               ...    ...                    ...   \n",
       "1498   6/15/2022 0:35  30-35                    Yes   \n",
       "1499   6/15/2022 0:35  25-30              Sometimes   \n",
       "1500   6/15/2022 0:35  25-30                     No   \n",
       "1501   6/15/2022 0:36  25-30                     No   \n",
       "1502   6/15/2022 0:36  45-50              Sometimes   \n",
       "\n",
       "     Irritable towards baby & partner Trouble sleeping at night  \\\n",
       "0                                 Yes   Two or more days a week   \n",
       "1                                  No                        No   \n",
       "2                                  No                       Yes   \n",
       "3                                 Yes                       Yes   \n",
       "4                                  No   Two or more days a week   \n",
       "...                               ...                       ...   \n",
       "1498                               No   Two or more days a week   \n",
       "1499                               No                        No   \n",
       "1500                        Sometimes   Two or more days a week   \n",
       "1501                        Sometimes                       Yes   \n",
       "1502                        Sometimes   Two or more days a week   \n",
       "\n",
       "     Problems concentrating or making decision Overeating or loss of appetite  \\\n",
       "0                                          Yes                            Yes   \n",
       "1                                          Yes                            Yes   \n",
       "2                                          Yes                            Yes   \n",
       "3                                          Yes                             No   \n",
       "4                                          Yes                             No   \n",
       "...                                        ...                            ...   \n",
       "1498                                        No                             No   \n",
       "1499                                     Often                             No   \n",
       "1500                                        No                             No   \n",
       "1501                                     Often                             No   \n",
       "1502                                        No                             No   \n",
       "\n",
       "     Feeling anxious Feeling of guilt Problems of bonding with baby  \\\n",
       "0                Yes               No                           Yes   \n",
       "1                 No              Yes                           Yes   \n",
       "2                Yes               No                     Sometimes   \n",
       "3                Yes            Maybe                            No   \n",
       "4                Yes               No                           Yes   \n",
       "...              ...              ...                           ...   \n",
       "1498             Yes            Maybe                     Sometimes   \n",
       "1499             Yes            Maybe                           Yes   \n",
       "1500              No              Yes                            No   \n",
       "1501             Yes               No                            No   \n",
       "1502              No            Maybe                            No   \n",
       "\n",
       "            Suicide attempt  \n",
       "0                       Yes  \n",
       "1                        No  \n",
       "2                        No  \n",
       "3                        No  \n",
       "4                        No  \n",
       "...                     ...  \n",
       "1498                     No  \n",
       "1499                     No  \n",
       "1500  Not interested to say  \n",
       "1501                     No  \n",
       "1502                     No  \n",
       "\n",
       "[1503 rows x 11 columns]"
      ]
     },
     "execution_count": 98,
     "metadata": {},
     "output_type": "execute_result"
    }
   ],
   "source": [
    "postp_df"
   ]
  },
  {
   "cell_type": "code",
   "execution_count": 99,
   "id": "5aaf32ca-53cb-4023-9078-7ffe238a8673",
   "metadata": {
    "tags": []
   },
   "outputs": [
    {
     "data": {
      "text/html": [
       "<div>\n",
       "<style scoped>\n",
       "    .dataframe tbody tr th:only-of-type {\n",
       "        vertical-align: middle;\n",
       "    }\n",
       "\n",
       "    .dataframe tbody tr th {\n",
       "        vertical-align: top;\n",
       "    }\n",
       "\n",
       "    .dataframe thead th {\n",
       "        text-align: right;\n",
       "    }\n",
       "</style>\n",
       "<table border=\"1\" class=\"dataframe\">\n",
       "  <thead>\n",
       "    <tr style=\"text-align: right;\">\n",
       "      <th></th>\n",
       "      <th>nulls</th>\n",
       "    </tr>\n",
       "  </thead>\n",
       "  <tbody>\n",
       "    <tr>\n",
       "      <th>Timestamp</th>\n",
       "      <td>0</td>\n",
       "    </tr>\n",
       "    <tr>\n",
       "      <th>Age</th>\n",
       "      <td>0</td>\n",
       "    </tr>\n",
       "    <tr>\n",
       "      <th>Feeling sad or Tearful</th>\n",
       "      <td>0</td>\n",
       "    </tr>\n",
       "    <tr>\n",
       "      <th>Irritable towards baby &amp; partner</th>\n",
       "      <td>6</td>\n",
       "    </tr>\n",
       "    <tr>\n",
       "      <th>Trouble sleeping at night</th>\n",
       "      <td>0</td>\n",
       "    </tr>\n",
       "    <tr>\n",
       "      <th>Problems concentrating or making decision</th>\n",
       "      <td>12</td>\n",
       "    </tr>\n",
       "    <tr>\n",
       "      <th>Overeating or loss of appetite</th>\n",
       "      <td>0</td>\n",
       "    </tr>\n",
       "    <tr>\n",
       "      <th>Feeling anxious</th>\n",
       "      <td>0</td>\n",
       "    </tr>\n",
       "    <tr>\n",
       "      <th>Feeling of guilt</th>\n",
       "      <td>9</td>\n",
       "    </tr>\n",
       "    <tr>\n",
       "      <th>Problems of bonding with baby</th>\n",
       "      <td>0</td>\n",
       "    </tr>\n",
       "    <tr>\n",
       "      <th>Suicide attempt</th>\n",
       "      <td>0</td>\n",
       "    </tr>\n",
       "  </tbody>\n",
       "</table>\n",
       "</div>"
      ],
      "text/plain": [
       "                                           nulls\n",
       "Timestamp                                      0\n",
       "Age                                            0\n",
       "Feeling sad or Tearful                         0\n",
       "Irritable towards baby & partner               6\n",
       "Trouble sleeping at night                      0\n",
       "Problems concentrating or making decision     12\n",
       "Overeating or loss of appetite                 0\n",
       "Feeling anxious                                0\n",
       "Feeling of guilt                               9\n",
       "Problems of bonding with baby                  0\n",
       "Suicide attempt                                0"
      ]
     },
     "execution_count": 99,
     "metadata": {},
     "output_type": "execute_result"
    }
   ],
   "source": [
    "postp_df.loc[ : , ['Timestamp', 'Age', 'Feeling sad or Tearful',\n",
    "       'Irritable towards baby & partner', 'Trouble sleeping at night',\n",
    "       'Problems concentrating or making decision',\n",
    "       'Overeating or loss of appetite', 'Feeling anxious', 'Feeling of guilt',\n",
    "       'Problems of bonding with baby', 'Suicide attempt']].isnull().sum().to_frame('nulls')"
   ]
  },
  {
   "cell_type": "code",
   "execution_count": 100,
   "id": "d430bc5e-01c7-4056-8575-61811ab5496d",
   "metadata": {
    "tags": []
   },
   "outputs": [
    {
     "data": {
      "text/plain": [
       "Age  \n",
       "40-45    364\n",
       "35-40    349\n",
       "30-35    338\n",
       "45-50    271\n",
       "25-30    181\n",
       "Name: count, dtype: int64"
      ]
     },
     "execution_count": 100,
     "metadata": {},
     "output_type": "execute_result"
    }
   ],
   "source": [
    "postp_df[[\"Age\"]].value_counts()"
   ]
  },
  {
   "cell_type": "code",
   "execution_count": 101,
   "id": "68cc0676-4adf-495e-b4d8-e31d2bff9198",
   "metadata": {
    "tags": []
   },
   "outputs": [
    {
     "data": {
      "text/plain": [
       "Feeling sad or Tearful\n",
       "Yes                       536\n",
       "No                        524\n",
       "Sometimes                 443\n",
       "Name: count, dtype: int64"
      ]
     },
     "execution_count": 101,
     "metadata": {},
     "output_type": "execute_result"
    }
   ],
   "source": [
    "postp_df[[\"Feeling sad or Tearful\"]].value_counts()"
   ]
  },
  {
   "cell_type": "code",
   "execution_count": 102,
   "id": "30d275f0-c29b-4e7d-a356-ddf20577804a",
   "metadata": {
    "tags": []
   },
   "outputs": [
    {
     "data": {
      "text/plain": [
       "Irritable towards baby & partner\n",
       "Yes                                 555\n",
       "No                                  499\n",
       "Sometimes                           443\n",
       "Name: count, dtype: int64"
      ]
     },
     "execution_count": 102,
     "metadata": {},
     "output_type": "execute_result"
    }
   ],
   "source": [
    "postp_df[[\"Irritable towards baby & partner\"]].value_counts()"
   ]
  },
  {
   "cell_type": "code",
   "execution_count": 103,
   "id": "4e5f8952-41f6-4c79-b4ba-d97a09d4f6de",
   "metadata": {
    "tags": []
   },
   "outputs": [
    {
     "data": {
      "text/plain": [
       "Trouble sleeping at night\n",
       "Two or more days a week      640\n",
       "Yes                          445\n",
       "No                           418\n",
       "Name: count, dtype: int64"
      ]
     },
     "execution_count": 103,
     "metadata": {},
     "output_type": "execute_result"
    }
   ],
   "source": [
    "postp_df[[\"Trouble sleeping at night\"]].value_counts()"
   ]
  },
  {
   "cell_type": "code",
   "execution_count": 104,
   "id": "137ed3f7-7db6-464d-aad0-2315ab35d59d",
   "metadata": {
    "tags": []
   },
   "outputs": [
    {
     "data": {
      "text/plain": [
       "Problems concentrating or making decision\n",
       "No                                           583\n",
       "Often                                        473\n",
       "Yes                                          435\n",
       "Name: count, dtype: int64"
      ]
     },
     "execution_count": 104,
     "metadata": {},
     "output_type": "execute_result"
    }
   ],
   "source": [
    "postp_df[[\"Problems concentrating or making decision\"]].value_counts()"
   ]
  },
  {
   "cell_type": "code",
   "execution_count": 105,
   "id": "59799885-a6fb-42d1-aaa5-12f52d66e1c4",
   "metadata": {
    "tags": []
   },
   "outputs": [
    {
     "data": {
      "text/plain": [
       "Overeating or loss of appetite\n",
       "No                                841\n",
       "Yes                               343\n",
       "Not at all                        319\n",
       "Name: count, dtype: int64"
      ]
     },
     "execution_count": 105,
     "metadata": {},
     "output_type": "execute_result"
    }
   ],
   "source": [
    "postp_df[[\"Overeating or loss of appetite\"]].value_counts()"
   ]
  },
  {
   "cell_type": "code",
   "execution_count": 106,
   "id": "24efb4f8-169a-4dc8-a566-f2f23f500e70",
   "metadata": {
    "tags": []
   },
   "outputs": [
    {
     "data": {
      "text/plain": [
       "Feeling anxious\n",
       "Yes                980\n",
       "No                 523\n",
       "Name: count, dtype: int64"
      ]
     },
     "execution_count": 106,
     "metadata": {},
     "output_type": "execute_result"
    }
   ],
   "source": [
    "postp_df[[\"Feeling anxious\"]].value_counts()"
   ]
  },
  {
   "cell_type": "code",
   "execution_count": 107,
   "id": "f5d7a96e-1277-4076-aad6-3d800fcc0b38",
   "metadata": {
    "tags": []
   },
   "outputs": [
    {
     "data": {
      "text/plain": [
       "Feeling of guilt\n",
       "No                  624\n",
       "Maybe               528\n",
       "Yes                 342\n",
       "Name: count, dtype: int64"
      ]
     },
     "execution_count": 107,
     "metadata": {},
     "output_type": "execute_result"
    }
   ],
   "source": [
    "postp_df[[\"Feeling of guilt\"]].value_counts()"
   ]
  },
  {
   "cell_type": "code",
   "execution_count": 108,
   "id": "e7b40d8f-3684-4484-8cce-2554b0a672df",
   "metadata": {
    "tags": []
   },
   "outputs": [
    {
     "data": {
      "text/plain": [
       "Problems of bonding with baby\n",
       "No                               557\n",
       "Sometimes                        542\n",
       "Yes                              404\n",
       "Name: count, dtype: int64"
      ]
     },
     "execution_count": 108,
     "metadata": {},
     "output_type": "execute_result"
    }
   ],
   "source": [
    "postp_df[[\"Problems of bonding with baby\"]].value_counts()"
   ]
  },
  {
   "cell_type": "code",
   "execution_count": 109,
   "id": "71b3ae52-d9a7-40aa-bbe6-ff3dc919017a",
   "metadata": {
    "tags": []
   },
   "outputs": [
    {
     "data": {
      "text/plain": [
       "Suicide attempt      \n",
       "No                       709\n",
       "Yes                      459\n",
       "Not interested to say    335\n",
       "Name: count, dtype: int64"
      ]
     },
     "execution_count": 109,
     "metadata": {},
     "output_type": "execute_result"
    }
   ],
   "source": [
    "postp_df[[\"Suicide attempt\"]].value_counts()"
   ]
  },
  {
   "cell_type": "code",
   "execution_count": 110,
   "id": "2187c5e4-ac37-49bb-88e9-25171cf4483f",
   "metadata": {
    "tags": []
   },
   "outputs": [
    {
     "data": {
      "image/png": "[encoded data removed]",
      "text/plain": [
       "<Figure size 800x300 with 1 Axes>"
      ]
     },
     "metadata": {},
     "output_type": "display_data"
    }
   ],
   "source": [
    "import pandas as pd\n",
    "import seaborn as sns\n",
    "import matplotlib.pyplot as plt\n",
    "\n",
    "# נתוני דוגמה\n",
    "sizes = [181, 338, 349, 364, 271]\n",
    "total_counts = sum(sizes)\n",
    "percentages = [(count / total_counts) * 100 for count in sizes]\n",
    "labels = [\"25-30\", \"30-35\", \"35-40\", \"40-45\", \"45-50\"]\n",
    "\n",
    "# יצירת DataFrame עבור האחוזים\n",
    "data = pd.DataFrame({'Age Group': labels, 'Percentage': percentages})\n",
    "\n",
    "# יצירת גרף בוקספלוט עבור האחוזים\n",
    "plt.figure(figsize=(8, 3))\n",
    "sns.boxplot(x='Age Group', y='Percentage', data=data, palette=\"pastel\")\n",
    "plt.title(\"Boxplot of Percentage by Age Group\")\n",
    "plt.xlabel(\"Age Group\")\n",
    "plt.ylabel(\"Percentage\")\n",
    "plt.show()\n"
   ]
  },
  {
   "cell_type": "code",
   "execution_count": 111,
   "id": "5e06ac6b-2458-42ac-bb8a-f6b505cd8d4e",
   "metadata": {
    "tags": []
   },
   "outputs": [
    {
     "data": {
      "image/png": "[encoded data removed]",
      "text/plain": [
       "<Figure size 600x600 with 1 Axes>"
      ]
     },
     "metadata": {},
     "output_type": "display_data"
    }
   ],
   "source": [
    "sizes = [181, 338, 349, 364, 271]\n",
    "labels = [\"25-30\", \"30-35\", \"35-40\", \"40-45\", \"45-50\"]\n",
    "\n",
    "# יצירת גרף פאי\n",
    "plt.figure(figsize=(6, 6))\n",
    "sns.set_palette(\"pastel\")\n",
    "plt.pie(sizes, labels=labels, autopct='%1.1f%%')\n",
    "\n",
    "# הצגת הגרף\n",
    "plt.show()"
   ]
  },
  {
   "cell_type": "markdown",
   "id": "2178db4a-2d00-4961-9d61-aee9be2ffa03",
   "metadata": {},
   "source": [
    "# מסקנה 1\n",
    "The conclusion drawn from this pie chart is that in this study, which focuses on postpartum women, it was discovered that there is a significant group of women aged 45-50 who are still participating. This is a significant deviation from normal expectations, where most women of this age are not likely to be in the stages of childbirth or in the postpartum period. These findings introduce an interesting new aspect to the medical community and researchers studying pregnancy and childbirth.\n",
    "\n"
   ]
  },
  {
   "cell_type": "code",
   "execution_count": 112,
   "id": "d6e3a21a-c775-4102-9e02-6d0decf9413e",
   "metadata": {
    "tags": []
   },
   "outputs": [
    {
     "data": {
      "image/png": "[encoded data removed]",
      "text/plain": [
       "<Figure size 1200x500 with 2 Axes>"
      ]
     },
     "metadata": {},
     "output_type": "display_data"
    }
   ],
   "source": [
    "# חישוב האחוזים\n",
    "total_count = postp_df['Overeating or loss of appetite'].count()\n",
    "yes_count = postp_df['Overeating or loss of appetite'].value_counts()['Yes']\n",
    "\n",
    "# חישוב האחוזים עבור הגרף הראשון\n",
    "appetite_percentage = postp_df['Overeating or loss of appetite'].value_counts(normalize=True) * 100\n",
    "no_percentage = (total_count - yes_count) / total_count * 100\n",
    "yes_percentage = yes_count / total_count * 100\n",
    "\n",
    "# יצירת הגרף השני\n",
    "plt.figure(figsize=(12, 5))\n",
    "\n",
    "# גרף שני - התיאוריה\n",
    "ax1=plt.subplot(1, 2, 1)\n",
    "sns.barplot(x=appetite_percentage.index, y=appetite_percentage.values, order=[\"Yes\", \"No\", \"Not at all\"])\n",
    "plt.ylim(0, 100)\n",
    "plt.xlabel('Overeating or loss of appetite')\n",
    "plt.ylabel('Percentage of women')\n",
    "plt.title('Percentage of Women by Appetite Status')\n",
    "ax1.set_xlabel(\"\")\n",
    "\n",
    "# חישוב האחוזים עבור הגרף הראשון\n",
    "appetite_percentage = postp_df['Overeating or loss of appetite'].value_counts(normalize=True) * 100\n",
    "\n",
    "# גרף ראשון\n",
    "ax2=plt.subplot(1, 2, 2)\n",
    "sns.barplot(x=['Yes', 'Not and Not at all'], y=[yes_percentage, no_percentage], order=['Yes', 'Not and Not at all'])\n",
    "plt.ylim(0, 100)  # סט גבוה מקסימלי לגרף הימני\n",
    "plt.xlabel('Overeating or loss of appetite')\n",
    "plt.ylabel('Percentage of Women')\n",
    "plt.title('Percentage of Women by Appetite Status')\n",
    "ax2.set_xlabel(\"\")\n",
    "\n",
    "# הצגת הגרפים\n",
    "plt.tight_layout()\n",
    "plt.show()\n"
   ]
  },
  {
   "cell_type": "markdown",
   "id": "c1111d0f-9a64-43ec-98b1-afec17d1f09a",
   "metadata": {},
   "source": [
    "# מסקנה 2   \n",
    "   The most notable observation is that the majority of women responded with \"No\" in the category \"Overeating or loss of appetite.\"\n",
    "This emphasizes that significantly more women reported not experiencing overeating or loss of appetite compared to those who did (\"Yes\" or \"Not at all\").\n",
    "While there is still a subset of women who reported experiencing these issues, the clear majority did not, suggesting that for the majority, overeating or loss of appetite may not be a significant concern during the postpartum period."
   ]
  },
  {
   "cell_type": "code",
   "execution_count": 113,
   "id": "74c3dcb0-6e55-47e1-932e-eb8385d290b1",
   "metadata": {
    "tags": []
   },
   "outputs": [
    {
     "data": {
      "image/png": "[encoded data removed]",
      "text/plain": [
       "<Figure size 2000x500 with 2 Axes>"
      ]
     },
     "metadata": {},
     "output_type": "display_data"
    }
   ],
   "source": [
    "fig, axes = plt.subplots(figsize=(20, 5), ncols=2)\n",
    "column_order = [\"Yes\",\"No\",\"Sometimes\"] #שינוי סדר העמודות המוצגות\n",
    "sns.countplot(ax=axes[0], data=postp_df,x=\"Irritable towards baby & partner\",order=column_order) \n",
    "sns.countplot(ax=axes[1], data=postp_df,x=\"Problems of bonding with baby\",order=column_order)\n",
    "plt.show()"
   ]
  },
  {
   "cell_type": "code",
   "execution_count": 114,
   "id": "ca487308-3543-4b9d-a605-518e9affa566",
   "metadata": {
    "tags": []
   },
   "outputs": [
    {
     "data": {
      "text/plain": [
       "793"
      ]
     },
     "execution_count": 114,
     "metadata": {},
     "output_type": "execute_result"
    }
   ],
   "source": [
    "orirritablebondingsyes = postp_df[(postp_df['Irritable towards baby & partner'] == 'Yes') | (postp_df['Problems of bonding with baby'] == 'Yes')]\n",
    "num_or_irritable_bondingsyes = len(orirritablebondingsyes)\n",
    "num_or_irritable_bondingsyes\n"
   ]
  },
  {
   "cell_type": "code",
   "execution_count": 115,
   "id": "cc10555c-5c53-4e4a-be00-0d9e7828f0e4",
   "metadata": {
    "tags": []
   },
   "outputs": [
    {
     "data": {
      "text/plain": [
       "166"
      ]
     },
     "execution_count": 115,
     "metadata": {},
     "output_type": "execute_result"
    }
   ],
   "source": [
    "bothirritablebondingsyes = postp_df[(postp_df['Irritable towards baby & partner'] == 'Yes') & (postp_df['Problems of bonding with baby'] == 'Yes')]\n",
    "num_both_irritable_bondingsyes = len(bothirritablebondingsyes)\n",
    "num_both_irritable_bondingsyes"
   ]
  },
  {
   "cell_type": "code",
   "execution_count": 116,
   "id": "ae5bc0b1-46db-43b4-b095-6f0c6917b18e",
   "metadata": {
    "tags": []
   },
   "outputs": [
    {
     "ename": "ValueError",
     "evalue": "could not convert string to float: '6/14/2022 20:02'",
     "output_type": "error",
     "traceback": [
      "\u001b[1;31m---------------------------------------------------------------------------\u001b[0m",
      "\u001b[1;31mValueError\u001b[0m                                Traceback (most recent call last)",
      "Cell \u001b[1;32mIn[116], line 8\u001b[0m\n\u001b[0;32m      6\u001b[0m correlation \u001b[38;5;241m=\u001b[39m postp_df[\u001b[38;5;124m'\u001b[39m\u001b[38;5;124mIrritable towards baby & partner numric\u001b[39m\u001b[38;5;124m'\u001b[39m]\u001b[38;5;241m.\u001b[39mcorr(postp_df[\u001b[38;5;124m'\u001b[39m\u001b[38;5;124mProblems of bonding with baby numric\u001b[39m\u001b[38;5;124m'\u001b[39m])\n\u001b[0;32m      7\u001b[0m correlation \u001b[38;5;241m=\u001b[39m postp_df[\u001b[38;5;124m'\u001b[39m\u001b[38;5;124mIrritable towards baby & partner numric\u001b[39m\u001b[38;5;124m'\u001b[39m]\u001b[38;5;241m.\u001b[39mcorr(postp_df[\u001b[38;5;124m'\u001b[39m\u001b[38;5;124mProblems of bonding with baby numric\u001b[39m\u001b[38;5;124m'\u001b[39m])\n\u001b[1;32m----> 8\u001b[0m sns\u001b[38;5;241m.\u001b[39mheatmap(postp_df\u001b[38;5;241m.\u001b[39mcorr(), annot\u001b[38;5;241m=\u001b[39m\u001b[38;5;28;01mTrue\u001b[39;00m, cmap\u001b[38;5;241m=\u001b[39m\u001b[38;5;124m'\u001b[39m\u001b[38;5;124mcoolwarm\u001b[39m\u001b[38;5;124m'\u001b[39m, linewidths\u001b[38;5;241m=\u001b[39m\u001b[38;5;241m0.5\u001b[39m)\n\u001b[0;32m      9\u001b[0m correlation\n",
      "File \u001b[1;32m~\\anaconda3\\Lib\\site-packages\\pandas\\core\\frame.py:10054\u001b[0m, in \u001b[0;36mDataFrame.corr\u001b[1;34m(self, method, min_periods, numeric_only)\u001b[0m\n\u001b[0;32m  10052\u001b[0m cols \u001b[38;5;241m=\u001b[39m data\u001b[38;5;241m.\u001b[39mcolumns\n\u001b[0;32m  10053\u001b[0m idx \u001b[38;5;241m=\u001b[39m cols\u001b[38;5;241m.\u001b[39mcopy()\n\u001b[1;32m> 10054\u001b[0m mat \u001b[38;5;241m=\u001b[39m data\u001b[38;5;241m.\u001b[39mto_numpy(dtype\u001b[38;5;241m=\u001b[39m\u001b[38;5;28mfloat\u001b[39m, na_value\u001b[38;5;241m=\u001b[39mnp\u001b[38;5;241m.\u001b[39mnan, copy\u001b[38;5;241m=\u001b[39m\u001b[38;5;28;01mFalse\u001b[39;00m)\n\u001b[0;32m  10056\u001b[0m \u001b[38;5;28;01mif\u001b[39;00m method \u001b[38;5;241m==\u001b[39m \u001b[38;5;124m\"\u001b[39m\u001b[38;5;124mpearson\u001b[39m\u001b[38;5;124m\"\u001b[39m:\n\u001b[0;32m  10057\u001b[0m     correl \u001b[38;5;241m=\u001b[39m libalgos\u001b[38;5;241m.\u001b[39mnancorr(mat, minp\u001b[38;5;241m=\u001b[39mmin_periods)\n",
      "File \u001b[1;32m~\\anaconda3\\Lib\\site-packages\\pandas\\core\\frame.py:1838\u001b[0m, in \u001b[0;36mDataFrame.to_numpy\u001b[1;34m(self, dtype, copy, na_value)\u001b[0m\n\u001b[0;32m   1836\u001b[0m \u001b[38;5;28;01mif\u001b[39;00m dtype \u001b[38;5;129;01mis\u001b[39;00m \u001b[38;5;129;01mnot\u001b[39;00m \u001b[38;5;28;01mNone\u001b[39;00m:\n\u001b[0;32m   1837\u001b[0m     dtype \u001b[38;5;241m=\u001b[39m np\u001b[38;5;241m.\u001b[39mdtype(dtype)\n\u001b[1;32m-> 1838\u001b[0m result \u001b[38;5;241m=\u001b[39m \u001b[38;5;28mself\u001b[39m\u001b[38;5;241m.\u001b[39m_mgr\u001b[38;5;241m.\u001b[39mas_array(dtype\u001b[38;5;241m=\u001b[39mdtype, copy\u001b[38;5;241m=\u001b[39mcopy, na_value\u001b[38;5;241m=\u001b[39mna_value)\n\u001b[0;32m   1839\u001b[0m \u001b[38;5;28;01mif\u001b[39;00m result\u001b[38;5;241m.\u001b[39mdtype \u001b[38;5;129;01mis\u001b[39;00m \u001b[38;5;129;01mnot\u001b[39;00m dtype:\n\u001b[0;32m   1840\u001b[0m     result \u001b[38;5;241m=\u001b[39m np\u001b[38;5;241m.\u001b[39marray(result, dtype\u001b[38;5;241m=\u001b[39mdtype, copy\u001b[38;5;241m=\u001b[39m\u001b[38;5;28;01mFalse\u001b[39;00m)\n",
      "File \u001b[1;32m~\\anaconda3\\Lib\\site-packages\\pandas\\core\\internals\\managers.py:1732\u001b[0m, in \u001b[0;36mBlockManager.as_array\u001b[1;34m(self, dtype, copy, na_value)\u001b[0m\n\u001b[0;32m   1730\u001b[0m         arr\u001b[38;5;241m.\u001b[39mflags\u001b[38;5;241m.\u001b[39mwriteable \u001b[38;5;241m=\u001b[39m \u001b[38;5;28;01mFalse\u001b[39;00m\n\u001b[0;32m   1731\u001b[0m \u001b[38;5;28;01melse\u001b[39;00m:\n\u001b[1;32m-> 1732\u001b[0m     arr \u001b[38;5;241m=\u001b[39m \u001b[38;5;28mself\u001b[39m\u001b[38;5;241m.\u001b[39m_interleave(dtype\u001b[38;5;241m=\u001b[39mdtype, na_value\u001b[38;5;241m=\u001b[39mna_value)\n\u001b[0;32m   1733\u001b[0m     \u001b[38;5;66;03m# The underlying data was copied within _interleave, so no need\u001b[39;00m\n\u001b[0;32m   1734\u001b[0m     \u001b[38;5;66;03m# to further copy if copy=True or setting na_value\u001b[39;00m\n\u001b[0;32m   1736\u001b[0m \u001b[38;5;28;01mif\u001b[39;00m na_value \u001b[38;5;129;01mis\u001b[39;00m \u001b[38;5;129;01mnot\u001b[39;00m lib\u001b[38;5;241m.\u001b[39mno_default:\n",
      "File \u001b[1;32m~\\anaconda3\\Lib\\site-packages\\pandas\\core\\internals\\managers.py:1794\u001b[0m, in \u001b[0;36mBlockManager._interleave\u001b[1;34m(self, dtype, na_value)\u001b[0m\n\u001b[0;32m   1792\u001b[0m     \u001b[38;5;28;01melse\u001b[39;00m:\n\u001b[0;32m   1793\u001b[0m         arr \u001b[38;5;241m=\u001b[39m blk\u001b[38;5;241m.\u001b[39mget_values(dtype)\n\u001b[1;32m-> 1794\u001b[0m     result[rl\u001b[38;5;241m.\u001b[39mindexer] \u001b[38;5;241m=\u001b[39m arr\n\u001b[0;32m   1795\u001b[0m     itemmask[rl\u001b[38;5;241m.\u001b[39mindexer] \u001b[38;5;241m=\u001b[39m \u001b[38;5;241m1\u001b[39m\n\u001b[0;32m   1797\u001b[0m \u001b[38;5;28;01mif\u001b[39;00m \u001b[38;5;129;01mnot\u001b[39;00m itemmask\u001b[38;5;241m.\u001b[39mall():\n",
      "\u001b[1;31mValueError\u001b[0m: could not convert string to float: '6/14/2022 20:02'"
     ]
    }
   ],
   "source": [
    "IrritableTowards_map={\"No\":1,'Sometimes':2,'Yes':3}\n",
    "Problemsofbonding_map={\"No\":1,\"Sometimes\":2,\"Yes\":3}\n",
    "postp_df['Irritable towards baby & partner numric']=postp_df['Irritable towards baby & partner'].map(IrritableTowards_map)\n",
    "postp_df['Problems of bonding with baby'].unique()\n",
    "postp_df['Problems of bonding with baby numric']=postp_df['Problems of bonding with baby'].map(IrritableTowards_map)\n",
    "correlation = postp_df['Irritable towards baby & partner numric'].corr(postp_df['Problems of bonding with baby numric'])\n",
    "correlation = postp_df['Irritable towards baby & partner numric'].corr(postp_df['Problems of bonding with baby numric'])\n",
    "sns.heatmap(postp_df.corr(), annot=True, cmap='coolwarm', linewidths=0.5)\n",
    "correlation"
   ]
  },
  {
   "cell_type": "code",
   "execution_count": null,
   "id": "88795700-3c64-43de-9ea6-b09f5d90bb55",
   "metadata": {
    "tags": []
   },
   "outputs": [],
   "source": [
    "import matplotlib.pyplot as plt\n",
    "import seaborn as sns\n",
    "\n",
    "# יצירת תרשים ראשון עם שני תת-תרשימים\n",
    "fig, (ax1, ax2) = plt.subplots(2, 1, figsize=(12, 12))\n",
    "\n",
    "# תת-תרשים ראשון - גרף עם ברים\n",
    "column_order = [\"25-30\", \"30-35\", \"35-40\", \"40-45\", \"45-50\"]\n",
    "sns.countplot(x='Age', hue='Suicide attempt', data=postp_df, palette='Set2', order=column_order, ax=ax1)\n",
    "\n",
    "# הגדרת כותרת ותוויות צירים\n",
    "ax1.set_title('Distribution of Suicide Attempts by Age Group According to the number of participants at group age')\n",
    "ax1.set_xlabel('Age Group')\n",
    "ax1.set_ylabel('Count of Participants')\n",
    "\n",
    "# חידוש התצוגה\n",
    "ax1.legend(title='Suicide attempt')\n",
    "ax1.set_xticklabels(ax1.get_xticklabels(), rotation=45)\n",
    "ax1.set_xlabel(\"\")\n",
    "\n",
    "# חישוב האחוזים של ניסיונות ההתאבדות בכל קבוצת גיל\n",
    "suicide_attempt_percentage = postp_df.groupby('Age')['Suicide attempt'].value_counts(normalize=True).mul(100).rename('Percentage').reset_index()\n",
    "column_order = [\"25-30\", \"30-35\", \"35-40\", \"40-45\", \"45-50\"]\n",
    "\n",
    "# תת-תרשים שני - גרף עם ברים\n",
    "sns.barplot(x='Age', y='Percentage', hue='Suicide attempt', data=suicide_attempt_percentage, palette='Set2', order=column_order, ax=ax2)\n",
    "\n",
    "# הגדרת כותרת ותוויות צירים\n",
    "ax2.set_title('Distribution of Suicide Attempts by Age Group in Percentages')\n",
    "ax2.set_xlabel('Age Group')\n",
    "ax2.set_ylabel('Percentage of Participants')\n",
    "\n",
    "# הצגת הגרף\n",
    "ax2.legend(title='Suicide attempt')\n",
    "ax2.set_xticklabels(ax2.get_xticklabels(), rotation=45)\n",
    "ax2.set_xlabel(\"\")\n",
    "\n",
    "plt.tight_layout()\n",
    "plt.show()\n"
   ]
  },
  {
   "cell_type": "code",
   "execution_count": null,
   "id": "83f52ebf-5460-4ca3-8c72-a72a8f807ab2",
   "metadata": {
    "tags": []
   },
   "outputs": [],
   "source": [
    "import matplotlib.pyplot as plt\n",
    "\n",
    "# קביעת הסדר של העמודות בגרף\n",
    "column_order = [\"Yes\", \"No\", \"Two or more days a week\"]\n",
    "\n",
    "# סינון רק לנשים בקבוצות הגיל הרצויות ועם תשובת \"YES\"\n",
    "age_groups = [\"25-30\", \"30-35\", \"35-40\", \"40-45\", \"45-50\"]\n",
    "percentages = []\n",
    "\n",
    "for age_group in age_groups:\n",
    "    women_yes = postp_df[(postp_df['Age'] == age_group) & (postp_df['Suicide attempt'] == 'Yes')]\n",
    "    percentage_yes = (len(women_yes) / len(postp_df[postp_df['Age'] == age_group])) * 100\n",
    "    percentages.append(percentage_yes)\n",
    "  \n",
    "# מיין את האחוזים מהגדול לקטן\n",
    "sorted_indices = sorted(range(len(percentages)), key=lambda i: percentages[i], reverse=True)\n",
    "sorted_age_groups = [age_groups[i] for i in sorted_indices]\n",
    "sorted_percentages = [percentages[i] for i in sorted_indices]\n",
    "\n",
    "# יצירת גרף\n",
    "plt.figure(figsize=(8, 4))\n",
    "plt.plot(sorted_age_groups, sorted_percentages, marker='o', color='skyblue', linestyle='-')\n",
    "plt.title('Percentage of Women Who Said \"YES\" by Age Group')\n",
    "plt.xlabel('Age Group')\n",
    "plt.ylabel('Percentage')\n",
    "plt.ylim(0, 40)\n",
    "plt.xticks(rotation=45)\n",
    "plt.grid(True)\n",
    "plt.show()\n"
   ]
  },
  {
   "cell_type": "markdown",
   "id": "f694a186-32aa-45d1-b948-16e745dcdf82",
   "metadata": {},
   "source": [
    "# מסקנה 3\n",
    "באמצעות הגרף ה-3 המתמקד על אחוז הנשים שענו \"כן\" ניתן להסיק:\n",
    "בטווח הגילאים 25-30 אחוז הנשים שניסו להתאבד זהה/גדול ביחס לשאר קבוצות הגיל האחרות, בעוד שבקבוצה זו- ישנה כמות קטנה יותר של נשים\n",
    "בגרף הראשון נוכל לראות את כמות הנשים העונות על \"ניסיון התאבדות\", בעוד שבגרף השני נוכל לראות את אחוז העונות על השאלונים בכל אחד מטווחי הגילאים.\n",
    "עפ\"י המעבר מגרף כמויות לאחוזים,ניתק להסיק לשים לב אליו בבהירות הוא כי אחוז הנשים הגדול ביותר שנמנעו מלענות על השאלה נמצא בקבוצת הגיל הקטנה ביותר בעלת הכמות הקטנה ביותר, דבר המגביר את החשדות שנשים בקבוצת הגיל הנ\"ל הינה בעלת אחוז הנשים הגבוה ביותר עם ניסיון התאבדות."
   ]
  },
  {
   "cell_type": "markdown",
   "id": "1e44434a-46a2-427f-9118-9bb04b7dc146",
   "metadata": {},
   "source": [
    "# פירוש לאנגלית\n",
    "\n",
    "\n",
    "Using the third graph, which focuses on the percentage of women who answered \"yes,\" we can conclude:\n",
    "In the 25-30 age range, the percentage of women who attempted suicide is the same/larger than in the other age groups, while in this group, there is a smaller number of women.\n",
    "In the first graph, we can see the number of women who answered \"yes\" to a \"suicide attempt,\" while in the second graph, we can see the percentage of women who answered the questionnaires in each age range.\n",
    "According to the transition from a graph of quantities to percentages, it is clear to conclude that the largest percentage of women who refrained from answering the question is in the smallest age group with the least amount.\n"
   ]
  },
  {
   "cell_type": "code",
   "execution_count": 117,
   "id": "28cd1683-3af9-412e-a9d9-cc8d913ec3f1",
   "metadata": {
    "tags": []
   },
   "outputs": [
    {
     "data": {
      "text/plain": [
       "1169"
      ]
     },
     "execution_count": 117,
     "metadata": {},
     "output_type": "execute_result"
    }
   ],
   "source": [
    "totalanxOrsad = postp_df[(postp_df['Feeling anxious'] == 'Yes') | (postp_df[\"Feeling sad or Tearful\"] == 'Yes')]\n",
    "num_totalanxOrsad = len(totalanxOrsad)\n",
    "num_totalanxOrsad"
   ]
  },
  {
   "cell_type": "markdown",
   "id": "99645445-4cdb-4d8e-a87e-7124f469bf7f",
   "metadata": {},
   "source": [
    "we can see that more than three-quarters of one percent of women reported feeling anxious or sad."
   ]
  },
  {
   "cell_type": "code",
   "execution_count": 118,
   "id": "12deebca-8eb1-436e-bd12-b79e42381577",
   "metadata": {
    "tags": []
   },
   "outputs": [
    {
     "data": {
      "image/png": "[encoded data removed]",
      "text/plain": [
       "<Figure size 400x400 with 1 Axes>"
      ]
     },
     "metadata": {},
     "output_type": "display_data"
    }
   ],
   "source": [
    "value_counts = postp_df[\"Irritable towards baby & partner\"].value_counts()\n",
    "\n",
    "# Create pie plot\n",
    "plt.figure(figsize=(4, 4))\n",
    "plt.pie(value_counts, labels=value_counts.index, autopct='%1.1f%%', colors=['skyblue', 'lightgreen', 'salmon'])\n",
    "plt.title('Distribution of \"Irritable towards baby & partner\"')\n",
    "plt.show()"
   ]
  },
  {
   "cell_type": "markdown",
   "id": "224423cd-da07-437e-b635-a82c065a19f3",
   "metadata": {},
   "source": [
    "##### The distribution of attitudes towards the baby and partner is one-third each. Therefore, attitudes towards the baby or partner may not necessarily be primary symptoms, indicating that there are likely additional reasons that are not immediately apparent."
   ]
  },
  {
   "cell_type": "code",
   "execution_count": 119,
   "id": "94b845f7-bb2b-4ca3-b5cb-008ae334b5a4",
   "metadata": {
    "tags": []
   },
   "outputs": [
    {
     "name": "stdout",
     "output_type": "stream",
     "text": [
      "  Feeling sad or Tearful  Amount\n",
      "0                    Yes     536\n",
      "1                     No     524\n",
      "2              Sometimes     443\n"
     ]
    }
   ],
   "source": [
    "import pandas as pd\n",
    "\n",
    "# Calculate the value counts\n",
    "value_counts = postp_df[\"Feeling sad or Tearful\"].value_counts()\n",
    "\n",
    "# Convert value counts to a DataFrame\n",
    "df_value_counts = pd.DataFrame(value_counts)\n",
    "\n",
    "# Reset index to make \"Feeling sad or Tearful\" a column instead of index\n",
    "df_value_counts.reset_index(inplace=True)\n",
    "\n",
    "# Rename columns\n",
    "df_value_counts.columns = [\"Feeling sad or Tearful\", \"Amount\"]\n",
    "\n",
    "# Display DataFrame\n",
    "print(df_value_counts)\n"
   ]
  },
  {
   "cell_type": "markdown",
   "id": "42eb13bc-f346-4e32-9ee9-f5d5ea2b4313",
   "metadata": {},
   "source": [
    "\n",
    "##### The symptom of postpartum anxiety and distress does not singularly indicate postpartum depression. Additional symptoms are likely present. It is advisable for healthcare providers and family members surrounding the new mother to be attentive to other symptoms."
   ]
  },
  {
   "cell_type": "code",
   "execution_count": 120,
   "id": "fbd1edd3-5ce3-4126-8415-40e4422698a7",
   "metadata": {
    "tags": []
   },
   "outputs": [
    {
     "data": {
      "image/png": "[encoded data removed]",
      "text/plain": [
       "<Figure size 800x600 with 2 Axes>"
      ]
     },
     "metadata": {},
     "output_type": "display_data"
    }
   ],
   "source": [
    "import matplotlib.pyplot as plt\n",
    "\n",
    "# גרף ראשון - גרף עם ברים\n",
    "plt.figure(figsize=(8, 6))\n",
    "\n",
    "ax1=plt.subplot(1, 2, 1)\n",
    "postp_df[\"Trouble sleeping at night\"].value_counts().plot(kind='bar')\n",
    "plt.title('Distribution of \"Trouble sleeping at night\"')\n",
    "plt.xlabel('Trouble sleeping at night')\n",
    "plt.ylim(0, 1300)\n",
    "plt.ylabel('Count')\n",
    "ax1.set_xlabel(\"\")\n",
    "\n",
    "\n",
    "\n",
    "# גרף שני - גרף עם ברים\n",
    "countYes = postp_df[[\"Trouble sleeping at night\"]].value_counts()[\"Yes\"]\n",
    "countTwoormoredaysaweek = postp_df[[\"Trouble sleeping at night\"]].value_counts()[\"Two or more days a week\"]\n",
    "problem_sleep = countTwoormoredaysaweek + countYes\n",
    "labels = ['No', 'Problem sleep']\n",
    "counts = [postp_df[\"Trouble sleeping at night\"].value_counts()[\"No\"], problem_sleep]\n",
    "\n",
    "ax2=plt.subplot(1, 2, 2)\n",
    "plt.bar(labels, counts, color=['blue', 'purple'])\n",
    "plt.title('Sleeping Problems Distribution total')\n",
    "plt.ylim(0, 1300)\n",
    "plt.xlabel('Trouble Sleeping at Night')\n",
    "plt.ylabel('Count')\n",
    "ax2.set_xlabel(\"\")\n",
    "plt.tight_layout()\n",
    "plt.show()\n"
   ]
  },
  {
   "cell_type": "markdown",
   "id": "3aa38caf-e00d-469f-909f-85a48b1d053b",
   "metadata": {},
   "source": [
    "#### Two-thirds of the surveyed individuals experienced sleep difficulties. Therefore, it can be conclusively inferred that sleep disorders may serve as a marker for postpartum depression!"
   ]
  },
  {
   "cell_type": "code",
   "execution_count": 121,
   "id": "90ca4367-bd86-469c-8955-4c40b874684a",
   "metadata": {
    "tags": []
   },
   "outputs": [
    {
     "data": {
      "image/png": "[encoded data removed]",
      "text/plain": [
       "<Figure size 2000x800 with 5 Axes>"
      ]
     },
     "metadata": {},
     "output_type": "display_data"
    }
   ],
   "source": [
    "fig, axes = plt.subplots(figsize=(20, 8), ncols=5)\n",
    "\n",
    "# פילוח הנתונים לפי קבוצת גיל\n",
    "age_groups = ['25-30', '30-35', '35-40', '40-45', '45-50']\n",
    "\n",
    "for i, age_group in enumerate(age_groups):\n",
    "    # חישוב כמות הנשים שהרגישו עצבות בקבוצת הגיל הנוכחית\n",
    "    count_feeling_sad = postp_df[(postp_df['Age'] == age_group) & (postp_df['Feeling sad or Tearful'] == 'Yes')].shape[0]\n",
    "    \n",
    "    # חישוב האחוז\n",
    "    total_women_in_group = postp_df[postp_df['Age'] == age_group].shape[0]\n",
    "    percentage = (count_feeling_sad / total_women_in_group) * 100\n",
    "\n",
    "    # יצירת הגרף\n",
    "    sns.barplot(ax=axes[i], x=['Feeling sad or Tearful: Yes'], y=[percentage], color='Red')\n",
    "    axes[i].set_title(f'Age Group: {age_group}')\n",
    "    axes[i].set_xlabel('')\n",
    "    axes[i].set_ylabel('Percentage')\n",
    "    axes[i].set_ylim(0, 50)  # הגבלת ציר ה-Y לאחוזים בין 0 ל-100\n",
    "\n",
    "plt.tight_layout()\n",
    "plt.show()"
   ]
  },
  {
   "cell_type": "code",
   "execution_count": 122,
   "id": "79a0664e-9c75-435b-9d6e-a9d27a420a6d",
   "metadata": {
    "tags": []
   },
   "outputs": [
    {
     "name": "stdout",
     "output_type": "stream",
     "text": [
      "25-30: 31.491712707182316\n",
      "45-50: 30.627306273062732\n"
     ]
    }
   ],
   "source": [
    "for age_group, percentage in percentages_by_age_group.items():\n",
    "    if age_group in ['25-30', '45-50']:\n",
    "        print(f\"{age_group}: {percentage}\")\n"
   ]
  },
  {
   "cell_type": "markdown",
   "id": "150c78a3-35e6-414b-b05a-7affc911d4a8",
   "metadata": {
    "tags": []
   },
   "source": [
    "# מסקנה 4\n",
    "By checking the cause to the high number of Suicide attempt by women we surprized to see that despite the \"25-30\" group has the highest percentages of \"Suicide attempt\",the youngest group's percentages of \"Feeling Sad Or Tearful\" was almost the lowest."
   ]
  },
  {
   "cell_type": "code",
   "execution_count": null,
   "id": "3ef7e7fc-e4ae-4846-81ed-0f0adbdfa1e6",
   "metadata": {},
   "outputs": [],
   "source": []
  },
  {
   "cell_type": "code",
   "execution_count": null,
   "id": "26e8f8e2-d2a5-49f5-89ae-f211ad5b2449",
   "metadata": {},
   "outputs": [],
   "source": []
  },
  {
   "cell_type": "code",
   "execution_count": null,
   "id": "2ab71716-c7c6-450f-a2e2-da7806e1e080",
   "metadata": {},
   "outputs": [],
   "source": []
  },
  {
   "cell_type": "code",
   "execution_count": null,
   "id": "07083410-654d-44e5-96b1-e516d6fb8d1b",
   "metadata": {},
   "outputs": [],
   "source": []
  },
  {
   "cell_type": "code",
   "execution_count": null,
   "id": "fa29f901-d2c8-4ab9-b20e-78901e325f1d",
   "metadata": {},
   "outputs": [],
   "source": []
  }
 ],
 "metadata": {
  "kernelspec": {
   "display_name": "Python 3 (ipykernel)",
   "language": "python",
   "name": "python3"
  },
  "language_info": {
   "codemirror_mode": {
    "name": "ipython",
    "version": 3
   },
   "file_extension": ".py",
   "mimetype": "text/x-python",
   "name": "python",
   "nbconvert_exporter": "python",
   "pygments_lexer": "ipython3",
   "version": "3.11.5"
  }
 },
 "nbformat": 4,
 "nbformat_minor": 5
}
