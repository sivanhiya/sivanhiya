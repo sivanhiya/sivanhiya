{
 "cells": [
  {
   "cell_type": "markdown",
   "id": "68a1142f-ef85-445e-a492-c878762e9b78",
   "metadata": {},
   "source": [
    "# Data Analysis Final Project"
   ]
  },
  {
   "cell_type": "markdown",
   "id": "a2ed24b8-8eff-42cb-a798-9d445cabf419",
   "metadata": {
    "tags": []
   },
   "source": [
    "## Group 27"
   ]
  },
  {
   "cell_type": "markdown",
   "id": "20e915eb-b528-4f30-b7e2-8d51b59687ac",
   "metadata": {},
   "source": [
    "### Students Names :\n",
    " Sivan Hiya , \n",
    " Yuval Bierbach ,\n",
    " Tal Elrom"
   ]
  },
  {
   "cell_type": "code",
   "execution_count": null,
   "id": "460f65fb-c13e-4017-a59d-b1d563196b74",
   "metadata": {
    "tags": []
   },
   "outputs": [],
   "source": [
    "import pandas as pd\n",
    "import numpy as np\n",
    "import matplotlib.pyplot as plt\n",
    "import seaborn as sns"
   ]
  },
  {
   "cell_type": "markdown",
   "id": "c9f0a034-79d0-47c0-968b-c00294bbc6e4",
   "metadata": {},
   "source": [
    "#### Information on the data"
   ]
  },
  {
   "cell_type": "markdown",
   "id": "3ed00ef4-5483-4ad3-a418-d27fb3418ab5",
   "metadata": {
    "tags": []
   },
   "source": [
    "This research was conducted at the ___ HOSPITAL located in ___.\n",
    "\n",
    "The study was conducted on 1503 women who had postpartum depression,the women were asked about the questionnaire in a two-day period.\n",
    "\n",
    "##### There is no missing values in our research"
   ]
  },
  {
   "cell_type": "markdown",
   "id": "7649fcdd-3de0-4c95-b59f-512732530779",
   "metadata": {},
   "source": [
    "מחקר זה נערך בבית החולים ___ שב___ המחקר נערך על 1503 נשים שעברו דיכאון לאחר לידה, הנשים נשאלו על השאלון בפרק זמן של יומיים..במחקר זה לא קיימים נתונים חסרים. "
   ]
  },
  {
   "cell_type": "code",
   "execution_count": null,
   "id": "620fe381-7831-49fe-83f0-5505957c2fba",
   "metadata": {
    "tags": []
   },
   "outputs": [],
   "source": [
    "url = 'https://raw.githubusercontent.com/sivanhiya/sivanhiya/main/PostPartumData.csv'\n",
    "postp_df = pd.read_csv(url)\n",
    "postp_df.shape"
   ]
  },
  {
   "cell_type": "code",
   "execution_count": null,
   "id": "a9bd4017-894c-490f-937e-8d8eb9f10eec",
   "metadata": {
    "tags": []
   },
   "outputs": [],
   "source": [
    "postp_df.columns"
   ]
  },
  {
   "cell_type": "code",
   "execution_count": null,
   "id": "8b3b0760-3c7b-43a7-9ea4-0589ed8e9a50",
   "metadata": {
    "tags": []
   },
   "outputs": [],
   "source": [
    "postp_df"
   ]
  },
  {
   "cell_type": "code",
   "execution_count": null,
   "id": "d430bc5e-01c7-4056-8575-61811ab5496d",
   "metadata": {
    "tags": []
   },
   "outputs": [],
   "source": [
    "postp_df[[\"Age\"]].value_counts()"
   ]
  },
  {
   "cell_type": "code",
   "execution_count": null,
   "id": "68cc0676-4adf-495e-b4d8-e31d2bff9198",
   "metadata": {
    "tags": []
   },
   "outputs": [],
   "source": [
    "postp_df[[\"Feeling sad or Tearful\"]].value_counts()"
   ]
  },
  {
   "cell_type": "code",
   "execution_count": 20,
   "id": "30d275f0-c29b-4e7d-a356-ddf20577804a",
   "metadata": {
    "tags": []
   },
   "outputs": [
    {
     "data": {
      "text/plain": [
       "Irritable towards baby & partner\n",
       "Yes                                 555\n",
       "No                                  499\n",
       "Sometimes                           443\n",
       "Name: count, dtype: int64"
      ]
     },
     "execution_count": 20,
     "metadata": {},
     "output_type": "execute_result"
    }
   ],
   "source": [
    "postp_df[[\"Irritable towards baby & partner\"]].value_counts()"
   ]
  },
  {
   "cell_type": "code",
   "execution_count": 21,
   "id": "4e5f8952-41f6-4c79-b4ba-d97a09d4f6de",
   "metadata": {
    "tags": []
   },
   "outputs": [
    {
     "data": {
      "text/plain": [
       "Trouble sleeping at night\n",
       "Two or more days a week      640\n",
       "Yes                          445\n",
       "No                           418\n",
       "Name: count, dtype: int64"
      ]
     },
     "execution_count": 21,
     "metadata": {},
     "output_type": "execute_result"
    }
   ],
   "source": [
    "postp_df[[\"Trouble sleeping at night\"]].value_counts()"
   ]
  },
  {
   "cell_type": "code",
   "execution_count": 22,
   "id": "137ed3f7-7db6-464d-aad0-2315ab35d59d",
   "metadata": {
    "tags": []
   },
   "outputs": [
    {
     "data": {
      "text/plain": [
       "Problems concentrating or making decision\n",
       "No                                           583\n",
       "Often                                        473\n",
       "Yes                                          435\n",
       "Name: count, dtype: int64"
      ]
     },
     "execution_count": 22,
     "metadata": {},
     "output_type": "execute_result"
    }
   ],
   "source": [
    "postp_df[[\"Problems concentrating or making decision\"]].value_counts()"
   ]
  },
  {
   "cell_type": "code",
   "execution_count": 23,
   "id": "59799885-a6fb-42d1-aaa5-12f52d66e1c4",
   "metadata": {
    "tags": []
   },
   "outputs": [
    {
     "data": {
      "text/plain": [
       "Overeating or loss of appetite\n",
       "No                                841\n",
       "Yes                               343\n",
       "Not at all                        319\n",
       "Name: count, dtype: int64"
      ]
     },
     "execution_count": 23,
     "metadata": {},
     "output_type": "execute_result"
    }
   ],
   "source": [
    "postp_df[[\"Overeating or loss of appetite\"]].value_counts()"
   ]
  },
  {
   "cell_type": "code",
   "execution_count": 24,
   "id": "24efb4f8-169a-4dc8-a566-f2f23f500e70",
   "metadata": {
    "tags": []
   },
   "outputs": [
    {
     "data": {
      "text/plain": [
       "Feeling anxious\n",
       "Yes                980\n",
       "No                 523\n",
       "Name: count, dtype: int64"
      ]
     },
     "execution_count": 24,
     "metadata": {},
     "output_type": "execute_result"
    }
   ],
   "source": [
    "postp_df[[\"Feeling anxious\"]].value_counts()"
   ]
  },
  {
   "cell_type": "code",
   "execution_count": 25,
   "id": "f5d7a96e-1277-4076-aad6-3d800fcc0b38",
   "metadata": {
    "tags": []
   },
   "outputs": [
    {
     "data": {
      "text/plain": [
       "Feeling of guilt\n",
       "No                  624\n",
       "Maybe               528\n",
       "Yes                 342\n",
       "Name: count, dtype: int64"
      ]
     },
     "execution_count": 25,
     "metadata": {},
     "output_type": "execute_result"
    }
   ],
   "source": [
    "postp_df[[\"Feeling of guilt\"]].value_counts()"
   ]
  },
  {
   "cell_type": "code",
   "execution_count": 26,
   "id": "e7b40d8f-3684-4484-8cce-2554b0a672df",
   "metadata": {
    "tags": []
   },
   "outputs": [
    {
     "data": {
      "text/plain": [
       "Problems of bonding with baby\n",
       "No                               557\n",
       "Sometimes                        542\n",
       "Yes                              404\n",
       "Name: count, dtype: int64"
      ]
     },
     "execution_count": 26,
     "metadata": {},
     "output_type": "execute_result"
    }
   ],
   "source": [
    "postp_df[[\"Problems of bonding with baby\"]].value_counts()"
   ]
  },
  {
   "cell_type": "code",
   "execution_count": 27,
   "id": "71b3ae52-d9a7-40aa-bbe6-ff3dc919017a",
   "metadata": {
    "tags": []
   },
   "outputs": [
    {
     "data": {
      "text/plain": [
       "Suicide attempt      \n",
       "No                       709\n",
       "Yes                      459\n",
       "Not interested to say    335\n",
       "Name: count, dtype: int64"
      ]
     },
     "execution_count": 27,
     "metadata": {},
     "output_type": "execute_result"
    }
   ],
   "source": [
    "postp_df[[\"Suicide attempt\"]].value_counts()"
   ]
  },
  {
   "cell_type": "code",
   "execution_count": 28,
   "id": "4e45a339-e621-4402-bf8d-c388480ceffa",
   "metadata": {
    "tags": []
   },
   "outputs": [
    {
     "data": {
      "image/png": "[encoded data removed]",
      "text/plain": [
       "<Figure size 2000x500 with 3 Axes>"
      ]
     },
     "metadata": {},
     "output_type": "display_data"
    }
   ],
   "source": [
    "fig, axes = plt.subplots(figsize=(20, 5), ncols=3)\n",
    "column_order = [\"Yes\",\"No\",\"Two or more days a week\"] #בחירת סדר העמודות המוצגות\n",
    "sns.countplot(ax=axes[0], data=postp_df,x=\"Trouble sleeping at night\",order=column_order)\n",
    "sns.countplot(ax=axes[1], data=postp_df,x=\"Suicide attempt\")\n",
    "sns.countplot(ax=axes[2], data=postp_df,x=\"Overeating or loss of appetite\")\n",
    "plt.show()"
   ]
  },
  {
   "cell_type": "code",
   "execution_count": 29,
   "id": "9c46b666-00dd-42c2-98da-06d94a39587d",
   "metadata": {
    "tags": []
   },
   "outputs": [],
   "source": [
    "#האם שווה להמיר למספרים לטובת ביצוע קורולציה?\n",
    "#plt.figure(figsize=(4,3))\n",
    "#correlation_matrix = postp_df[['Age', 'Trouble sleeping at night','Suicide attempt', 'Overeating or loss of appetite']].corr().round(2)\n",
    "#sns.heatmap(data=correlation_matrix,cmap='Blues', annot=True)\n"
   ]
  },
  {
   "cell_type": "code",
   "execution_count": 30,
   "id": "74c3dcb0-6e55-47e1-932e-eb8385d290b1",
   "metadata": {
    "tags": []
   },
   "outputs": [
    {
     "data": {
      "image/png": "[encoded data removed]",
      "text/plain": [
       "<Figure size 2000x500 with 3 Axes>"
      ]
     },
     "metadata": {},
     "output_type": "display_data"
    }
   ],
   "source": [
    "fig, axes = plt.subplots(figsize=(20, 5), ncols=3)\n",
    "column_order = [\"Yes\",\"No\",\"Sometimes\"] #שינוי סדר העמודות המוצגות\n",
    "sns.countplot(ax=axes[0], data=postp_df,x=\"Irritable towards baby & partner\",order=column_order) \n",
    "sns.countplot(ax=axes[1], data=postp_df,x=\"Problems of bonding with baby\",order=column_order)\n",
    "#sns.countplot(ax=axes[2], data=postp_df,x=\"Country\")\n",
    "plt.show()"
   ]
  },
  {
   "cell_type": "code",
   "execution_count": 31,
   "id": "a938cfba-88ea-40c3-9811-e829df999c0c",
   "metadata": {
    "tags": []
   },
   "outputs": [
    {
     "data": {
      "text/plain": [
       "0             Yes\n",
       "1             Yes\n",
       "2       Sometimes\n",
       "3              No\n",
       "4             Yes\n",
       "          ...    \n",
       "1498    Sometimes\n",
       "1499          Yes\n",
       "1500           No\n",
       "1501           No\n",
       "1502           No\n",
       "Name: Problems of bonding with baby, Length: 1503, dtype: object"
      ]
     },
     "execution_count": 31,
     "metadata": {},
     "output_type": "execute_result"
    }
   ],
   "source": [
    "postp_df[\"Problems of bonding with baby\"]"
   ]
  },
  {
   "cell_type": "code",
   "execution_count": 33,
   "id": "60d872bb-eb8e-4d6e-97fe-42c77e3087b0",
   "metadata": {
    "tags": []
   },
   "outputs": [
    {
     "data": {
      "text/plain": [
       "0             Yes\n",
       "1              No\n",
       "2              No\n",
       "3             Yes\n",
       "4              No\n",
       "          ...    \n",
       "1498           No\n",
       "1499           No\n",
       "1500    Sometimes\n",
       "1501    Sometimes\n",
       "1502    Sometimes\n",
       "Name: Irritable towards baby & partner, Length: 1503, dtype: object"
      ]
     },
     "execution_count": 33,
     "metadata": {},
     "output_type": "execute_result"
    }
   ],
   "source": [
    "postp_df[\"Irritable towards baby & partner\"]"
   ]
  },
  {
   "cell_type": "code",
   "execution_count": 34,
   "id": "ae5bc0b1-46db-43b4-b095-6f0c6917b18e",
   "metadata": {
    "tags": []
   },
   "outputs": [],
   "source": [
    "IrritableTowards_map={\"No\":1,'Sometimes':2,'Yes':3}\n",
    "Problemsofbonding_map={\"No\":1,\"Sometimes\":2,\"Yes\":3}\n",
    "postp_df['Irritable towards baby & partner numric']=postp_df['Irritable towards baby & partner'].map(IrritableTowards_map)"
   ]
  },
  {
   "cell_type": "code",
   "execution_count": 35,
   "id": "78568bfa-97e5-4dba-87eb-02a07c9f979e",
   "metadata": {
    "tags": []
   },
   "outputs": [
    {
     "data": {
      "text/plain": [
       "array(['Yes', 'Sometimes', 'No'], dtype=object)"
      ]
     },
     "execution_count": 35,
     "metadata": {},
     "output_type": "execute_result"
    }
   ],
   "source": [
    "postp_df['Problems of bonding with baby'].unique()"
   ]
  },
  {
   "cell_type": "code",
   "execution_count": 36,
   "id": "2b6c9cff-bc34-4f04-9b19-a9c07da0e6ac",
   "metadata": {
    "tags": []
   },
   "outputs": [],
   "source": [
    "\n",
    "postp_df['Problems of bonding with baby numric']=postp_df['Problems of bonding with baby'].map(IrritableTowards_map)"
   ]
  },
  {
   "cell_type": "code",
   "execution_count": 37,
   "id": "dce65a49-5016-4eef-a10e-653318903b10",
   "metadata": {
    "tags": []
   },
   "outputs": [
    {
     "data": {
      "text/plain": [
       "-0.07368726545162704"
      ]
     },
     "execution_count": 37,
     "metadata": {},
     "output_type": "execute_result"
    }
   ],
   "source": [
    "correlation = postp_df['Irritable towards baby & partner numric'].corr(postp_df['Problems of bonding with baby numric'])\n",
    "correlation"
   ]
  },
  {
   "cell_type": "code",
   "execution_count": 38,
   "id": "a78d524a-a48d-450b-b5af-0956b32446ea",
   "metadata": {
    "tags": []
   },
   "outputs": [
    {
     "ename": "ValueError",
     "evalue": "could not convert string to float: '6/14/2022 20:02'",
     "output_type": "error",
     "traceback": [
      "\u001b[1;31m---------------------------------------------------------------------------\u001b[0m",
      "\u001b[1;31mValueError\u001b[0m                                Traceback (most recent call last)",
      "Cell \u001b[1;32mIn[38], line 3\u001b[0m\n\u001b[0;32m      1\u001b[0m correlation \u001b[38;5;241m=\u001b[39m postp_df[\u001b[38;5;124m'\u001b[39m\u001b[38;5;124mIrritable towards baby & partner numric\u001b[39m\u001b[38;5;124m'\u001b[39m]\u001b[38;5;241m.\u001b[39mcorr(postp_df[\u001b[38;5;124m'\u001b[39m\u001b[38;5;124mProblems of bonding with baby numric\u001b[39m\u001b[38;5;124m'\u001b[39m])\n\u001b[0;32m      2\u001b[0m correlation\n\u001b[1;32m----> 3\u001b[0m sns\u001b[38;5;241m.\u001b[39mheatmap(postp_df\u001b[38;5;241m.\u001b[39mcorr(), annot\u001b[38;5;241m=\u001b[39m\u001b[38;5;28;01mTrue\u001b[39;00m, cmap\u001b[38;5;241m=\u001b[39m\u001b[38;5;124m'\u001b[39m\u001b[38;5;124mcoolwarm\u001b[39m\u001b[38;5;124m'\u001b[39m, linewidths\u001b[38;5;241m=\u001b[39m\u001b[38;5;241m0.5\u001b[39m)\n",
      "File \u001b[1;32m~\\anaconda3\\Lib\\site-packages\\pandas\\core\\frame.py:10054\u001b[0m, in \u001b[0;36mDataFrame.corr\u001b[1;34m(self, method, min_periods, numeric_only)\u001b[0m\n\u001b[0;32m  10052\u001b[0m cols \u001b[38;5;241m=\u001b[39m data\u001b[38;5;241m.\u001b[39mcolumns\n\u001b[0;32m  10053\u001b[0m idx \u001b[38;5;241m=\u001b[39m cols\u001b[38;5;241m.\u001b[39mcopy()\n\u001b[1;32m> 10054\u001b[0m mat \u001b[38;5;241m=\u001b[39m data\u001b[38;5;241m.\u001b[39mto_numpy(dtype\u001b[38;5;241m=\u001b[39m\u001b[38;5;28mfloat\u001b[39m, na_value\u001b[38;5;241m=\u001b[39mnp\u001b[38;5;241m.\u001b[39mnan, copy\u001b[38;5;241m=\u001b[39m\u001b[38;5;28;01mFalse\u001b[39;00m)\n\u001b[0;32m  10056\u001b[0m \u001b[38;5;28;01mif\u001b[39;00m method \u001b[38;5;241m==\u001b[39m \u001b[38;5;124m\"\u001b[39m\u001b[38;5;124mpearson\u001b[39m\u001b[38;5;124m\"\u001b[39m:\n\u001b[0;32m  10057\u001b[0m     correl \u001b[38;5;241m=\u001b[39m libalgos\u001b[38;5;241m.\u001b[39mnancorr(mat, minp\u001b[38;5;241m=\u001b[39mmin_periods)\n",
      "File \u001b[1;32m~\\anaconda3\\Lib\\site-packages\\pandas\\core\\frame.py:1838\u001b[0m, in \u001b[0;36mDataFrame.to_numpy\u001b[1;34m(self, dtype, copy, na_value)\u001b[0m\n\u001b[0;32m   1836\u001b[0m \u001b[38;5;28;01mif\u001b[39;00m dtype \u001b[38;5;129;01mis\u001b[39;00m \u001b[38;5;129;01mnot\u001b[39;00m \u001b[38;5;28;01mNone\u001b[39;00m:\n\u001b[0;32m   1837\u001b[0m     dtype \u001b[38;5;241m=\u001b[39m np\u001b[38;5;241m.\u001b[39mdtype(dtype)\n\u001b[1;32m-> 1838\u001b[0m result \u001b[38;5;241m=\u001b[39m \u001b[38;5;28mself\u001b[39m\u001b[38;5;241m.\u001b[39m_mgr\u001b[38;5;241m.\u001b[39mas_array(dtype\u001b[38;5;241m=\u001b[39mdtype, copy\u001b[38;5;241m=\u001b[39mcopy, na_value\u001b[38;5;241m=\u001b[39mna_value)\n\u001b[0;32m   1839\u001b[0m \u001b[38;5;28;01mif\u001b[39;00m result\u001b[38;5;241m.\u001b[39mdtype \u001b[38;5;129;01mis\u001b[39;00m \u001b[38;5;129;01mnot\u001b[39;00m dtype:\n\u001b[0;32m   1840\u001b[0m     result \u001b[38;5;241m=\u001b[39m np\u001b[38;5;241m.\u001b[39marray(result, dtype\u001b[38;5;241m=\u001b[39mdtype, copy\u001b[38;5;241m=\u001b[39m\u001b[38;5;28;01mFalse\u001b[39;00m)\n",
      "File \u001b[1;32m~\\anaconda3\\Lib\\site-packages\\pandas\\core\\internals\\managers.py:1732\u001b[0m, in \u001b[0;36mBlockManager.as_array\u001b[1;34m(self, dtype, copy, na_value)\u001b[0m\n\u001b[0;32m   1730\u001b[0m         arr\u001b[38;5;241m.\u001b[39mflags\u001b[38;5;241m.\u001b[39mwriteable \u001b[38;5;241m=\u001b[39m \u001b[38;5;28;01mFalse\u001b[39;00m\n\u001b[0;32m   1731\u001b[0m \u001b[38;5;28;01melse\u001b[39;00m:\n\u001b[1;32m-> 1732\u001b[0m     arr \u001b[38;5;241m=\u001b[39m \u001b[38;5;28mself\u001b[39m\u001b[38;5;241m.\u001b[39m_interleave(dtype\u001b[38;5;241m=\u001b[39mdtype, na_value\u001b[38;5;241m=\u001b[39mna_value)\n\u001b[0;32m   1733\u001b[0m     \u001b[38;5;66;03m# The underlying data was copied within _interleave, so no need\u001b[39;00m\n\u001b[0;32m   1734\u001b[0m     \u001b[38;5;66;03m# to further copy if copy=True or setting na_value\u001b[39;00m\n\u001b[0;32m   1736\u001b[0m \u001b[38;5;28;01mif\u001b[39;00m na_value \u001b[38;5;129;01mis\u001b[39;00m \u001b[38;5;129;01mnot\u001b[39;00m lib\u001b[38;5;241m.\u001b[39mno_default:\n",
      "File \u001b[1;32m~\\anaconda3\\Lib\\site-packages\\pandas\\core\\internals\\managers.py:1794\u001b[0m, in \u001b[0;36mBlockManager._interleave\u001b[1;34m(self, dtype, na_value)\u001b[0m\n\u001b[0;32m   1792\u001b[0m     \u001b[38;5;28;01melse\u001b[39;00m:\n\u001b[0;32m   1793\u001b[0m         arr \u001b[38;5;241m=\u001b[39m blk\u001b[38;5;241m.\u001b[39mget_values(dtype)\n\u001b[1;32m-> 1794\u001b[0m     result[rl\u001b[38;5;241m.\u001b[39mindexer] \u001b[38;5;241m=\u001b[39m arr\n\u001b[0;32m   1795\u001b[0m     itemmask[rl\u001b[38;5;241m.\u001b[39mindexer] \u001b[38;5;241m=\u001b[39m \u001b[38;5;241m1\u001b[39m\n\u001b[0;32m   1797\u001b[0m \u001b[38;5;28;01mif\u001b[39;00m \u001b[38;5;129;01mnot\u001b[39;00m itemmask\u001b[38;5;241m.\u001b[39mall():\n",
      "\u001b[1;31mValueError\u001b[0m: could not convert string to float: '6/14/2022 20:02'"
     ]
    }
   ],
   "source": [
    "correlation = postp_df['Irritable towards baby & partner numric'].corr(postp_df['Problems of bonding with baby numric'])\n",
    "correlation\n",
    "sns.heatmap(postp_df.corr(), annot=True, cmap='coolwarm', linewidths=0.5)\n"
   ]
  },
  {
   "cell_type": "code",
   "execution_count": null,
   "id": "68e2ee49-50e7-4a03-9846-2211046883bc",
   "metadata": {},
   "outputs": [],
   "source": []
  },
  {
   "cell_type": "code",
   "execution_count": null,
   "id": "2b253b51-a65c-4e63-8fa1-4b22caad16a6",
   "metadata": {
    "tags": []
   },
   "outputs": [],
   "source": [
    "sizes = [181, 338, 349, 364, 271]\n",
    "labels = [\"25-30\", \"30-35\", \"35-40\", \"40-45\", \"45-50\"]\n",
    "\n",
    "# יצירת גרף פאי\n",
    "plt.figure(figsize=(6, 6))\n",
    "sns.set_palette(\"pastel\")\n",
    "plt.pie(sizes, labels=labels, autopct='%1.1f%%')\n",
    "\n",
    "# הצגת הגרף\n",
    "plt.show()"
   ]
  },
  {
   "cell_type": "markdown",
   "id": "3f2ea6e6-12fa-41fe-aded-a349e1a22b0f",
   "metadata": {},
   "source": [
    "ע\"פ המיצג ניתן לראות כי בטווח הגילאים הצעיר ביותר רק כ12 אחוז מכלל הנשים במחקר סובלות מדיכאון לעומת יתר קבוצות הגילאים במחקר  "
   ]
  },
  {
   "cell_type": "code",
   "execution_count": null,
   "id": "88795700-3c64-43de-9ea6-b09f5d90bb55",
   "metadata": {
    "tags": []
   },
   "outputs": [],
   "source": [
    "plt.figure(figsize=(12, 6))\n",
    "column_order = [\"25-30\", \"30-35\", \"35-40\", \"40-45\", \"45-50\"]\n",
    "sns.countplot(x='Age', hue='Suicide attempt', data=postp_df, palette='Set2', order=column_order)\n",
    "\n",
    "# הגדרת כותרת ותוויות צירים\n",
    "plt.title('Distribution of Suicide Attempts by Age Group')\n",
    "plt.xlabel('Age Group')\n",
    "plt.ylabel('Count of Participants')\n",
    "\n",
    "# חידוש התצוגה\n",
    "plt.legend(title='Suicide attempt')\n",
    "plt.xticks(rotation=45)\n",
    "plt.tight_layout()\n",
    "plt.show()"
   ]
  },
  {
   "cell_type": "markdown",
   "id": "f46dd503-8043-461a-b139-c3f6aaf4ec90",
   "metadata": {},
   "source": [
    "אצל הצעירים מבחינת אחוזים אצלם זה האחוז הגבוה ביותר בקרב הבנות שניסו להתאבד לעומת שאר קטגוריות הגילאים\n",
    "המספר מאוד קרוב בגילאי 25-30 בין כאלה שדיווחו שניסו להתאבד לעומת אלה שניסחו שלא. אנחנו משערים כי לפחות 70 אחוז מאלה שציינו כי לא מעוניינות להגיד כי התשובה שלהן היא כי אכן ניסו להתאבד. כאשר מחברים בין הנתונים יוצא כי יש הרבה יותר בנות שניסו להתאבד מאשר כאלה שלא. לעומת שאר הקטגוריות שגם אם נחבר את ההשערה לא יהיה מעקף דרסטי בין כאלה שניסו להתאבד לעומת כאלה שלא "
   ]
  },
  {
   "cell_type": "code",
   "execution_count": null,
   "id": "35319bac-19c3-45c0-8a19-809c66fe99c1",
   "metadata": {},
   "outputs": [],
   "source": []
  },
  {
   "cell_type": "code",
   "execution_count": null,
   "id": "af1ec733-a608-4478-b6f3-7e9f4726a801",
   "metadata": {},
   "outputs": [],
   "source": []
  },
  {
   "cell_type": "code",
   "execution_count": null,
   "id": "66905ff9-82e9-4100-9623-1126b4d022ee",
   "metadata": {},
   "outputs": [],
   "source": []
  },
  {
   "cell_type": "code",
   "execution_count": null,
   "id": "2c6b9d51-b351-497d-b761-e9910db4697e",
   "metadata": {},
   "outputs": [],
   "source": []
  },
  {
   "cell_type": "code",
   "execution_count": null,
   "id": "ae91db3c-2c92-4137-b0e2-bde49f24b301",
   "metadata": {
    "tags": []
   },
   "outputs": [],
   "source": [
    "# להוסיף את המטרה שלשמה עשינו את הפרוייקט? אולי העלאת המודעות בקרב הציבור על דיכאון לאחר לידה?"
   ]
  },
  {
   "cell_type": "code",
   "execution_count": null,
   "id": "805ffc50-484d-44ed-b423-60c29eb0e510",
   "metadata": {},
   "outputs": [],
   "source": []
  }
 ],
 "metadata": {
  "kernelspec": {
   "display_name": "Python 3 (ipykernel)",
   "language": "python",
   "name": "python3"
  },
  "language_info": {
   "codemirror_mode": {
    "name": "ipython",
    "version": 3
   },
   "file_extension": ".py",
   "mimetype": "text/x-python",
   "name": "python",
   "nbconvert_exporter": "python",
   "pygments_lexer": "ipython3",
   "version": "3.11.5"
  }
 },
 "nbformat": 4,
 "nbformat_minor": 5
}
